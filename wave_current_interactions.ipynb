{
 "cells": [
  {
   "cell_type": "code",
   "execution_count": 1,
   "metadata": {},
   "outputs": [],
   "source": [
    "from typing import NamedTuple\n",
    "import sympy as sym\n",
    "from sympy.utilities.lambdify import lambdastr\n",
    "import numpy as np\n",
    "import numpy.typing as npt\n",
    "import matplotlib.pyplot as plt\n",
    "import matplotlib.colors as mcolors\n",
    "from IPython.display import display, Markdown\n",
    "from scipy import integrate\n",
    "from scipy.integrate import solve_bvp, solve_ivp\n",
    "from scipy.special import jv\n",
    "from scipy import optimize\n",
    "from typing import Callable\n",
    "# from __module_initialize_v0 import *\n",
    "from module_initialize import *"
   ]
  },
  {
   "cell_type": "code",
   "execution_count": 2,
   "metadata": {},
   "outputs": [],
   "source": [
    "def create_experiment(main_wave: bool, oblique_wave: bool, shear_flow: bool):\n",
    "    POF = module_POF(main_wave = main_wave, oblique_wave = oblique_wave, shear_flow = shear_flow)\n",
    "    members = (attr for attr in dir(POF) if not callable(getattr(POF, attr)) and not (attr.startswith(\"__\") or attr.startswith(\"_\")))\n",
    "    methods = (attr for attr in dir(POF) if callable(getattr(POF, attr)) and not (attr.startswith(\"__\") or attr.startswith(\"_\")))\n",
    "\n",
    "    for member in members if members else []:\n",
    "        globals()[member] = getattr(POF, member)\n",
    "\n",
    "    for method in methods if methods else []:\n",
    "        globals()[method] = getattr(POF, method)\n",
    "    \n",
    "    del POF\n",
    "\n",
    "    return bool(members) or bool(methods)"
   ]
  },
  {
   "cell_type": "code",
   "execution_count": 3,
   "metadata": {},
   "outputs": [
    {
     "data": {
      "text/plain": [
       "True"
      ]
     },
     "execution_count": 3,
     "metadata": {},
     "output_type": "execute_result"
    }
   ],
   "source": [
    "if_main_wave = True\n",
    "if_oblique_wave = True\n",
    "if_shear_flow = True\n",
    "create_experiment(main_wave = if_main_wave, oblique_wave = if_oblique_wave, shear_flow = if_shear_flow)"
   ]
  },
  {
   "cell_type": "code",
   "execution_count": 43,
   "metadata": {},
   "outputs": [],
   "source": [
    "def get_stokes_drift(verbose = False):\n",
    "\n",
    "    # Us0\n",
    "    verbose_print(verbose, 'Initial wave: ')\n",
    "    verbose_display(verbose, sym.Eq(sym_phi0_symbol, sym_phi0))\n",
    "    sym_u0x, sym_u0y, sym_u0z = (sym_phi0.diff(var) for var in (sym_x, sym_y, sym_z))\n",
    "\n",
    "    sym_Us0x = (sym.I * sym_u0y / sym_omega * sym_u0x.conjugate()).diff(sym_y) + \\\n",
    "                (sym.I * sym_u0z / sym_omega * sym_u0x.conjugate()).diff(sym_z)\n",
    "    sym_Us0x = sym_Us0x / 2\n",
    "    sym_Us0y = 0\n",
    "    sym_Us0x = sym_Us0x.subs(sym_psi0, - sym.I * sym_omega * sym_h0) #!!!!!!!!!\n",
    "    sym_Us0x = sym_Us0x.simplify()\n",
    "    \n",
    "    verbose_display(verbose, sym.Eq(sym.Symbol(r'U^{s0}_x'), sym_Us0x))\n",
    "\n",
    "    # dUs\n",
    "    verbose_print(verbose, 'Oblique wave: ')\n",
    "    verbose_display(verbose, sym.Eq(sym_dphi_symbol, sym_dphi))\n",
    "    sym_dux, sym_duy, sym_duz = (sym_dphi.diff(var) for var in (sym_x, sym_y, sym_z))\n",
    "\n",
    "    sym_dUsx = (sym.I * sym_duy / sym_omega * (sym_u0x).conjugate()).diff(sym_y) + \\\n",
    "                (sym.I * sym_duz / sym_omega * (sym_u0x).conjugate()).diff(sym_z) + \\\n",
    "                ((sym.I * sym_u0y / sym_omega).conjugate() * sym_dux).diff(sym_y) + \\\n",
    "                ((sym.I * sym_u0z / sym_omega).conjugate() * sym_dux).diff(sym_z)\n",
    "    sym_dUsx = sym_dUsx / 2\n",
    "    sym_dUsy = (sym.I * sym_dux / sym_omega * (sym_u0y).conjugate()).diff(sym_x) + \\\n",
    "                (sym.I * sym_duz / sym_omega * (sym_u0y).conjugate()).diff(sym_z) + \\\n",
    "                ((sym.I * sym_u0x / sym_omega).conjugate() * sym_duy).diff(sym_x) + \\\n",
    "                ((sym.I * sym_u0z / sym_omega).conjugate() * sym_duy).diff(sym_z)\n",
    "    sym_dUsy = sym_dUsy / 2\n",
    "    \n",
    "    sym_dUsx = sym_dUsx.subs(sym_psi0, - sym.I * sym_omega * sym_h0)\n",
    "    sym_dUsy = sym_dUsy.subs(sym_psi0, - sym.I * sym_omega * sym_h0)\n",
    "\n",
    "    sym_dUsx = sym_dUsx.simplify()\n",
    "    sym_dUsy = sym_dUsy.simplify()\n",
    "\n",
    "    verbose_display(verbose, sym.Eq(sym.Symbol(r'\\delta U^s_x'), sym_dUsx))\n",
    "    verbose_display(verbose, sym.Eq(sym.Symbol(r'\\delta U^s_y'), sym_dUsy))\n",
    "\n",
    "    return (sym_Us0x, sym_Us0y, 0), (sym_alpha * sym_dUsx, sym_alpha * sym_dUsy, 0)\n",
    "\n",
    "\n",
    "def get_vortex_force(verbose = False):\n",
    "\n",
    "    sym_Us0_vec, sym_dUs_vec = get_stokes_drift(verbose = verbose)\n",
    "     \n",
    "    sym_vec_O0 = (0, sym_O0, 0)\n",
    "\n",
    "    sym_dfV_1 = vector_mult(sym_Us0_vec, sym_vec_dO) \n",
    "    sym_dfV_2 = vector_mult(sym_dUs_vec, sym_vec_O0)\n",
    "\n",
    "    sym_dfV = tuple(map(lambda x, y: x + y, sym_dfV_1, sym_dfV_2))\n",
    "    sym_dfV = simplify_vector(sym_dfV)\n",
    "    sym_curl_dfV = curl(sym_dfV)\n",
    "    sym_curl_dfV = simplify_vector(sym_curl_dfV)\n",
    "\n",
    "    verbose_display(verbose, sym.Eq(sym.Symbol(r'\\delta{f^V}_x'), sym_dfV[0]))\n",
    "    verbose_display(verbose, sym.Eq(sym.Symbol(r'\\delta{f^V}_y'), sym_dfV[1]))\n",
    "    verbose_display(verbose, sym.Eq(sym.Symbol(r'\\delta{f^V}_z'), sym_dfV[2]))\n",
    "    verbose_display(verbose, sym.Eq(sym.Symbol(r'\\big(\\operatorname{curl}\\delta{f^V}\\big)_x'), sym_curl_dfV[0]))\n",
    "    verbose_display(verbose, sym.Eq(sym.Symbol(r'\\big(\\operatorname{curl}\\delta{f^V}\\big)_y'), sym_curl_dfV[1]))\n",
    "    verbose_display(verbose, sym.Eq(sym.Symbol(r'\\big(\\operatorname{curl}\\delta{f^V}\\big)_z'), sym_curl_dfV[2]))\n",
    "\n",
    "    return sym_dfV, sym_curl_dfV\n",
    "\n",
    "\n",
    "def get_equation_dPsi(verbose = False):\n",
    "\n",
    "    sym_dfV, sym_curl_dfV = get_vortex_force(verbose = verbose)\n",
    "    sym_dfVx = sym_dfV[0]\n",
    "    sym_curl_dfVx = sym_curl_dfV[0]\n",
    "\n",
    "    laplas = lambda expr: expr.diff(sym_x, 2) + expr.diff(sym_y, 2) + expr.diff(sym_z, 2)\n",
    "\n",
    "    sym_nu = 0\n",
    "\n",
    "    # equation (38)\n",
    "    sym_equation_dOx = (sym_lambda * sym_dOx - sym_nu * laplas(sym_dOx) + sym_V0_symbol * sym_dOx.diff(sym_x)) - \\\n",
    "                        sym_O0 * (sym_dOz + sym_dVx.diff(sym_y)) - sym_curl_dfVx\n",
    "    sym_equation_dOx = sym_equation_dOx.simplify()\n",
    "\n",
    "    # equation (39)\n",
    "    sym_equation_dVx = (sym_lambda * sym_dVx - sym_nu * laplas(sym_dVx) + sym_V0_symbol * sym_dVx.diff(sym_x)) + \\\n",
    "                        sym_dVz * sym_O0 - sym_dfVx\n",
    "    sym_equation_dVx = sym_equation_dVx.simplify()\n",
    "\n",
    "    verbose_print(verbose, \"Initial equations: \")\n",
    "    verbose_display(verbose, sym.Eq(sym_equation_dVx, 0))\n",
    "    verbose_display(verbose, sym.Eq(sym_equation_dOx, 0))\n",
    "\n",
    "    sym_dVx_to_dPsi = sym.solve(sym_equation_dVx, sym_dVx_symbol)[0]\n",
    "    sym_dVy_to_dPsi = sym_dPsi.diff(sym_z)\n",
    "    sym_dVz_to_dPsi = -sym.I * sym_theta * sym_dPsi\n",
    "    sym_dVx_to_dPsi = sym_dVx_to_dPsi.subs(sym_dVz_symbol, sym_dVz_to_dPsi)\n",
    "\n",
    "    verbose_display(verbose, sym.Eq(sym_dVx_symbol, sym_dVx_to_dPsi))\n",
    "    verbose_display(verbose, sym.Eq(sym_dVy_symbol, sym_dVy_to_dPsi))\n",
    "    verbose_display(verbose, sym.Eq(sym_dVz_symbol, sym_dVz_to_dPsi))\n",
    "\n",
    "    substitutions_dV_to_dPsi = ((sym_dVx_symbol, sym_dVx_to_dPsi), (sym_dVy_symbol, sym_dVy_to_dPsi), (sym_dVz_symbol, sym_dVz_to_dPsi))\n",
    "    sym_equation_dPsi = substitute(sym_equation_dOx, substitutions_dV_to_dPsi)\n",
    "    sym_equation_dPsi = sym_equation_dPsi.simplify()\n",
    "\n",
    "    over_prefactor = sym.exp(-sym.I * sym_theta * sym_y - sym_lambda * sym_t)\n",
    "    sym_equation_dPsi = sym_equation_dPsi * over_prefactor\n",
    "    sym_equation_dPsi = sym_equation_dPsi.simplify()\n",
    "\n",
    "    sym_equation_dPsi = sym_equation_dPsi.simplify().simplify()\n",
    "    sym_equation_dPsi = simplify_eq_with_assumptions(sym.Eq(sym_equation_dPsi, 0)).lhs\n",
    "    sym_equation_dPsi = sym_equation_dPsi.simplify()\n",
    "\n",
    "    verbose_print(verbose, \"Final equation: \")\n",
    "    verbose_display(verbose, sym.Eq(sym_equation_dPsi, 0))\n",
    "\n",
    "    return sym_equation_dPsi, substitutions_dV_to_dPsi\n",
    "\n",
    "\n",
    "def get_main_equations(small_theta_factor = None, verbose = False, super_verbose = False):\n",
    "\n",
    "    # Printing global dimensionless substitutions\n",
    "    if super_verbose: print_substitutions(substitutions_dimensionless)\n",
    "\n",
    "    # Getting dPsi equation\n",
    "    sym_equation_dPsi, substitutions_dV_to_dPsi = get_equation_dPsi(verbose = super_verbose)\n",
    "    sym_d2z_dPsi_expr = sym.solve(sym_equation_dPsi, sym_d2z_dPsi)[0]\n",
    "    verbose_display(verbose, sym.Eq(sym_d2z_dPsi, sym_d2z_dPsi_expr))\n",
    "    if verbose: print_substitutions(substitutions_dV_to_dPsi)\n",
    "\n",
    "\n",
    "    # First boundary condition\n",
    "    verbose_print(verbose, 'First bc: ')\n",
    "    sym_bc_1 = sym_bc_1_initial\n",
    "    verbose_display(verbose, sym_bc_1)\n",
    "    sym_bc_1 = substitute(sym_bc_1, substitutions_dV_to_dPsi).simplify()\n",
    "    verbose_display(super_verbose, sym_bc_1)\n",
    "    # Dimensionless substitution\n",
    "    sym_bc_1 = substitute(sym_bc_1, substitutions_dimensionless)\n",
    "    sym_bc_1 = sym_bc_1.simplify()\n",
    "    sym_bc_1 = simplify_eq_with_assumptions(sym.Eq(sym_bc_1, 0)).lhs\n",
    "    verbose_display(verbose, sym_bc_1)\n",
    "\n",
    "    # Second boundary condition\n",
    "    verbose_print(verbose, 'Second bc: ')\n",
    "    sym_bc_2 = sym_bc_2_initial\n",
    "    verbose_display(verbose, sym_bc_2)\n",
    "    substitutions_dp = ((sym_dp_symbol, sym_dp), (sym_dp_int_symbol, sym_dp_int))\n",
    "    sym_bc_2 = substitute(sym_bc_2, substitutions_dp).simplify()\n",
    "    verbose_display(super_verbose, sym_bc_2)\n",
    "    sym_bc_2 = substitute(sym_bc_2, substitutions_dV_to_dPsi).simplify()\n",
    "    verbose_display(super_verbose, sym_bc_2)\n",
    "    sym_bc_2 = sym_bc_2.replace(sym_d2z_dPsi, sym_d2z_dPsi_expr).simplify()\n",
    "    sym_bc_2 = simplify_eq_with_assumptions(sym.Eq(sym_bc_2, 0)).lhs\n",
    "    verbose_display(super_verbose, sym_bc_2)\n",
    "    # Dimensionless substitution\n",
    "    sym_bc_2 = substitute(sym_bc_2, substitutions_dimensionless)\n",
    "    sym_bc_2 = sym_bc_2.simplify()\n",
    "    verbose_display(super_verbose, sym_bc_2)\n",
    "\n",
    "    # Getting pressure expression\n",
    "    sym_dp_int_dim = sym_bc_2.find(sym.Integral)\n",
    "    sym_dp_int_dim = sym_dp_int_dim.pop() if sym_dp_int_dim else sym.S.Zero\n",
    "    \n",
    "    sym_bc_2 = sym_bc_2.subs(sym_dp_int_dim, sym_dp_int_dim_symbol).simplify()\n",
    "    verbose_display(verbose, sym_bc_2)\n",
    "    sym_bc_2 = simplify_eq_with_assumptions(sym.Eq(sym_bc_2, 0)).lhs\n",
    "    verbose_display(verbose, sym_bc_2)\n",
    "    verbose_display(verbose, sym.Eq(sym_dp_int_dim_symbol, sym_dp_int_dim, evaluate = False))\n",
    "    verbose_print(verbose)\n",
    "\n",
    "    # dPsi equation dimensionless substitution\n",
    "    sym_equation_dPsi = substitute(sym_equation_dPsi, substitutions_dimensionless).simplify()\n",
    "    sym_d2z_dPsi_dim_expr = sym.solve(sym_equation_dPsi, sym_dPsi_dim.diff(sym_z, 2))[0]\n",
    "    sym_d2z_dPsi_dim_expr = sym_d2z_dPsi_dim_expr.simplify()\n",
    "    verbose_display(verbose, sym.Eq(sym_d2z_dPsi_dim_symbol, sym_d2z_dPsi_dim_expr))\n",
    "\n",
    "    # lambda equation\n",
    "    if if_oblique_wave: \n",
    "        sym_bc_matrix = sym.linear_eq_to_matrix([sym_bc_1, sym_bc_2], [sym_dh_dim, sym_dpsi_dim])[0]\n",
    "        sym_eq_lambda = sym_bc_matrix.det()\n",
    "        sym_eq_lambda = sym_eq_lambda.simplify()\n",
    "        sym_eq_lambda = simplify_eq_with_assumptions(sym.Eq(sym_eq_lambda, 0)).lhs\n",
    "        sym_eq_lambda = sym_eq_lambda.subs((sym_theta**2 + 1), sym_zu**2).simplify().subs(sym_zu**2, (sym_theta**2 + 1))\n",
    "        verbose_display(verbose, sym_eq_lambda)\n",
    "    else:\n",
    "        sym_eq_lambda = None\n",
    "    \n",
    "\n",
    "    return sym_dp_int_dim, sym_d2z_dPsi_dim_expr, sym_eq_lambda, sym_bc_matrix\n",
    "\n",
    "\n",
    "def check_previous_results(sym_dp_int_dim, sym_d2z_dPsi_dim_expr, sym_eq_lambda):\n",
    "    # sym_epsilon_prime = sym.Symbol(r'\\epsilon^`')\n",
    "    # display(sym_epsilon_prime)\n",
    "    # substitution_epsilon = ((sym_epsilon, sym_epsilon_prime /(1 + sym_epsilon_prime / 4)),)\n",
    "\n",
    "    # print_substitutions(substitution_epsilon)\n",
    "    print('Initial substitutions')\n",
    "    print_substitutions(substitutions_dimensionless)\n",
    "    print()\n",
    "    sym_mu_def_initial = sym.sqrt(2 * sym_O0 * sym_omega) * sym_h0 * sym_theta / sym_lambda\n",
    "    sym_mu_expr = substitute(sym_mu_def_initial, substitutions_dimensionless).simplify()\n",
    "    sym_lambda_dim_from_mu = sym.solve(sym.Eq(sym_mu_expr, sym_mu), sym_lambda_dim)[0]\n",
    "    # sym_lambda_dim_from_mu = sym.sqrt(sym_epsilon) * sym_theta * sym_h0 / sym_mu\n",
    "    sym_dPsi_new = sym.Function(r'\\tilde{\\delta{\\Psi\\Psi}}')(sym_z)\n",
    "    # sym_dpsi_dim = sym.Symbol(r'\\tilde{\\delta\\psi}', nonzero = True, zero = False)\n",
    "    substitutions_mu = ((sym_lambda_dim, sym_lambda_dim_from_mu),\n",
    "                        # (sym_dPsi_dim, sym_dPsi_dim))\n",
    "                        (sym_dPsi_dim, sym_dPsi_new * sym_mu))\n",
    "    # sym_dPsi_dim = sym_dPsi_new\n",
    "    print_substitutions(substitutions_mu)\n",
    "\n",
    "    # dPsi equation\n",
    "    print('1) Validating eq (51) from POF')\n",
    "    tmp_d2z_dPsi_dim_expr = substitute(sym_d2z_dPsi_dim_expr, substitutions_mu).simplify()\n",
    "    display(tmp_d2z_dPsi_dim_expr)\n",
    "    print('Small theta and small epsilon: ')\n",
    "    tmp_d2z_dPsi_dim_expr_small = tmp_d2z_dPsi_dim_expr.subs(sym_theta**2 + 1, 1).simplify()\n",
    "    tmp_d2z_dPsi_dim_expr_small = tmp_d2z_dPsi_dim_expr_small.series(sym_epsilon, x0 = 0, n = 1).removeO()\n",
    "    tmp_d2z_dPsi_dim_expr_small = tmp_d2z_dPsi_dim_expr_small.simplify()\n",
    "    display(tmp_d2z_dPsi_dim_expr_small)\n",
    "\n",
    "    # dp integral\n",
    "    print('2) Validating dp integral')\n",
    "    tmp_dp_int = substitute(sym_dp_int_dim, substitutions_mu).simplify()\n",
    "    display(tmp_dp_int)\n",
    "    print('Small theta: ')\n",
    "    tmp_dp_int_small = tmp_dp_int.subs(sym_theta**2 + 1, 1).simplify()\n",
    "    display(tmp_dp_int_small)\n",
    "    print('Small epsilon: ')\n",
    "    integral = tmp_dp_int_small.find(sym.Integral).pop()\n",
    "    tmp_dp_int_small= tmp_dp_int_small.subs(integral, sym_zu)\n",
    "    expr, limits = integral.args\n",
    "    expr = expr.series(sym_epsilon, x0 = 0, n = 1).removeO()\n",
    "    integral = sym.Integral(expr, limits)\n",
    "    tmp_dp_int_small = tmp_dp_int_small.subs(sym_zu, integral).simplify()\n",
    "    display(tmp_dp_int_small)\n",
    "\n",
    "    # mu equation\n",
    "    print('3) Validating mu equation')\n",
    "    tmp_eq_mu = substitute(sym_eq_lambda, substitutions_mu).simplify()\n",
    "    display(tmp_eq_mu) \n",
    "    tmp_eq_mu = tmp_eq_mu.args[3]\n",
    "    display(tmp_eq_mu) \n",
    "    tmp_eq_mu = tmp_eq_mu.subs(sym_dp_int_dim_symbol, tmp_dp_int)\n",
    "    dp_int = tmp_eq_mu.find(sym.Integral).pop()\n",
    "    display(dp_int)\n",
    "    tmp_eq_mu = tmp_eq_mu.subs(dp_int, sym_dp_int_dim_symbol)\n",
    "    tmp_eq_mu = tmp_eq_mu.simplify()\n",
    "    display(tmp_eq_mu)\n",
    "    print('Small theta: ')\n",
    "    tmp_eq_mu = tmp_eq_mu.series(sym_theta, x0 = 0, n = 2).removeO()\n",
    "    tmp_eq_mu = tmp_eq_mu.collect(sym_epsilon).simplify()\n",
    "    tmp_eq_mu = tmp_eq_mu.args[5]\n",
    "    display(tmp_eq_mu)\n",
    "    print('Small epsilon: ')\n",
    "    tmp_eq_mu = tmp_eq_mu.series(sym_epsilon, x0 = 0, n = 1).removeO()\n",
    "    display(tmp_eq_mu)\n",
    "    print('\\nGamma = 0')\n",
    "    tmp_eq_mu_gamma_eq_0 = tmp_eq_mu.subs(sym_gamma1, 0).simplify()\n",
    "    display(tmp_eq_mu_gamma_eq_0)\n",
    "    print('\\nGamma = 1')\n",
    "    tmp_eq_mu_gamma_eq_1 = tmp_eq_mu.subs(sym_gamma1, 1).simplify()\n",
    "    display(tmp_eq_mu_gamma_eq_1)\n",
    "    # print('\\nBig gamma: ')\n",
    "    # tmp_gamma = 1 - sym_zu\n",
    "    # display(sym.Eq(sym_gamma, tmp_gamma))\n",
    "    # tmp_eq_mu_gamma_near1 = tmp_eq_mu.subs(sym_gamma, tmp_gamma)\n",
    "    # display(tmp_eq_mu_gamma_near1)\n",
    "    # tmp_eq_mu_gamma_near1 = tmp_eq_mu_gamma_near1.series(sym_zu, x0 = 0, n = 2).removeO()\n",
    "    # tmp_eq_mu_gamma_near1 = tmp_eq_mu_gamma_near1.collect(sym_epsilon).simplify()\n",
    "    # display(tmp_eq_mu_gamma_near1)\n",
    "    print('\\n\\twhere')\n",
    "    dp_int_small = dp_int.series(sym_epsilon, x0 = 0, n = 1).removeO().subs(sym_theta**2 + 1, 1).simplify()\n",
    "    display(sym.Eq(dp_int, dp_int_small))"
   ]
  },
  {
   "cell_type": "code",
   "execution_count": 44,
   "metadata": {},
   "outputs": [
    {
     "data": {
      "text/latex": [
       "$\\displaystyle 4 \\alpha \\epsilon^{\\frac{7}{2}} \\gamma^{2} \\theta \\tilde{\\lambda}^{2} h^{\\scriptsize{(0)}} \\frac{d}{d z} \\tilde{\\delta\\Psi}{\\left(z \\right)} - 16 i \\alpha \\epsilon^{\\frac{5}{2}} \\gamma \\theta \\tilde{\\lambda}^{3} h^{\\scriptsize{(0)}} \\frac{d}{d z} \\tilde{\\delta\\Psi}{\\left(z \\right)} - 32 \\alpha \\epsilon^{\\frac{5}{2}} \\gamma \\theta \\tilde{\\lambda}^{2} h^{\\scriptsize{(0)}} \\frac{d}{d z} \\tilde{\\delta\\Psi}{\\left(z \\right)} + 64 i \\alpha \\epsilon^{\\frac{3}{2}} \\theta \\tilde{\\lambda}^{3} h^{\\scriptsize{(0)}} \\frac{d}{d z} \\tilde{\\delta\\Psi}{\\left(z \\right)} + 64 \\alpha \\epsilon^{\\frac{3}{2}} \\theta \\tilde{\\lambda}^{2} h^{\\scriptsize{(0)}} \\frac{d}{d z} \\tilde{\\delta\\Psi}{\\left(z \\right)} + 128 i \\alpha \\sqrt{\\epsilon} \\theta \\tilde{\\lambda}^{3} h^{\\scriptsize{(0)}} \\sqrt{\\theta^{2} + 1} \\frac{d}{d z} \\tilde{\\delta\\Psi}{\\left(z \\right)} - \\alpha \\epsilon^{4} \\gamma^{2} \\overline{\\delta{p}}^{\\varpi}_{int} \\theta^{2} \\left(h^{\\scriptsize{(0)}}\\right)^{2} - 2 i \\alpha \\epsilon^{3} \\gamma^{2} \\overline{\\delta{p}}^{\\varpi}_{int} \\theta^{2} \\tilde{\\lambda} \\left(h^{\\scriptsize{(0)}}\\right)^{2} + 4 i \\alpha \\epsilon^{3} \\gamma \\overline{\\delta{p}}^{\\varpi}_{int} \\theta^{2} \\tilde{\\lambda} \\left(h^{\\scriptsize{(0)}}\\right)^{2} + 8 \\alpha \\epsilon^{3} \\gamma \\overline{\\delta{p}}^{\\varpi}_{int} \\theta^{2} \\left(h^{\\scriptsize{(0)}}\\right)^{2} - 8 \\alpha \\epsilon^{2} \\gamma \\overline{\\delta{p}}^{\\varpi}_{int} \\theta^{2} \\tilde{\\lambda}^{2} \\left(h^{\\scriptsize{(0)}}\\right)^{2} + 16 i \\alpha \\epsilon^{2} \\gamma \\overline{\\delta{p}}^{\\varpi}_{int} \\theta^{2} \\tilde{\\lambda} \\left(h^{\\scriptsize{(0)}}\\right)^{2} - 16 i \\alpha \\epsilon^{2} \\overline{\\delta{p}}^{\\varpi}_{int} \\theta^{2} \\tilde{\\lambda} \\left(h^{\\scriptsize{(0)}}\\right)^{2} - 16 \\alpha \\epsilon^{2} \\overline{\\delta{p}}^{\\varpi}_{int} \\theta^{2} \\left(h^{\\scriptsize{(0)}}\\right)^{2} + 32 \\alpha \\epsilon \\overline{\\delta{p}}^{\\varpi}_{int} \\theta^{2} \\tilde{\\lambda}^{2} \\left(h^{\\scriptsize{(0)}}\\right)^{2} - 32 i \\alpha \\epsilon \\overline{\\delta{p}}^{\\varpi}_{int} \\theta^{2} \\tilde{\\lambda} \\left(h^{\\scriptsize{(0)}}\\right)^{2} + 8 \\epsilon^{2} \\gamma^{2} \\tilde{\\lambda}^{3} \\sqrt{\\theta^{2} + 1} - 16 \\epsilon^{2} \\gamma \\tilde{\\lambda}^{3} - 64 i \\epsilon \\gamma \\tilde{\\lambda}^{4} \\sqrt{\\theta^{2} + 1} - 64 \\epsilon \\gamma \\tilde{\\lambda}^{3} \\sqrt{\\theta^{2} + 1} + 64 i \\epsilon \\tilde{\\lambda}^{4} + 64 \\epsilon \\tilde{\\lambda}^{3} - 128 \\theta^{2} \\tilde{\\lambda}^{3} - 128 \\tilde{\\lambda}^{5} \\sqrt{\\theta^{2} + 1} + 256 i \\tilde{\\lambda}^{4} \\sqrt{\\theta^{2} + 1} + 128 \\tilde{\\lambda}^{3} \\sqrt{\\theta^{2} + 1} - 128 \\tilde{\\lambda}^{3}$"
      ],
      "text/plain": [
       "4*\\alpha*\\epsilon**(7/2)*\\gamma**2*\\theta*\\tilde{\\lambda}**2*h^{\\scriptsize{(0)}}*Derivative(\\tilde{\\delta\\Psi}(z), z) - 16*I*\\alpha*\\epsilon**(5/2)*\\gamma*\\theta*\\tilde{\\lambda}**3*h^{\\scriptsize{(0)}}*Derivative(\\tilde{\\delta\\Psi}(z), z) - 32*\\alpha*\\epsilon**(5/2)*\\gamma*\\theta*\\tilde{\\lambda}**2*h^{\\scriptsize{(0)}}*Derivative(\\tilde{\\delta\\Psi}(z), z) + 64*I*\\alpha*\\epsilon**(3/2)*\\theta*\\tilde{\\lambda}**3*h^{\\scriptsize{(0)}}*Derivative(\\tilde{\\delta\\Psi}(z), z) + 64*\\alpha*\\epsilon**(3/2)*\\theta*\\tilde{\\lambda}**2*h^{\\scriptsize{(0)}}*Derivative(\\tilde{\\delta\\Psi}(z), z) + 128*I*\\alpha*sqrt(\\epsilon)*\\theta*\\tilde{\\lambda}**3*h^{\\scriptsize{(0)}}*sqrt(\\theta**2 + 1)*Derivative(\\tilde{\\delta\\Psi}(z), z) - \\alpha*\\epsilon**4*\\gamma**2*\\overline{\\delta{p}}^{\\varpi}_{int}*\\theta**2*h^{\\scriptsize{(0)}}**2 - 2*I*\\alpha*\\epsilon**3*\\gamma**2*\\overline{\\delta{p}}^{\\varpi}_{int}*\\theta**2*\\tilde{\\lambda}*h^{\\scriptsize{(0)}}**2 + 4*I*\\alpha*\\epsilon**3*\\gamma*\\overline{\\delta{p}}^{\\varpi}_{int}*\\theta**2*\\tilde{\\lambda}*h^{\\scriptsize{(0)}}**2 + 8*\\alpha*\\epsilon**3*\\gamma*\\overline{\\delta{p}}^{\\varpi}_{int}*\\theta**2*h^{\\scriptsize{(0)}}**2 - 8*\\alpha*\\epsilon**2*\\gamma*\\overline{\\delta{p}}^{\\varpi}_{int}*\\theta**2*\\tilde{\\lambda}**2*h^{\\scriptsize{(0)}}**2 + 16*I*\\alpha*\\epsilon**2*\\gamma*\\overline{\\delta{p}}^{\\varpi}_{int}*\\theta**2*\\tilde{\\lambda}*h^{\\scriptsize{(0)}}**2 - 16*I*\\alpha*\\epsilon**2*\\overline{\\delta{p}}^{\\varpi}_{int}*\\theta**2*\\tilde{\\lambda}*h^{\\scriptsize{(0)}}**2 - 16*\\alpha*\\epsilon**2*\\overline{\\delta{p}}^{\\varpi}_{int}*\\theta**2*h^{\\scriptsize{(0)}}**2 + 32*\\alpha*\\epsilon*\\overline{\\delta{p}}^{\\varpi}_{int}*\\theta**2*\\tilde{\\lambda}**2*h^{\\scriptsize{(0)}}**2 - 32*I*\\alpha*\\epsilon*\\overline{\\delta{p}}^{\\varpi}_{int}*\\theta**2*\\tilde{\\lambda}*h^{\\scriptsize{(0)}}**2 + 8*\\epsilon**2*\\gamma**2*\\tilde{\\lambda}**3*sqrt(\\theta**2 + 1) - 16*\\epsilon**2*\\gamma*\\tilde{\\lambda}**3 - 64*I*\\epsilon*\\gamma*\\tilde{\\lambda}**4*sqrt(\\theta**2 + 1) - 64*\\epsilon*\\gamma*\\tilde{\\lambda}**3*sqrt(\\theta**2 + 1) + 64*I*\\epsilon*\\tilde{\\lambda}**4 + 64*\\epsilon*\\tilde{\\lambda}**3 - 128*\\theta**2*\\tilde{\\lambda}**3 - 128*\\tilde{\\lambda}**5*sqrt(\\theta**2 + 1) + 256*I*\\tilde{\\lambda}**4*sqrt(\\theta**2 + 1) + 128*\\tilde{\\lambda}**3*sqrt(\\theta**2 + 1) - 128*\\tilde{\\lambda}**3"
      ]
     },
     "metadata": {},
     "output_type": "display_data"
    },
    {
     "name": "stdout",
     "output_type": "stream",
     "text": [
      "\n",
      "Initial substitutions\n",
      "Substitutions: \n"
     ]
    },
    {
     "data": {
      "text/latex": [
       "$\\displaystyle \\psi^{\\scriptsize{(0)}} = - i \\omega h^{\\scriptsize{(0)}}$"
      ],
      "text/plain": [
       "Eq(\\psi^{\\scriptsize{(0)}}, -I*\\omega*h^{\\scriptsize{(0)}})"
      ]
     },
     "metadata": {},
     "output_type": "display_data"
    },
    {
     "data": {
      "text/latex": [
       "$\\displaystyle \\omega = - \\frac{\\Omega^{\\scriptsize{(0)}} \\gamma}{2} + \\omega_{0}$"
      ],
      "text/plain": [
       "Eq(\\omega, -\\Omega^{\\scriptsize{(0)}}*\\gamma/2 + \\omega_0)"
      ]
     },
     "metadata": {},
     "output_type": "display_data"
    },
    {
     "data": {
      "text/latex": [
       "$\\displaystyle \\lambda = \\omega_{0} \\tilde{\\lambda}$"
      ],
      "text/plain": [
       "Eq(\\lambda, \\omega_0*\\tilde{\\lambda})"
      ]
     },
     "metadata": {},
     "output_type": "display_data"
    },
    {
     "data": {
      "text/latex": [
       "$\\displaystyle \\Omega^{\\scriptsize{(0)}} = \\frac{\\epsilon \\omega_{0}}{2}$"
      ],
      "text/plain": [
       "Eq(\\Omega^{\\scriptsize{(0)}}, \\epsilon*\\omega_0/2)"
      ]
     },
     "metadata": {},
     "output_type": "display_data"
    },
    {
     "data": {
      "text/latex": [
       "$\\displaystyle \\delta\\Psi{\\left(z \\right)} = \\delta\\psi \\sqrt{\\epsilon} \\tilde{\\delta\\Psi}{\\left(z \\right)}$"
      ],
      "text/plain": [
       "Eq(\\delta\\Psi(z), \\delta\\psi*sqrt(\\epsilon)*\\tilde{\\delta\\Psi}(z))"
      ]
     },
     "metadata": {},
     "output_type": "display_data"
    },
    {
     "data": {
      "text/latex": [
       "$\\displaystyle \\delta\\xi = \\tilde{\\delta h} h^{\\scriptsize{(0)}}$"
      ],
      "text/plain": [
       "Eq(\\delta\\xi, \\tilde{\\delta h}*h^{\\scriptsize{(0)}})"
      ]
     },
     "metadata": {},
     "output_type": "display_data"
    },
    {
     "data": {
      "text/latex": [
       "$\\displaystyle \\delta\\psi = \\psi^{\\scriptsize{(0)}} \\tilde{\\delta\\psi}$"
      ],
      "text/plain": [
       "Eq(\\delta\\psi, \\psi^{\\scriptsize{(0)}}*\\tilde{\\delta\\psi})"
      ]
     },
     "metadata": {},
     "output_type": "display_data"
    },
    {
     "data": {
      "text/latex": [
       "$\\displaystyle g = \\omega_{0}^{2}$"
      ],
      "text/plain": [
       "Eq(g, \\omega_0**2)"
      ]
     },
     "metadata": {},
     "output_type": "display_data"
    },
    {
     "name": "stdout",
     "output_type": "stream",
     "text": [
      "\n",
      "Substitutions: \n"
     ]
    },
    {
     "data": {
      "text/latex": [
       "$\\displaystyle \\tilde{\\lambda} = \\frac{\\sqrt{\\epsilon} \\theta h^{\\scriptsize{(0)}} \\sqrt{- \\epsilon \\gamma + 4}}{2 \\mu}$"
      ],
      "text/plain": [
       "Eq(\\tilde{\\lambda}, sqrt(\\epsilon)*\\theta*h^{\\scriptsize{(0)}}*sqrt(-\\epsilon*\\gamma + 4)/(2*\\mu))"
      ]
     },
     "metadata": {},
     "output_type": "display_data"
    },
    {
     "data": {
      "text/latex": [
       "$\\displaystyle \\tilde{\\delta\\Psi}{\\left(z \\right)} = \\mu \\tilde{\\delta{\\Psi\\Psi}}{\\left(z \\right)}$"
      ],
      "text/plain": [
       "Eq(\\tilde{\\delta\\Psi}(z), \\mu*\\tilde{\\delta{\\Psi\\Psi}}(z))"
      ]
     },
     "metadata": {},
     "output_type": "display_data"
    },
    {
     "name": "stdout",
     "output_type": "stream",
     "text": [
      "1) Validating eq (51) from POF\n"
     ]
    },
    {
     "data": {
      "text/latex": [
       "$\\displaystyle - \\frac{\\mu \\left(\\alpha \\sqrt{- \\epsilon \\gamma + 4} \\left(\\sqrt{\\theta^{2} + 1} + 1\\right) e^{z \\left(\\sqrt{\\theta^{2} + 1} + 1\\right)} + \\mu^{2} \\left(\\epsilon \\gamma - 4\\right) \\tilde{\\delta{\\Psi\\Psi}}{\\left(z \\right)} e^{2 z} - \\theta^{2} \\left(\\epsilon \\gamma - 4\\right) \\tilde{\\delta{\\Psi\\Psi}}{\\left(z \\right)}\\right)}{\\epsilon \\gamma - 4}$"
      ],
      "text/plain": [
       "-\\mu*(\\alpha*sqrt(-\\epsilon*\\gamma + 4)*(sqrt(\\theta**2 + 1) + 1)*exp(z*(sqrt(\\theta**2 + 1) + 1)) + \\mu**2*(\\epsilon*\\gamma - 4)*\\tilde{\\delta{\\Psi\\Psi}}(z)*exp(2*z) - \\theta**2*(\\epsilon*\\gamma - 4)*\\tilde{\\delta{\\Psi\\Psi}}(z))/(\\epsilon*\\gamma - 4)"
      ]
     },
     "metadata": {},
     "output_type": "display_data"
    },
    {
     "name": "stdout",
     "output_type": "stream",
     "text": [
      "Small theta and small epsilon: \n"
     ]
    },
    {
     "data": {
      "text/latex": [
       "$\\displaystyle \\mu \\left(\\alpha e^{2 z} - \\mu^{2} \\tilde{\\delta{\\Psi\\Psi}}{\\left(z \\right)} e^{2 z} + \\theta^{2} \\tilde{\\delta{\\Psi\\Psi}}{\\left(z \\right)}\\right)$"
      ],
      "text/plain": [
       "\\mu*(\\alpha*exp(2*z) - \\mu**2*\\tilde{\\delta{\\Psi\\Psi}}(z)*exp(2*z) + \\theta**2*\\tilde{\\delta{\\Psi\\Psi}}(z))"
      ]
     },
     "metadata": {},
     "output_type": "display_data"
    },
    {
     "name": "stdout",
     "output_type": "stream",
     "text": [
      "2) Validating dp integral\n"
     ]
    },
    {
     "data": {
      "text/latex": [
       "$\\displaystyle \\frac{\\sqrt{\\epsilon} \\theta h^{\\scriptsize{(0)}} \\int\\limits_{-\\infty}^{0} \\left(\\alpha \\sqrt{\\theta^{2} + 1} \\sqrt{- \\epsilon \\gamma + 4} e^{z \\sqrt{\\theta^{2} + 1}} + \\alpha \\sqrt{- \\epsilon \\gamma + 4} e^{z \\sqrt{\\theta^{2} + 1}} + \\epsilon \\gamma \\mu^{2} \\tilde{\\delta{\\Psi\\Psi}}{\\left(z \\right)} e^{z} - 4 \\mu^{2} \\tilde{\\delta{\\Psi\\Psi}}{\\left(z \\right)} e^{z}\\right) e^{2 z} e^{z \\sqrt{\\theta^{2} + 1}}\\, dz}{\\mu}$"
      ],
      "text/plain": [
       "sqrt(\\epsilon)*\\theta*h^{\\scriptsize{(0)}}*Integral((\\alpha*sqrt(\\theta**2 + 1)*sqrt(-\\epsilon*\\gamma + 4)*exp(z*sqrt(\\theta**2 + 1)) + \\alpha*sqrt(-\\epsilon*\\gamma + 4)*exp(z*sqrt(\\theta**2 + 1)) + \\epsilon*\\gamma*\\mu**2*\\tilde{\\delta{\\Psi\\Psi}}(z)*exp(z) - 4*\\mu**2*\\tilde{\\delta{\\Psi\\Psi}}(z)*exp(z))*exp(2*z)*exp(z*sqrt(\\theta**2 + 1)), (z, -oo, 0))/\\mu"
      ]
     },
     "metadata": {},
     "output_type": "display_data"
    },
    {
     "name": "stdout",
     "output_type": "stream",
     "text": [
      "Small theta: \n"
     ]
    },
    {
     "data": {
      "text/latex": [
       "$\\displaystyle \\frac{\\sqrt{\\epsilon} \\theta h^{\\scriptsize{(0)}} \\int\\limits_{-\\infty}^{0} \\left(2 \\alpha \\sqrt{- \\epsilon \\gamma + 4} + \\epsilon \\gamma \\mu^{2} \\tilde{\\delta{\\Psi\\Psi}}{\\left(z \\right)} - 4 \\mu^{2} \\tilde{\\delta{\\Psi\\Psi}}{\\left(z \\right)}\\right) e^{4 z}\\, dz}{\\mu}$"
      ],
      "text/plain": [
       "sqrt(\\epsilon)*\\theta*h^{\\scriptsize{(0)}}*Integral((2*\\alpha*sqrt(-\\epsilon*\\gamma + 4) + \\epsilon*\\gamma*\\mu**2*\\tilde{\\delta{\\Psi\\Psi}}(z) - 4*\\mu**2*\\tilde{\\delta{\\Psi\\Psi}}(z))*exp(4*z), (z, -oo, 0))/\\mu"
      ]
     },
     "metadata": {},
     "output_type": "display_data"
    },
    {
     "name": "stdout",
     "output_type": "stream",
     "text": [
      "Small epsilon: \n"
     ]
    },
    {
     "data": {
      "text/latex": [
       "$\\displaystyle \\frac{4 \\sqrt{\\epsilon} \\theta h^{\\scriptsize{(0)}} \\int\\limits_{-\\infty}^{0} \\left(\\alpha - \\mu^{2} \\tilde{\\delta{\\Psi\\Psi}}{\\left(z \\right)}\\right) e^{4 z}\\, dz}{\\mu}$"
      ],
      "text/plain": [
       "4*sqrt(\\epsilon)*\\theta*h^{\\scriptsize{(0)}}*Integral((\\alpha - \\mu**2*\\tilde{\\delta{\\Psi\\Psi}}(z))*exp(4*z), (z, -oo, 0))/\\mu"
      ]
     },
     "metadata": {},
     "output_type": "display_data"
    },
    {
     "name": "stdout",
     "output_type": "stream",
     "text": [
      "3) Validating mu equation\n"
     ]
    },
    {
     "data": {
      "text/latex": [
       "$\\displaystyle \\frac{\\theta^{2} \\left(h^{\\scriptsize{(0)}}\\right)^{2} \\left(i \\alpha \\epsilon^{\\frac{3}{2}} \\mu^{4} \\overline{\\delta{p}}^{\\varpi}_{int} \\theta h^{\\scriptsize{(0)}} \\sqrt{- \\epsilon \\gamma + 4} \\left(- \\epsilon^{2} \\gamma^{2} + 2 \\epsilon^{2} \\gamma + 8 \\epsilon \\gamma - 8 \\epsilon - 16\\right) + \\alpha \\epsilon^{2} \\mu^{5} \\overline{\\delta{p}}^{\\varpi}_{int} \\left(- \\epsilon^{2} \\gamma^{2} + 8 \\epsilon \\gamma - 16\\right) + \\alpha \\mu^{3} \\theta h^{\\scriptsize{(0)}} \\left(\\epsilon \\gamma - 4\\right) \\left(- \\epsilon^{\\frac{9}{2}} \\gamma^{2} \\mu \\frac{d}{d z} \\tilde{\\delta{\\Psi\\Psi}}{\\left(z \\right)} + 8 \\epsilon^{\\frac{7}{2}} \\gamma \\mu \\frac{d}{d z} \\tilde{\\delta{\\Psi\\Psi}}{\\left(z \\right)} - 16 \\epsilon^{\\frac{5}{2}} \\mu \\frac{d}{d z} \\tilde{\\delta{\\Psi\\Psi}}{\\left(z \\right)} + 2 \\epsilon^{3} \\gamma \\overline{\\delta{p}}^{\\varpi}_{int} \\theta h^{\\scriptsize{(0)}} - 8 \\epsilon^{2} \\overline{\\delta{p}}^{\\varpi}_{int} \\theta h^{\\scriptsize{(0)}}\\right) - 4 \\epsilon^{\\frac{5}{2}} \\theta^{3} \\left(h^{\\scriptsize{(0)}}\\right)^{3} \\sqrt{\\theta^{2} + 1} \\left(- \\epsilon \\gamma + 4\\right)^{\\frac{5}{2}} + 4 i \\epsilon^{2} \\mu \\theta^{2} \\left(h^{\\scriptsize{(0)}}\\right)^{2} \\left(\\epsilon \\gamma - 4\\right)^{2} \\left(- \\epsilon \\gamma \\sqrt{\\theta^{2} + 1} + \\epsilon + 4 \\sqrt{\\theta^{2} + 1}\\right) + \\mu^{2} \\theta h^{\\scriptsize{(0)}} \\left(- \\epsilon \\gamma + 4\\right)^{\\frac{3}{2}} \\left(- 2 i \\alpha \\epsilon^{4} \\gamma \\mu \\theta h^{\\scriptsize{(0)}} \\frac{d}{d z} \\tilde{\\delta{\\Psi\\Psi}}{\\left(z \\right)} + 8 i \\alpha \\epsilon^{3} \\mu \\theta h^{\\scriptsize{(0)}} \\frac{d}{d z} \\tilde{\\delta{\\Psi\\Psi}}{\\left(z \\right)} + 16 i \\alpha \\epsilon^{2} \\mu \\theta h^{\\scriptsize{(0)}} \\sqrt{\\theta^{2} + 1} \\frac{d}{d z} \\tilde{\\delta{\\Psi\\Psi}}{\\left(z \\right)} + \\epsilon^{\\frac{7}{2}} \\gamma^{2} \\sqrt{\\theta^{2} + 1} - 2 \\epsilon^{\\frac{7}{2}} \\gamma - 8 \\epsilon^{\\frac{5}{2}} \\gamma \\sqrt{\\theta^{2} + 1} + 8 \\epsilon^{\\frac{5}{2}} - 16 \\epsilon^{\\frac{3}{2}} \\theta^{2} + 16 \\epsilon^{\\frac{3}{2}} \\sqrt{\\theta^{2} + 1} - 16 \\epsilon^{\\frac{3}{2}}\\right)\\right)}{\\mu^{5}}$"
      ],
      "text/plain": [
       "\\theta**2*h^{\\scriptsize{(0)}}**2*(I*\\alpha*\\epsilon**(3/2)*\\mu**4*\\overline{\\delta{p}}^{\\varpi}_{int}*\\theta*h^{\\scriptsize{(0)}}*sqrt(-\\epsilon*\\gamma + 4)*(-\\epsilon**2*\\gamma**2 + 2*\\epsilon**2*\\gamma + 8*\\epsilon*\\gamma - 8*\\epsilon - 16) + \\alpha*\\epsilon**2*\\mu**5*\\overline{\\delta{p}}^{\\varpi}_{int}*(-\\epsilon**2*\\gamma**2 + 8*\\epsilon*\\gamma - 16) + \\alpha*\\mu**3*\\theta*h^{\\scriptsize{(0)}}*(\\epsilon*\\gamma - 4)*(-\\epsilon**(9/2)*\\gamma**2*\\mu*Derivative(\\tilde{\\delta{\\Psi\\Psi}}(z), z) + 8*\\epsilon**(7/2)*\\gamma*\\mu*Derivative(\\tilde{\\delta{\\Psi\\Psi}}(z), z) - 16*\\epsilon**(5/2)*\\mu*Derivative(\\tilde{\\delta{\\Psi\\Psi}}(z), z) + 2*\\epsilon**3*\\gamma*\\overline{\\delta{p}}^{\\varpi}_{int}*\\theta*h^{\\scriptsize{(0)}} - 8*\\epsilon**2*\\overline{\\delta{p}}^{\\varpi}_{int}*\\theta*h^{\\scriptsize{(0)}}) - 4*\\epsilon**(5/2)*\\theta**3*h^{\\scriptsize{(0)}}**3*sqrt(\\theta**2 + 1)*(-\\epsilon*\\gamma + 4)**(5/2) + 4*I*\\epsilon**2*\\mu*\\theta**2*h^{\\scriptsize{(0)}}**2*(\\epsilon*\\gamma - 4)**2*(-\\epsilon*\\gamma*sqrt(\\theta**2 + 1) + \\epsilon + 4*sqrt(\\theta**2 + 1)) + \\mu**2*\\theta*h^{\\scriptsize{(0)}}*(-\\epsilon*\\gamma + 4)**(3/2)*(-2*I*\\alpha*\\epsilon**4*\\gamma*\\mu*\\theta*h^{\\scriptsize{(0)}}*Derivative(\\tilde{\\delta{\\Psi\\Psi}}(z), z) + 8*I*\\alpha*\\epsilon**3*\\mu*\\theta*h^{\\scriptsize{(0)}}*Derivative(\\tilde{\\delta{\\Psi\\Psi}}(z), z) + 16*I*\\alpha*\\epsilon**2*\\mu*\\theta*h^{\\scriptsize{(0)}}*sqrt(\\theta**2 + 1)*Derivative(\\tilde{\\delta{\\Psi\\Psi}}(z), z) + \\epsilon**(7/2)*\\gamma**2*sqrt(\\theta**2 + 1) - 2*\\epsilon**(7/2)*\\gamma - 8*\\epsilon**(5/2)*\\gamma*sqrt(\\theta**2 + 1) + 8*\\epsilon**(5/2) - 16*\\epsilon**(3/2)*\\theta**2 + 16*\\epsilon**(3/2)*sqrt(\\theta**2 + 1) - 16*\\epsilon**(3/2)))/\\mu**5"
      ]
     },
     "metadata": {},
     "output_type": "display_data"
    },
    {
     "data": {
      "text/latex": [
       "$\\displaystyle i \\alpha \\epsilon^{\\frac{3}{2}} \\mu^{4} \\overline{\\delta{p}}^{\\varpi}_{int} \\theta h^{\\scriptsize{(0)}} \\sqrt{- \\epsilon \\gamma + 4} \\left(- \\epsilon^{2} \\gamma^{2} + 2 \\epsilon^{2} \\gamma + 8 \\epsilon \\gamma - 8 \\epsilon - 16\\right) + \\alpha \\epsilon^{2} \\mu^{5} \\overline{\\delta{p}}^{\\varpi}_{int} \\left(- \\epsilon^{2} \\gamma^{2} + 8 \\epsilon \\gamma - 16\\right) + \\alpha \\mu^{3} \\theta h^{\\scriptsize{(0)}} \\left(\\epsilon \\gamma - 4\\right) \\left(- \\epsilon^{\\frac{9}{2}} \\gamma^{2} \\mu \\frac{d}{d z} \\tilde{\\delta{\\Psi\\Psi}}{\\left(z \\right)} + 8 \\epsilon^{\\frac{7}{2}} \\gamma \\mu \\frac{d}{d z} \\tilde{\\delta{\\Psi\\Psi}}{\\left(z \\right)} - 16 \\epsilon^{\\frac{5}{2}} \\mu \\frac{d}{d z} \\tilde{\\delta{\\Psi\\Psi}}{\\left(z \\right)} + 2 \\epsilon^{3} \\gamma \\overline{\\delta{p}}^{\\varpi}_{int} \\theta h^{\\scriptsize{(0)}} - 8 \\epsilon^{2} \\overline{\\delta{p}}^{\\varpi}_{int} \\theta h^{\\scriptsize{(0)}}\\right) - 4 \\epsilon^{\\frac{5}{2}} \\theta^{3} \\left(h^{\\scriptsize{(0)}}\\right)^{3} \\sqrt{\\theta^{2} + 1} \\left(- \\epsilon \\gamma + 4\\right)^{\\frac{5}{2}} + 4 i \\epsilon^{2} \\mu \\theta^{2} \\left(h^{\\scriptsize{(0)}}\\right)^{2} \\left(\\epsilon \\gamma - 4\\right)^{2} \\left(- \\epsilon \\gamma \\sqrt{\\theta^{2} + 1} + \\epsilon + 4 \\sqrt{\\theta^{2} + 1}\\right) + \\mu^{2} \\theta h^{\\scriptsize{(0)}} \\left(- \\epsilon \\gamma + 4\\right)^{\\frac{3}{2}} \\left(- 2 i \\alpha \\epsilon^{4} \\gamma \\mu \\theta h^{\\scriptsize{(0)}} \\frac{d}{d z} \\tilde{\\delta{\\Psi\\Psi}}{\\left(z \\right)} + 8 i \\alpha \\epsilon^{3} \\mu \\theta h^{\\scriptsize{(0)}} \\frac{d}{d z} \\tilde{\\delta{\\Psi\\Psi}}{\\left(z \\right)} + 16 i \\alpha \\epsilon^{2} \\mu \\theta h^{\\scriptsize{(0)}} \\sqrt{\\theta^{2} + 1} \\frac{d}{d z} \\tilde{\\delta{\\Psi\\Psi}}{\\left(z \\right)} + \\epsilon^{\\frac{7}{2}} \\gamma^{2} \\sqrt{\\theta^{2} + 1} - 2 \\epsilon^{\\frac{7}{2}} \\gamma - 8 \\epsilon^{\\frac{5}{2}} \\gamma \\sqrt{\\theta^{2} + 1} + 8 \\epsilon^{\\frac{5}{2}} - 16 \\epsilon^{\\frac{3}{2}} \\theta^{2} + 16 \\epsilon^{\\frac{3}{2}} \\sqrt{\\theta^{2} + 1} - 16 \\epsilon^{\\frac{3}{2}}\\right)$"
      ],
      "text/plain": [
       "I*\\alpha*\\epsilon**(3/2)*\\mu**4*\\overline{\\delta{p}}^{\\varpi}_{int}*\\theta*h^{\\scriptsize{(0)}}*sqrt(-\\epsilon*\\gamma + 4)*(-\\epsilon**2*\\gamma**2 + 2*\\epsilon**2*\\gamma + 8*\\epsilon*\\gamma - 8*\\epsilon - 16) + \\alpha*\\epsilon**2*\\mu**5*\\overline{\\delta{p}}^{\\varpi}_{int}*(-\\epsilon**2*\\gamma**2 + 8*\\epsilon*\\gamma - 16) + \\alpha*\\mu**3*\\theta*h^{\\scriptsize{(0)}}*(\\epsilon*\\gamma - 4)*(-\\epsilon**(9/2)*\\gamma**2*\\mu*Derivative(\\tilde{\\delta{\\Psi\\Psi}}(z), z) + 8*\\epsilon**(7/2)*\\gamma*\\mu*Derivative(\\tilde{\\delta{\\Psi\\Psi}}(z), z) - 16*\\epsilon**(5/2)*\\mu*Derivative(\\tilde{\\delta{\\Psi\\Psi}}(z), z) + 2*\\epsilon**3*\\gamma*\\overline{\\delta{p}}^{\\varpi}_{int}*\\theta*h^{\\scriptsize{(0)}} - 8*\\epsilon**2*\\overline{\\delta{p}}^{\\varpi}_{int}*\\theta*h^{\\scriptsize{(0)}}) - 4*\\epsilon**(5/2)*\\theta**3*h^{\\scriptsize{(0)}}**3*sqrt(\\theta**2 + 1)*(-\\epsilon*\\gamma + 4)**(5/2) + 4*I*\\epsilon**2*\\mu*\\theta**2*h^{\\scriptsize{(0)}}**2*(\\epsilon*\\gamma - 4)**2*(-\\epsilon*\\gamma*sqrt(\\theta**2 + 1) + \\epsilon + 4*sqrt(\\theta**2 + 1)) + \\mu**2*\\theta*h^{\\scriptsize{(0)}}*(-\\epsilon*\\gamma + 4)**(3/2)*(-2*I*\\alpha*\\epsilon**4*\\gamma*\\mu*\\theta*h^{\\scriptsize{(0)}}*Derivative(\\tilde{\\delta{\\Psi\\Psi}}(z), z) + 8*I*\\alpha*\\epsilon**3*\\mu*\\theta*h^{\\scriptsize{(0)}}*Derivative(\\tilde{\\delta{\\Psi\\Psi}}(z), z) + 16*I*\\alpha*\\epsilon**2*\\mu*\\theta*h^{\\scriptsize{(0)}}*sqrt(\\theta**2 + 1)*Derivative(\\tilde{\\delta{\\Psi\\Psi}}(z), z) + \\epsilon**(7/2)*\\gamma**2*sqrt(\\theta**2 + 1) - 2*\\epsilon**(7/2)*\\gamma - 8*\\epsilon**(5/2)*\\gamma*sqrt(\\theta**2 + 1) + 8*\\epsilon**(5/2) - 16*\\epsilon**(3/2)*\\theta**2 + 16*\\epsilon**(3/2)*sqrt(\\theta**2 + 1) - 16*\\epsilon**(3/2))"
      ]
     },
     "metadata": {},
     "output_type": "display_data"
    },
    {
     "data": {
      "text/latex": [
       "$\\displaystyle \\int\\limits_{-\\infty}^{0} \\left(\\alpha \\sqrt{\\theta^{2} + 1} \\sqrt{- \\epsilon \\gamma + 4} e^{z \\sqrt{\\theta^{2} + 1}} + \\alpha \\sqrt{- \\epsilon \\gamma + 4} e^{z \\sqrt{\\theta^{2} + 1}} + \\epsilon \\gamma \\mu^{2} \\tilde{\\delta{\\Psi\\Psi}}{\\left(z \\right)} e^{z} - 4 \\mu^{2} \\tilde{\\delta{\\Psi\\Psi}}{\\left(z \\right)} e^{z}\\right) e^{2 z} e^{z \\sqrt{\\theta^{2} + 1}}\\, dz$"
      ],
      "text/plain": [
       "Integral((\\alpha*sqrt(\\theta**2 + 1)*sqrt(-\\epsilon*\\gamma + 4)*exp(z*sqrt(\\theta**2 + 1)) + \\alpha*sqrt(-\\epsilon*\\gamma + 4)*exp(z*sqrt(\\theta**2 + 1)) + \\epsilon*\\gamma*\\mu**2*\\tilde{\\delta{\\Psi\\Psi}}(z)*exp(z) - 4*\\mu**2*\\tilde{\\delta{\\Psi\\Psi}}(z)*exp(z))*exp(2*z)*exp(z*sqrt(\\theta**2 + 1)), (z, -oo, 0))"
      ]
     },
     "metadata": {},
     "output_type": "display_data"
    },
    {
     "data": {
      "text/latex": [
       "$\\displaystyle \\theta h^{\\scriptsize{(0)}} \\left(- \\alpha \\epsilon^{\\frac{5}{2}} \\mu^{4} \\overline{\\delta{p}}^{\\varpi}_{int} \\left(\\epsilon^{2} \\gamma^{2} - 8 \\epsilon \\gamma + 16\\right) - \\alpha \\epsilon^{\\frac{5}{2}} \\mu^{2} \\left(\\epsilon \\gamma - 4\\right) \\left(- 2 \\epsilon \\gamma \\overline{\\delta{p}}^{\\varpi}_{int} \\theta^{2} \\left(h^{\\scriptsize{(0)}}\\right)^{2} + \\mu^{2} \\left(\\epsilon^{2} \\gamma^{2} - 8 \\epsilon \\gamma + 16\\right) \\frac{d}{d z} \\tilde{\\delta{\\Psi\\Psi}}{\\left(z \\right)} + 8 \\overline{\\delta{p}}^{\\varpi}_{int} \\theta^{2} \\left(h^{\\scriptsize{(0)}}\\right)^{2}\\right) - i \\alpha \\epsilon^{2} \\mu^{3} \\overline{\\delta{p}}^{\\varpi}_{int} \\theta h^{\\scriptsize{(0)}} \\sqrt{- \\epsilon \\gamma + 4} \\left(\\epsilon^{2} \\gamma^{2} - 2 \\epsilon^{2} \\gamma - 8 \\epsilon \\gamma + 8 \\epsilon + 16\\right) - 4 \\epsilon^{\\frac{5}{2}} \\theta^{2} \\left(h^{\\scriptsize{(0)}}\\right)^{2} \\sqrt{\\theta^{2} + 1} \\left(- \\epsilon \\gamma + 4\\right)^{\\frac{5}{2}} + 4 i \\epsilon^{2} \\mu \\theta h^{\\scriptsize{(0)}} \\left(\\epsilon \\gamma - 4\\right)^{2} \\left(- \\epsilon \\gamma \\sqrt{\\theta^{2} + 1} + \\epsilon + 4 \\sqrt{\\theta^{2} + 1}\\right) - \\mu^{2} \\left(- \\epsilon \\gamma + 4\\right)^{\\frac{3}{2}} \\cdot \\left(2 i \\alpha \\epsilon^{4} \\gamma \\mu \\theta h^{\\scriptsize{(0)}} \\frac{d}{d z} \\tilde{\\delta{\\Psi\\Psi}}{\\left(z \\right)} - 8 i \\alpha \\epsilon^{3} \\mu \\theta h^{\\scriptsize{(0)}} \\frac{d}{d z} \\tilde{\\delta{\\Psi\\Psi}}{\\left(z \\right)} - 16 \\alpha \\epsilon^{2} \\mu \\theta h^{\\scriptsize{(0)}} \\sqrt{- \\theta^{2} - 1} \\frac{d}{d z} \\tilde{\\delta{\\Psi\\Psi}}{\\left(z \\right)} - \\epsilon^{\\frac{7}{2}} \\gamma^{2} \\sqrt{\\theta^{2} + 1} + 2 \\epsilon^{\\frac{7}{2}} \\gamma + 8 \\epsilon^{\\frac{5}{2}} \\gamma \\sqrt{\\theta^{2} + 1} - 8 \\epsilon^{\\frac{5}{2}} + 16 \\epsilon^{\\frac{3}{2}} \\theta^{2} - 16 \\epsilon^{\\frac{3}{2}} \\sqrt{\\theta^{2} + 1} + 16 \\epsilon^{\\frac{3}{2}}\\right)\\right)$"
      ],
      "text/plain": [
       "\\theta*h^{\\scriptsize{(0)}}*(-\\alpha*\\epsilon**(5/2)*\\mu**4*\\overline{\\delta{p}}^{\\varpi}_{int}*(\\epsilon**2*\\gamma**2 - 8*\\epsilon*\\gamma + 16) - \\alpha*\\epsilon**(5/2)*\\mu**2*(\\epsilon*\\gamma - 4)*(-2*\\epsilon*\\gamma*\\overline{\\delta{p}}^{\\varpi}_{int}*\\theta**2*h^{\\scriptsize{(0)}}**2 + \\mu**2*(\\epsilon**2*\\gamma**2 - 8*\\epsilon*\\gamma + 16)*Derivative(\\tilde{\\delta{\\Psi\\Psi}}(z), z) + 8*\\overline{\\delta{p}}^{\\varpi}_{int}*\\theta**2*h^{\\scriptsize{(0)}}**2) - I*\\alpha*\\epsilon**2*\\mu**3*\\overline{\\delta{p}}^{\\varpi}_{int}*\\theta*h^{\\scriptsize{(0)}}*sqrt(-\\epsilon*\\gamma + 4)*(\\epsilon**2*\\gamma**2 - 2*\\epsilon**2*\\gamma - 8*\\epsilon*\\gamma + 8*\\epsilon + 16) - 4*\\epsilon**(5/2)*\\theta**2*h^{\\scriptsize{(0)}}**2*sqrt(\\theta**2 + 1)*(-\\epsilon*\\gamma + 4)**(5/2) + 4*I*\\epsilon**2*\\mu*\\theta*h^{\\scriptsize{(0)}}*(\\epsilon*\\gamma - 4)**2*(-\\epsilon*\\gamma*sqrt(\\theta**2 + 1) + \\epsilon + 4*sqrt(\\theta**2 + 1)) - \\mu**2*(-\\epsilon*\\gamma + 4)**(3/2)*(2*I*\\alpha*\\epsilon**4*\\gamma*\\mu*\\theta*h^{\\scriptsize{(0)}}*Derivative(\\tilde{\\delta{\\Psi\\Psi}}(z), z) - 8*I*\\alpha*\\epsilon**3*\\mu*\\theta*h^{\\scriptsize{(0)}}*Derivative(\\tilde{\\delta{\\Psi\\Psi}}(z), z) - 16*\\alpha*\\epsilon**2*\\mu*\\theta*h^{\\scriptsize{(0)}}*sqrt(-\\theta**2 - 1)*Derivative(\\tilde{\\delta{\\Psi\\Psi}}(z), z) - \\epsilon**(7/2)*\\gamma**2*sqrt(\\theta**2 + 1) + 2*\\epsilon**(7/2)*\\gamma + 8*\\epsilon**(5/2)*\\gamma*sqrt(\\theta**2 + 1) - 8*\\epsilon**(5/2) + 16*\\epsilon**(3/2)*\\theta**2 - 16*\\epsilon**(3/2)*sqrt(\\theta**2 + 1) + 16*\\epsilon**(3/2)))"
      ]
     },
     "metadata": {},
     "output_type": "display_data"
    },
    {
     "name": "stdout",
     "output_type": "stream",
     "text": [
      "Small theta: \n"
     ]
    },
    {
     "data": {
      "text/latex": [
       "$\\displaystyle \\alpha \\mu^{2} \\overline{\\delta{p}}^{\\varpi}_{int} \\left(\\epsilon^{2} \\gamma^{2} - 8 \\epsilon \\gamma + 16\\right) - 4 \\alpha \\mu^{2} \\left(\\epsilon^{2} \\gamma^{2} - 8 \\epsilon \\gamma + 16\\right) \\frac{d}{d z} \\tilde{\\delta{\\Psi\\Psi}}{\\left(z \\right)} + \\epsilon \\gamma \\left(\\alpha \\mu^{2} \\left(\\epsilon^{2} \\gamma^{2} - 8 \\epsilon \\gamma + 16\\right) \\frac{d}{d z} \\tilde{\\delta{\\Psi\\Psi}}{\\left(z \\right)} - \\gamma \\left(- \\epsilon \\gamma + 4\\right)^{\\frac{3}{2}} + 2 \\left(- \\epsilon \\gamma + 4\\right)^{\\frac{3}{2}}\\right) + 8 \\gamma \\left(- \\epsilon \\gamma + 4\\right)^{\\frac{3}{2}} - 8 \\left(- \\epsilon \\gamma + 4\\right)^{\\frac{3}{2}}$"
      ],
      "text/plain": [
       "\\alpha*\\mu**2*\\overline{\\delta{p}}^{\\varpi}_{int}*(\\epsilon**2*\\gamma**2 - 8*\\epsilon*\\gamma + 16) - 4*\\alpha*\\mu**2*(\\epsilon**2*\\gamma**2 - 8*\\epsilon*\\gamma + 16)*Derivative(\\tilde{\\delta{\\Psi\\Psi}}(z), z) + \\epsilon*\\gamma*(\\alpha*\\mu**2*(\\epsilon**2*\\gamma**2 - 8*\\epsilon*\\gamma + 16)*Derivative(\\tilde{\\delta{\\Psi\\Psi}}(z), z) - \\gamma*(-\\epsilon*\\gamma + 4)**(3/2) + 2*(-\\epsilon*\\gamma + 4)**(3/2)) + 8*\\gamma*(-\\epsilon*\\gamma + 4)**(3/2) - 8*(-\\epsilon*\\gamma + 4)**(3/2)"
      ]
     },
     "metadata": {},
     "output_type": "display_data"
    },
    {
     "name": "stdout",
     "output_type": "stream",
     "text": [
      "Small epsilon: \n"
     ]
    },
    {
     "data": {
      "text/latex": [
       "$\\displaystyle 16 \\alpha \\mu^{2} \\overline{\\delta{p}}^{\\varpi}_{int} - 64 \\alpha \\mu^{2} \\frac{d}{d z} \\tilde{\\delta{\\Psi\\Psi}}{\\left(z \\right)} + 64 \\gamma - 64$"
      ],
      "text/plain": [
       "16*\\alpha*\\mu**2*\\overline{\\delta{p}}^{\\varpi}_{int} - 64*\\alpha*\\mu**2*Derivative(\\tilde{\\delta{\\Psi\\Psi}}(z), z) + 64*\\gamma - 64"
      ]
     },
     "metadata": {},
     "output_type": "display_data"
    },
    {
     "name": "stdout",
     "output_type": "stream",
     "text": [
      "\n",
      "Gamma = 0\n"
     ]
    },
    {
     "data": {
      "text/latex": [
       "$\\displaystyle 16 \\alpha \\mu^{2} \\overline{\\delta{p}}^{\\varpi}_{int} - 64 \\alpha \\mu^{2} \\frac{d}{d z} \\tilde{\\delta{\\Psi\\Psi}}{\\left(z \\right)} - 64$"
      ],
      "text/plain": [
       "16*\\alpha*\\mu**2*\\overline{\\delta{p}}^{\\varpi}_{int} - 64*\\alpha*\\mu**2*Derivative(\\tilde{\\delta{\\Psi\\Psi}}(z), z) - 64"
      ]
     },
     "metadata": {},
     "output_type": "display_data"
    },
    {
     "name": "stdout",
     "output_type": "stream",
     "text": [
      "\n",
      "Gamma = 1\n"
     ]
    },
    {
     "data": {
      "text/latex": [
       "$\\displaystyle 16 \\alpha \\mu^{2} \\left(\\overline{\\delta{p}}^{\\varpi}_{int} - 4 \\frac{d}{d z} \\tilde{\\delta{\\Psi\\Psi}}{\\left(z \\right)}\\right)$"
      ],
      "text/plain": [
       "16*\\alpha*\\mu**2*(\\overline{\\delta{p}}^{\\varpi}_{int} - 4*Derivative(\\tilde{\\delta{\\Psi\\Psi}}(z), z))"
      ]
     },
     "metadata": {},
     "output_type": "display_data"
    },
    {
     "name": "stdout",
     "output_type": "stream",
     "text": [
      "\n",
      "\twhere\n"
     ]
    },
    {
     "data": {
      "text/latex": [
       "$\\displaystyle \\int\\limits_{-\\infty}^{0} \\left(\\alpha \\sqrt{\\theta^{2} + 1} \\sqrt{- \\epsilon \\gamma + 4} e^{z \\sqrt{\\theta^{2} + 1}} + \\alpha \\sqrt{- \\epsilon \\gamma + 4} e^{z \\sqrt{\\theta^{2} + 1}} + \\epsilon \\gamma \\mu^{2} \\tilde{\\delta{\\Psi\\Psi}}{\\left(z \\right)} e^{z} - 4 \\mu^{2} \\tilde{\\delta{\\Psi\\Psi}}{\\left(z \\right)} e^{z}\\right) e^{2 z} e^{z \\sqrt{\\theta^{2} + 1}}\\, dz = 4 \\int\\limits_{-\\infty}^{0} \\left(\\alpha - \\mu^{2} \\tilde{\\delta{\\Psi\\Psi}}{\\left(_0 \\right)}\\right) e^{4 _0}\\, d_0$"
      ],
      "text/plain": [
       "Eq(Integral((\\alpha*sqrt(\\theta**2 + 1)*sqrt(-\\epsilon*\\gamma + 4)*exp(z*sqrt(\\theta**2 + 1)) + \\alpha*sqrt(-\\epsilon*\\gamma + 4)*exp(z*sqrt(\\theta**2 + 1)) + \\epsilon*\\gamma*\\mu**2*\\tilde{\\delta{\\Psi\\Psi}}(z)*exp(z) - 4*\\mu**2*\\tilde{\\delta{\\Psi\\Psi}}(z)*exp(z))*exp(2*z)*exp(z*sqrt(\\theta**2 + 1)), (z, -oo, 0)), 4*Integral((\\alpha - \\mu**2*\\tilde{\\delta{\\Psi\\Psi}}(_0))*exp(4*_0), (_0, -oo, 0)))"
      ]
     },
     "metadata": {},
     "output_type": "display_data"
    }
   ],
   "source": [
    "display(sym_eq_lambda)\n",
    "print()\n",
    "check_previous_results(sym_dp_int_dim, sym_d2z_dPsi_dim_expr, sym_eq_lambda)\n"
   ]
  },
  {
   "cell_type": "code",
   "execution_count": 5,
   "metadata": {},
   "outputs": [
    {
     "name": "stdout",
     "output_type": "stream",
     "text": [
      "Substitutions: \n"
     ]
    },
    {
     "data": {
      "text/latex": [
       "$\\displaystyle \\psi^{\\scriptsize{(0)}} = - i \\omega h^{\\scriptsize{(0)}}$"
      ],
      "text/plain": [
       "Eq(\\psi^{\\scriptsize{(0)}}, -I*\\omega*h^{\\scriptsize{(0)}})"
      ]
     },
     "metadata": {},
     "output_type": "display_data"
    },
    {
     "data": {
      "text/latex": [
       "$\\displaystyle \\omega = - \\frac{\\Omega^{\\scriptsize{(0)}} \\gamma}{2} + \\omega_{0}$"
      ],
      "text/plain": [
       "Eq(\\omega, -\\Omega^{\\scriptsize{(0)}}*\\gamma/2 + \\omega_0)"
      ]
     },
     "metadata": {},
     "output_type": "display_data"
    },
    {
     "data": {
      "text/latex": [
       "$\\displaystyle \\lambda = \\omega_{0} \\tilde{\\lambda}$"
      ],
      "text/plain": [
       "Eq(\\lambda, \\omega_0*\\tilde{\\lambda})"
      ]
     },
     "metadata": {},
     "output_type": "display_data"
    },
    {
     "data": {
      "text/latex": [
       "$\\displaystyle \\Omega^{\\scriptsize{(0)}} = \\frac{\\epsilon \\omega_{0}}{2}$"
      ],
      "text/plain": [
       "Eq(\\Omega^{\\scriptsize{(0)}}, \\epsilon*\\omega_0/2)"
      ]
     },
     "metadata": {},
     "output_type": "display_data"
    },
    {
     "data": {
      "text/latex": [
       "$\\displaystyle \\delta\\Psi{\\left(z \\right)} = \\delta\\psi \\sqrt{\\epsilon} \\tilde{\\delta\\Psi}{\\left(z \\right)}$"
      ],
      "text/plain": [
       "Eq(\\delta\\Psi(z), \\delta\\psi*sqrt(\\epsilon)*\\tilde{\\delta\\Psi}(z))"
      ]
     },
     "metadata": {},
     "output_type": "display_data"
    },
    {
     "data": {
      "text/latex": [
       "$\\displaystyle \\delta\\xi = \\tilde{\\delta h} h^{\\scriptsize{(0)}}$"
      ],
      "text/plain": [
       "Eq(\\delta\\xi, \\tilde{\\delta h}*h^{\\scriptsize{(0)}})"
      ]
     },
     "metadata": {},
     "output_type": "display_data"
    },
    {
     "data": {
      "text/latex": [
       "$\\displaystyle \\delta\\psi = \\psi^{\\scriptsize{(0)}} \\tilde{\\delta\\psi}$"
      ],
      "text/plain": [
       "Eq(\\delta\\psi, \\psi^{\\scriptsize{(0)}}*\\tilde{\\delta\\psi})"
      ]
     },
     "metadata": {},
     "output_type": "display_data"
    },
    {
     "data": {
      "text/latex": [
       "$\\displaystyle g = \\omega_{0}^{2}$"
      ],
      "text/plain": [
       "Eq(g, \\omega_0**2)"
      ]
     },
     "metadata": {},
     "output_type": "display_data"
    },
    {
     "name": "stdout",
     "output_type": "stream",
     "text": [
      "Initial wave: \n"
     ]
    },
    {
     "data": {
      "text/latex": [
       "$\\displaystyle \\phi^{\\scriptsize{(0)}} = \\psi^{\\scriptsize{(0)}} e^{- i \\omega t + i x + z}$"
      ],
      "text/plain": [
       "Eq(\\phi^{\\scriptsize{(0)}}, \\psi^{\\scriptsize{(0)}}*exp(-I*\\omega*t + I*x + z))"
      ]
     },
     "metadata": {},
     "output_type": "display_data"
    },
    {
     "data": {
      "text/latex": [
       "$\\displaystyle U^{s0}_x = \\omega \\left(h^{\\scriptsize{(0)}}\\right)^{2} e^{2 z}$"
      ],
      "text/plain": [
       "Eq(U^{s0}_x, \\omega*h^{\\scriptsize{(0)}}**2*exp(2*z))"
      ]
     },
     "metadata": {},
     "output_type": "display_data"
    },
    {
     "name": "stdout",
     "output_type": "stream",
     "text": [
      "Oblique wave: \n"
     ]
    },
    {
     "data": {
      "text/latex": [
       "$\\displaystyle \\delta{\\phi} = \\delta\\psi e^{\\lambda t} e^{- i \\omega t + i \\theta y + i x + z \\sqrt{\\theta^{2} + 1}}$"
      ],
      "text/plain": [
       "Eq(\\delta{\\phi}, \\delta\\psi*exp(\\lambda*t)*exp(-I*\\omega*t + I*\\theta*y + I*x + z*sqrt(\\theta**2 + 1)))"
      ]
     },
     "metadata": {},
     "output_type": "display_data"
    },
    {
     "data": {
      "text/latex": [
       "$\\displaystyle \\delta U^{s}_{x} = i \\delta\\psi h^{\\scriptsize{(0)}} \\left(\\sqrt{\\theta^{2} + 1} + 1\\right) e^{\\lambda t + i \\theta y + z \\sqrt{\\theta^{2} + 1} + z}$"
      ],
      "text/plain": [
       "Eq(\\delta U^s_x, I*\\delta\\psi*h^{\\scriptsize{(0)}}*(sqrt(\\theta**2 + 1) + 1)*exp(\\lambda*t + I*\\theta*y + z*sqrt(\\theta**2 + 1) + z))"
      ]
     },
     "metadata": {},
     "output_type": "display_data"
    },
    {
     "data": {
      "text/latex": [
       "$\\displaystyle \\delta U^{s}_{y} = \\frac{\\delta\\psi \\theta h^{\\scriptsize{(0)}} \\left(\\sqrt{- \\theta^{2} - 1} + i\\right) e^{\\lambda t + i \\theta y + z \\sqrt{\\theta^{2} + 1} + z}}{2}$"
      ],
      "text/plain": [
       "Eq(\\delta U^s_y, \\delta\\psi*\\theta*h^{\\scriptsize{(0)}}*(sqrt(-\\theta**2 - 1) + I)*exp(\\lambda*t + I*\\theta*y + z*sqrt(\\theta**2 + 1) + z)/2)"
      ]
     },
     "metadata": {},
     "output_type": "display_data"
    },
    {
     "data": {
      "text/latex": [
       "$\\displaystyle \\delta{f^V}_x = 0$"
      ],
      "text/plain": [
       "Eq(\\delta{f^V}_x, 0)"
      ]
     },
     "metadata": {},
     "output_type": "display_data"
    },
    {
     "data": {
      "text/latex": [
       "$\\displaystyle \\delta{f^V}_y = i \\omega \\theta \\left(h^{\\scriptsize{(0)}}\\right)^{2} \\delta{V}_x{\\left(z \\right)} e^{\\lambda t + i \\theta y + 2 z}$"
      ],
      "text/plain": [
       "Eq(\\delta{f^V}_y, I*\\omega*\\theta*h^{\\scriptsize{(0)}}**2*\\delta{V}_x(z)*exp(\\lambda*t + I*\\theta*y + 2*z))"
      ]
     },
     "metadata": {},
     "output_type": "display_data"
    },
    {
     "data": {
      "text/latex": [
       "$\\displaystyle \\delta{f^V}_z = h^{\\scriptsize{(0)}} \\left(i \\Omega^{\\scriptsize{(0)}} \\alpha \\delta\\psi \\left(\\sqrt{\\theta^{2} + 1} + 1\\right) e^{\\lambda t + i \\theta y + z \\sqrt{\\theta^{2} + 1} + z} + \\omega h^{\\scriptsize{(0)}} e^{\\lambda t + i \\theta y + 2 z} \\frac{d}{d z} \\delta{V}_x{\\left(z \\right)}\\right)$"
      ],
      "text/plain": [
       "Eq(\\delta{f^V}_z, h^{\\scriptsize{(0)}}*(I*\\Omega^{\\scriptsize{(0)}}*\\alpha*\\delta\\psi*(sqrt(\\theta**2 + 1) + 1)*exp(\\lambda*t + I*\\theta*y + z*sqrt(\\theta**2 + 1) + z) + \\omega*h^{\\scriptsize{(0)}}*exp(\\lambda*t + I*\\theta*y + 2*z)*Derivative(\\delta{V}_x(z), z)))"
      ]
     },
     "metadata": {},
     "output_type": "display_data"
    },
    {
     "data": {
      "text/latex": [
       "$\\displaystyle \\big(\\operatorname{curl}\\delta{f^V}\\big)_x = \\theta h^{\\scriptsize{(0)}} \\left(- \\Omega^{\\scriptsize{(0)}} \\alpha \\delta\\psi \\left(\\sqrt{\\theta^{2} + 1} + 1\\right) e^{\\lambda t + i \\theta y + z \\sqrt{\\theta^{2} + 1} + z} - 2 i \\omega h^{\\scriptsize{(0)}} \\delta{V}_x{\\left(z \\right)} e^{\\lambda t + i \\theta y + 2 z}\\right)$"
      ],
      "text/plain": [
       "Eq(\\big(\\operatorname{curl}\\delta{f^V}\\big)_x, \\theta*h^{\\scriptsize{(0)}}*(-\\Omega^{\\scriptsize{(0)}}*\\alpha*\\delta\\psi*(sqrt(\\theta**2 + 1) + 1)*exp(\\lambda*t + I*\\theta*y + z*sqrt(\\theta**2 + 1) + z) - 2*I*\\omega*h^{\\scriptsize{(0)}}*\\delta{V}_x(z)*exp(\\lambda*t + I*\\theta*y + 2*z)))"
      ]
     },
     "metadata": {},
     "output_type": "display_data"
    },
    {
     "data": {
      "text/latex": [
       "$\\displaystyle \\big(\\operatorname{curl}\\delta{f^V}\\big)_y = 0$"
      ],
      "text/plain": [
       "Eq(\\big(\\operatorname{curl}\\delta{f^V}\\big)_y, 0)"
      ]
     },
     "metadata": {},
     "output_type": "display_data"
    },
    {
     "data": {
      "text/latex": [
       "$\\displaystyle \\big(\\operatorname{curl}\\delta{f^V}\\big)_z = 0$"
      ],
      "text/plain": [
       "Eq(\\big(\\operatorname{curl}\\delta{f^V}\\big)_z, 0)"
      ]
     },
     "metadata": {},
     "output_type": "display_data"
    },
    {
     "name": "stdout",
     "output_type": "stream",
     "text": [
      "Initial equations: \n"
     ]
    },
    {
     "data": {
      "text/latex": [
       "$\\displaystyle \\left(\\Omega^{\\scriptsize{(0)}} \\delta{V}_z{\\left(z \\right)} + \\lambda \\delta{V}_x{\\left(z \\right)}\\right) e^{\\lambda t + i \\theta y} = 0$"
      ],
      "text/plain": [
       "Eq((\\Omega^{\\scriptsize{(0)}}*\\delta{V}_z(z) + \\lambda*\\delta{V}_x(z))*exp(\\lambda*t + I*\\theta*y), 0)"
      ]
     },
     "metadata": {},
     "output_type": "display_data"
    },
    {
     "data": {
      "text/latex": [
       "$\\displaystyle \\lambda \\left(i \\theta \\delta{V}_z{\\left(z \\right)} - \\frac{d}{d z} \\delta{V}_y{\\left(z \\right)}\\right) e^{\\lambda t + i \\theta y} + \\theta h^{\\scriptsize{(0)}} \\left(\\Omega^{\\scriptsize{(0)}} \\alpha \\delta\\psi \\left(\\sqrt{\\theta^{2} + 1} + 1\\right) e^{\\lambda t + i \\theta y + z \\sqrt{\\theta^{2} + 1} + z} + 2 i \\omega h^{\\scriptsize{(0)}} \\delta{V}_x{\\left(z \\right)} e^{\\lambda t + i \\theta y + 2 z}\\right) = 0$"
      ],
      "text/plain": [
       "Eq(\\lambda*(I*\\theta*\\delta{V}_z(z) - Derivative(\\delta{V}_y(z), z))*exp(\\lambda*t + I*\\theta*y) + \\theta*h^{\\scriptsize{(0)}}*(\\Omega^{\\scriptsize{(0)}}*\\alpha*\\delta\\psi*(sqrt(\\theta**2 + 1) + 1)*exp(\\lambda*t + I*\\theta*y + z*sqrt(\\theta**2 + 1) + z) + 2*I*\\omega*h^{\\scriptsize{(0)}}*\\delta{V}_x(z)*exp(\\lambda*t + I*\\theta*y + 2*z)), 0)"
      ]
     },
     "metadata": {},
     "output_type": "display_data"
    },
    {
     "data": {
      "text/latex": [
       "$\\displaystyle \\delta{V}_x{\\left(z \\right)} = \\frac{i \\Omega^{\\scriptsize{(0)}} \\theta \\delta\\Psi{\\left(z \\right)}}{\\lambda}$"
      ],
      "text/plain": [
       "Eq(\\delta{V}_x(z), I*\\Omega^{\\scriptsize{(0)}}*\\theta*\\delta\\Psi(z)/\\lambda)"
      ]
     },
     "metadata": {},
     "output_type": "display_data"
    },
    {
     "data": {
      "text/latex": [
       "$\\displaystyle \\delta{V}_y{\\left(z \\right)} = \\frac{d}{d z} \\delta\\Psi{\\left(z \\right)}$"
      ],
      "text/plain": [
       "Eq(\\delta{V}_y(z), Derivative(\\delta\\Psi(z), z))"
      ]
     },
     "metadata": {},
     "output_type": "display_data"
    },
    {
     "data": {
      "text/latex": [
       "$\\displaystyle \\delta{V}_z{\\left(z \\right)} = - i \\theta \\delta\\Psi{\\left(z \\right)}$"
      ],
      "text/plain": [
       "Eq(\\delta{V}_z(z), -I*\\theta*\\delta\\Psi(z))"
      ]
     },
     "metadata": {},
     "output_type": "display_data"
    },
    {
     "name": "stdout",
     "output_type": "stream",
     "text": [
      "Final equation: \n"
     ]
    },
    {
     "data": {
      "text/latex": [
       "$\\displaystyle - 2 \\Omega^{\\scriptsize{(0)}} \\omega \\theta^{2} \\left(h^{\\scriptsize{(0)}}\\right)^{2} \\delta\\Psi{\\left(z \\right)} e^{2 z} + \\lambda \\left(\\Omega^{\\scriptsize{(0)}} \\alpha \\delta\\psi \\theta h^{\\scriptsize{(0)}} \\sqrt{\\theta^{2} + 1} e^{z \\left(\\sqrt{\\theta^{2} + 1} + 1\\right)} + \\Omega^{\\scriptsize{(0)}} \\alpha \\delta\\psi \\theta h^{\\scriptsize{(0)}} e^{z \\left(\\sqrt{\\theta^{2} + 1} + 1\\right)} + \\lambda \\theta^{2} \\delta\\Psi{\\left(z \\right)} - \\lambda \\frac{d^{2}}{d z^{2}} \\delta\\Psi{\\left(z \\right)}\\right) = 0$"
      ],
      "text/plain": [
       "Eq(-2*\\Omega^{\\scriptsize{(0)}}*\\omega*\\theta**2*h^{\\scriptsize{(0)}}**2*\\delta\\Psi(z)*exp(2*z) + \\lambda*(\\Omega^{\\scriptsize{(0)}}*\\alpha*\\delta\\psi*\\theta*h^{\\scriptsize{(0)}}*sqrt(\\theta**2 + 1)*exp(z*(sqrt(\\theta**2 + 1) + 1)) + \\Omega^{\\scriptsize{(0)}}*\\alpha*\\delta\\psi*\\theta*h^{\\scriptsize{(0)}}*exp(z*(sqrt(\\theta**2 + 1) + 1)) + \\lambda*\\theta**2*\\delta\\Psi(z) - \\lambda*Derivative(\\delta\\Psi(z), (z, 2))), 0)"
      ]
     },
     "metadata": {},
     "output_type": "display_data"
    },
    {
     "data": {
      "text/latex": [
       "$\\displaystyle \\frac{d^{2}}{d z^{2}} \\delta\\Psi{\\left(z \\right)} = \\frac{\\theta \\left(\\Omega^{\\scriptsize{(0)}} \\alpha \\delta\\psi \\lambda h^{\\scriptsize{(0)}} \\left(\\sqrt{\\theta^{2} + 1} + 1\\right) e^{z \\left(\\sqrt{\\theta^{2} + 1} + 1\\right)} - 2 \\Omega^{\\scriptsize{(0)}} \\omega \\theta \\left(h^{\\scriptsize{(0)}}\\right)^{2} \\delta\\Psi{\\left(z \\right)} e^{2 z} + \\lambda^{2} \\theta \\delta\\Psi{\\left(z \\right)}\\right)}{\\lambda^{2}}$"
      ],
      "text/plain": [
       "Eq(Derivative(\\delta\\Psi(z), (z, 2)), \\theta*(\\Omega^{\\scriptsize{(0)}}*\\alpha*\\delta\\psi*\\lambda*h^{\\scriptsize{(0)}}*(sqrt(\\theta**2 + 1) + 1)*exp(z*(sqrt(\\theta**2 + 1) + 1)) - 2*\\Omega^{\\scriptsize{(0)}}*\\omega*\\theta*h^{\\scriptsize{(0)}}**2*\\delta\\Psi(z)*exp(2*z) + \\lambda**2*\\theta*\\delta\\Psi(z))/\\lambda**2)"
      ]
     },
     "metadata": {},
     "output_type": "display_data"
    },
    {
     "name": "stdout",
     "output_type": "stream",
     "text": [
      "Substitutions: \n"
     ]
    },
    {
     "data": {
      "text/latex": [
       "$\\displaystyle \\delta{V}_x{\\left(z \\right)} = \\frac{i \\Omega^{\\scriptsize{(0)}} \\theta \\delta\\Psi{\\left(z \\right)}}{\\lambda}$"
      ],
      "text/plain": [
       "Eq(\\delta{V}_x(z), I*\\Omega^{\\scriptsize{(0)}}*\\theta*\\delta\\Psi(z)/\\lambda)"
      ]
     },
     "metadata": {},
     "output_type": "display_data"
    },
    {
     "data": {
      "text/latex": [
       "$\\displaystyle \\delta{V}_y{\\left(z \\right)} = \\frac{d}{d z} \\delta\\Psi{\\left(z \\right)}$"
      ],
      "text/plain": [
       "Eq(\\delta{V}_y(z), Derivative(\\delta\\Psi(z), z))"
      ]
     },
     "metadata": {},
     "output_type": "display_data"
    },
    {
     "data": {
      "text/latex": [
       "$\\displaystyle \\delta{V}_z{\\left(z \\right)} = - i \\theta \\delta\\Psi{\\left(z \\right)}$"
      ],
      "text/plain": [
       "Eq(\\delta{V}_z(z), -I*\\theta*\\delta\\Psi(z))"
      ]
     },
     "metadata": {},
     "output_type": "display_data"
    },
    {
     "name": "stdout",
     "output_type": "stream",
     "text": [
      "First bc: \n"
     ]
    },
    {
     "data": {
      "text/latex": [
       "$\\displaystyle - \\alpha h^{\\scriptsize{(0)}} \\frac{d}{d z} \\delta{V}_z{\\left(z \\right)} - \\delta\\psi \\sqrt{\\theta^{2} + 1} + \\delta\\xi \\left(\\lambda - i \\omega\\right)$"
      ],
      "text/plain": [
       "-\\alpha*h^{\\scriptsize{(0)}}*Derivative(\\delta{V}_z(z), z) - \\delta\\psi*sqrt(\\theta**2 + 1) + \\delta\\xi*(\\lambda - I*\\omega)"
      ]
     },
     "metadata": {},
     "output_type": "display_data"
    },
    {
     "data": {
      "text/latex": [
       "$\\displaystyle i \\alpha \\theta h^{\\scriptsize{(0)}} \\frac{d}{d z} \\delta\\Psi{\\left(z \\right)} - \\delta\\psi \\sqrt{\\theta^{2} + 1} + \\delta\\xi \\left(\\lambda - i \\omega\\right)$"
      ],
      "text/plain": [
       "I*\\alpha*\\theta*h^{\\scriptsize{(0)}}*Derivative(\\delta\\Psi(z), z) - \\delta\\psi*sqrt(\\theta**2 + 1) + \\delta\\xi*(\\lambda - I*\\omega)"
      ]
     },
     "metadata": {},
     "output_type": "display_data"
    },
    {
     "data": {
      "text/latex": [
       "$\\displaystyle i \\alpha \\sqrt{\\epsilon} \\psi^{\\scriptsize{(0)}} \\theta \\tilde{\\delta\\psi} h^{\\scriptsize{(0)}} \\frac{d}{d z} \\tilde{\\delta\\Psi}{\\left(z \\right)} + \\frac{\\omega_{0} \\tilde{\\delta h} h^{\\scriptsize{(0)}} \\left(4 \\tilde{\\lambda} + i \\left(\\epsilon \\gamma - 4\\right)\\right)}{4} - \\psi^{\\scriptsize{(0)}} \\tilde{\\delta\\psi} \\sqrt{\\theta^{2} + 1}$"
      ],
      "text/plain": [
       "I*\\alpha*sqrt(\\epsilon)*\\psi^{\\scriptsize{(0)}}*\\theta*\\tilde{\\delta\\psi}*h^{\\scriptsize{(0)}}*Derivative(\\tilde{\\delta\\Psi}(z), z) + \\omega_0*\\tilde{\\delta h}*h^{\\scriptsize{(0)}}*(4*\\tilde{\\lambda} + I*(\\epsilon*\\gamma - 4))/4 - \\psi^{\\scriptsize{(0)}}*\\tilde{\\delta\\psi}*sqrt(\\theta**2 + 1)"
      ]
     },
     "metadata": {},
     "output_type": "display_data"
    },
    {
     "name": "stdout",
     "output_type": "stream",
     "text": [
      "Second bc: \n"
     ]
    },
    {
     "data": {
      "text/latex": [
       "$\\displaystyle \\delta\\psi \\left(\\lambda - i \\omega\\right) + \\delta\\xi g - \\delta{p}^{\\varpi}$"
      ],
      "text/plain": [
       "\\delta\\psi*(\\lambda - I*\\omega) + \\delta\\xi*g - \\delta{p}^{\\varpi}"
      ]
     },
     "metadata": {},
     "output_type": "display_data"
    },
    {
     "data": {
      "text/latex": [
       "$\\displaystyle \\frac{- i \\Omega^{\\scriptsize{(0)}} \\delta\\psi - i \\alpha \\psi^{\\scriptsize{(0)}} \\frac{d}{d z} \\delta{V}_x{\\left(z \\right)} + i \\alpha \\psi^{\\scriptsize{(0)}} \\int\\limits_{-\\infty}^{0} \\left(- \\theta^{2} \\delta{V}_x{\\left(z \\right)} + i \\theta^{2} \\delta{V}_z{\\left(z \\right)} + \\frac{d^{2}}{d z^{2}} \\delta{V}_x{\\left(z \\right)} - i \\frac{d^{2}}{d z^{2}} \\delta{V}_z{\\left(z \\right)}\\right) e^{z} e^{z \\sqrt{\\theta^{2} + 1}}\\, dz + \\sqrt{\\theta^{2} + 1} \\left(\\delta\\psi \\left(\\lambda - i \\omega\\right) + \\delta\\xi g\\right)}{\\sqrt{\\theta^{2} + 1}}$"
      ],
      "text/plain": [
       "(-I*\\Omega^{\\scriptsize{(0)}}*\\delta\\psi - I*\\alpha*\\psi^{\\scriptsize{(0)}}*Derivative(\\delta{V}_x(z), z) + I*\\alpha*\\psi^{\\scriptsize{(0)}}*Integral((-\\theta**2*\\delta{V}_x(z) + I*\\theta**2*\\delta{V}_z(z) + Derivative(\\delta{V}_x(z), (z, 2)) - I*Derivative(\\delta{V}_z(z), (z, 2)))*exp(z)*exp(z*sqrt(\\theta**2 + 1)), (z, -oo, 0)) + sqrt(\\theta**2 + 1)*(\\delta\\psi*(\\lambda - I*\\omega) + \\delta\\xi*g))/sqrt(\\theta**2 + 1)"
      ]
     },
     "metadata": {},
     "output_type": "display_data"
    },
    {
     "data": {
      "text/latex": [
       "$\\displaystyle \\frac{\\frac{\\Omega^{\\scriptsize{(0)}} \\alpha \\psi^{\\scriptsize{(0)}} \\theta \\frac{d}{d z} \\delta\\Psi{\\left(z \\right)}}{\\lambda} - i \\Omega^{\\scriptsize{(0)}} \\delta\\psi - \\frac{\\alpha \\psi^{\\scriptsize{(0)}} \\theta \\left(\\Omega^{\\scriptsize{(0)}} + i \\lambda\\right) \\int\\limits_{-\\infty}^{0} \\left(- \\theta^{2} \\delta\\Psi{\\left(z \\right)} e^{z} e^{z \\sqrt{\\theta^{2} + 1}} + e^{z} e^{z \\sqrt{\\theta^{2} + 1}} \\frac{d^{2}}{d z^{2}} \\delta\\Psi{\\left(z \\right)}\\right)\\, dz}{\\lambda} + \\sqrt{\\theta^{2} + 1} \\left(\\delta\\psi \\left(\\lambda - i \\omega\\right) + \\delta\\xi g\\right)}{\\sqrt{\\theta^{2} + 1}}$"
      ],
      "text/plain": [
       "(\\Omega^{\\scriptsize{(0)}}*\\alpha*\\psi^{\\scriptsize{(0)}}*\\theta*Derivative(\\delta\\Psi(z), z)/\\lambda - I*\\Omega^{\\scriptsize{(0)}}*\\delta\\psi - \\alpha*\\psi^{\\scriptsize{(0)}}*\\theta*(\\Omega^{\\scriptsize{(0)}} + I*\\lambda)*Integral(-\\theta**2*\\delta\\Psi(z)*exp(z)*exp(z*sqrt(\\theta**2 + 1)) + exp(z)*exp(z*sqrt(\\theta**2 + 1))*Derivative(\\delta\\Psi(z), (z, 2)), (z, -oo, 0))/\\lambda + sqrt(\\theta**2 + 1)*(\\delta\\psi*(\\lambda - I*\\omega) + \\delta\\xi*g))/sqrt(\\theta**2 + 1)"
      ]
     },
     "metadata": {},
     "output_type": "display_data"
    },
    {
     "data": {
      "text/latex": [
       "$\\displaystyle \\Omega^{\\scriptsize{(0)}} \\alpha \\psi^{\\scriptsize{(0)}} \\theta \\frac{d}{d z} \\delta\\Psi{\\left(z \\right)} - \\frac{\\Omega^{\\scriptsize{(0)}} \\alpha \\psi^{\\scriptsize{(0)}} \\theta^{2} h^{\\scriptsize{(0)}} \\left(\\Omega^{\\scriptsize{(0)}} + i \\lambda\\right) \\int\\limits_{-\\infty}^{0} \\left(\\alpha \\delta\\psi \\lambda \\sqrt{\\theta^{2} + 1} e^{z \\sqrt{\\theta^{2} + 1}} + \\alpha \\delta\\psi \\lambda e^{z \\sqrt{\\theta^{2} + 1}} - 2 \\omega \\theta h^{\\scriptsize{(0)}} \\delta\\Psi{\\left(z \\right)} e^{z}\\right) e^{2 z} e^{z \\sqrt{\\theta^{2} + 1}}\\, dz}{\\lambda^{2}} + \\lambda \\left(- i \\Omega^{\\scriptsize{(0)}} \\delta\\psi + \\sqrt{\\theta^{2} + 1} \\left(\\delta\\psi \\left(\\lambda - i \\omega\\right) + \\delta\\xi g\\right)\\right)$"
      ],
      "text/plain": [
       "\\Omega^{\\scriptsize{(0)}}*\\alpha*\\psi^{\\scriptsize{(0)}}*\\theta*Derivative(\\delta\\Psi(z), z) - \\Omega^{\\scriptsize{(0)}}*\\alpha*\\psi^{\\scriptsize{(0)}}*\\theta**2*h^{\\scriptsize{(0)}}*(\\Omega^{\\scriptsize{(0)}} + I*\\lambda)*Integral((\\alpha*\\delta\\psi*\\lambda*sqrt(\\theta**2 + 1)*exp(z*sqrt(\\theta**2 + 1)) + \\alpha*\\delta\\psi*\\lambda*exp(z*sqrt(\\theta**2 + 1)) - 2*\\omega*\\theta*h^{\\scriptsize{(0)}}*\\delta\\Psi(z)*exp(z))*exp(2*z)*exp(z*sqrt(\\theta**2 + 1)), (z, -oo, 0))/\\lambda**2 + \\lambda*(-I*\\Omega^{\\scriptsize{(0)}}*\\delta\\psi + sqrt(\\theta**2 + 1)*(\\delta\\psi*(\\lambda - I*\\omega) + \\delta\\xi*g))"
      ]
     },
     "metadata": {},
     "output_type": "display_data"
    },
    {
     "data": {
      "text/latex": [
       "$\\displaystyle \\frac{\\omega_{0}^{2} \\left(- \\frac{i \\alpha \\epsilon \\psi^{\\scriptsize{(0)}} \\theta^{2} \\tilde{\\delta\\psi} \\left(h^{\\scriptsize{(0)}}\\right)^{2} \\left(\\epsilon + 2 i \\tilde{\\lambda}\\right) \\left(\\epsilon \\gamma - 4\\right) \\int\\limits_{-\\infty}^{0} \\left(2 \\alpha \\tilde{\\lambda} \\sqrt{\\theta^{2} + 1} e^{z \\sqrt{\\theta^{2} + 1}} + 2 \\alpha \\tilde{\\lambda} e^{z \\sqrt{\\theta^{2} + 1}} + \\epsilon^{\\frac{3}{2}} \\gamma \\theta h^{\\scriptsize{(0)}} \\tilde{\\delta\\Psi}{\\left(z \\right)} e^{z} - 4 \\sqrt{\\epsilon} \\theta h^{\\scriptsize{(0)}} \\tilde{\\delta\\Psi}{\\left(z \\right)} e^{z}\\right) e^{2 z} e^{z \\sqrt{\\theta^{2} + 1}}\\, dz}{2} + 2 \\tilde{\\lambda}^{2} \\left(i \\alpha \\epsilon^{\\frac{3}{2}} \\psi^{\\scriptsize{(0)}} \\theta \\tilde{\\delta\\psi} h^{\\scriptsize{(0)}} \\left(\\epsilon \\gamma - 4\\right) \\frac{d}{d z} \\tilde{\\delta\\Psi}{\\left(z \\right)} - 2 \\tilde{\\lambda} \\left(2 i \\epsilon \\psi^{\\scriptsize{(0)}} \\tilde{\\delta\\psi} - \\sqrt{\\theta^{2} + 1} \\cdot \\left(4 \\omega_{0} \\tilde{\\delta h} h^{\\scriptsize{(0)}} + \\psi^{\\scriptsize{(0)}} \\tilde{\\delta\\psi} \\left(4 \\tilde{\\lambda} + i \\left(\\epsilon \\gamma - 4\\right)\\right)\\right)\\right)\\right)\\right)}{16 \\tilde{\\lambda}^{2}}$"
      ],
      "text/plain": [
       "\\omega_0**2*(-I*\\alpha*\\epsilon*\\psi^{\\scriptsize{(0)}}*\\theta**2*\\tilde{\\delta\\psi}*h^{\\scriptsize{(0)}}**2*(\\epsilon + 2*I*\\tilde{\\lambda})*(\\epsilon*\\gamma - 4)*Integral((2*\\alpha*\\tilde{\\lambda}*sqrt(\\theta**2 + 1)*exp(z*sqrt(\\theta**2 + 1)) + 2*\\alpha*\\tilde{\\lambda}*exp(z*sqrt(\\theta**2 + 1)) + \\epsilon**(3/2)*\\gamma*\\theta*h^{\\scriptsize{(0)}}*\\tilde{\\delta\\Psi}(z)*exp(z) - 4*sqrt(\\epsilon)*\\theta*h^{\\scriptsize{(0)}}*\\tilde{\\delta\\Psi}(z)*exp(z))*exp(2*z)*exp(z*sqrt(\\theta**2 + 1)), (z, -oo, 0))/2 + 2*\\tilde{\\lambda}**2*(I*\\alpha*\\epsilon**(3/2)*\\psi^{\\scriptsize{(0)}}*\\theta*\\tilde{\\delta\\psi}*h^{\\scriptsize{(0)}}*(\\epsilon*\\gamma - 4)*Derivative(\\tilde{\\delta\\Psi}(z), z) - 2*\\tilde{\\lambda}*(2*I*\\epsilon*\\psi^{\\scriptsize{(0)}}*\\tilde{\\delta\\psi} - sqrt(\\theta**2 + 1)*(4*\\omega_0*\\tilde{\\delta h}*h^{\\scriptsize{(0)}} + \\psi^{\\scriptsize{(0)}}*\\tilde{\\delta\\psi}*(4*\\tilde{\\lambda} + I*(\\epsilon*\\gamma - 4))))))/(16*\\tilde{\\lambda}**2)"
      ]
     },
     "metadata": {},
     "output_type": "display_data"
    },
    {
     "data": {
      "text/latex": [
       "$\\displaystyle - \\frac{\\omega_{0}^{2} \\left(i \\alpha \\epsilon \\overline{\\delta{p}}^{\\varpi}_{int} \\psi^{\\scriptsize{(0)}} \\theta^{2} \\tilde{\\delta\\psi} \\left(h^{\\scriptsize{(0)}}\\right)^{2} \\left(\\epsilon + 2 i \\tilde{\\lambda}\\right) \\left(\\epsilon \\gamma - 4\\right) - 4 \\tilde{\\lambda}^{2} \\left(i \\alpha \\epsilon^{\\frac{3}{2}} \\psi^{\\scriptsize{(0)}} \\theta \\tilde{\\delta\\psi} h^{\\scriptsize{(0)}} \\left(\\epsilon \\gamma - 4\\right) \\frac{d}{d z} \\tilde{\\delta\\Psi}{\\left(z \\right)} - 2 \\tilde{\\lambda} \\left(2 i \\epsilon \\psi^{\\scriptsize{(0)}} \\tilde{\\delta\\psi} - \\sqrt{\\theta^{2} + 1} \\cdot \\left(4 \\omega_{0} \\tilde{\\delta h} h^{\\scriptsize{(0)}} + \\psi^{\\scriptsize{(0)}} \\tilde{\\delta\\psi} \\left(4 \\tilde{\\lambda} + i \\left(\\epsilon \\gamma - 4\\right)\\right)\\right)\\right)\\right)\\right)}{32 \\tilde{\\lambda}^{2}}$"
      ],
      "text/plain": [
       "-\\omega_0**2*(I*\\alpha*\\epsilon*\\overline{\\delta{p}}^{\\varpi}_{int}*\\psi^{\\scriptsize{(0)}}*\\theta**2*\\tilde{\\delta\\psi}*h^{\\scriptsize{(0)}}**2*(\\epsilon + 2*I*\\tilde{\\lambda})*(\\epsilon*\\gamma - 4) - 4*\\tilde{\\lambda}**2*(I*\\alpha*\\epsilon**(3/2)*\\psi^{\\scriptsize{(0)}}*\\theta*\\tilde{\\delta\\psi}*h^{\\scriptsize{(0)}}*(\\epsilon*\\gamma - 4)*Derivative(\\tilde{\\delta\\Psi}(z), z) - 2*\\tilde{\\lambda}*(2*I*\\epsilon*\\psi^{\\scriptsize{(0)}}*\\tilde{\\delta\\psi} - sqrt(\\theta**2 + 1)*(4*\\omega_0*\\tilde{\\delta h}*h^{\\scriptsize{(0)}} + \\psi^{\\scriptsize{(0)}}*\\tilde{\\delta\\psi}*(4*\\tilde{\\lambda} + I*(\\epsilon*\\gamma - 4))))))/(32*\\tilde{\\lambda}**2)"
      ]
     },
     "metadata": {},
     "output_type": "display_data"
    },
    {
     "data": {
      "text/latex": [
       "$\\displaystyle i \\alpha \\epsilon \\overline{\\delta{p}}^{\\varpi}_{int} \\psi^{\\scriptsize{(0)}} \\theta^{2} \\tilde{\\delta\\psi} \\left(h^{\\scriptsize{(0)}}\\right)^{2} \\left(\\epsilon + 2 i \\tilde{\\lambda}\\right) \\left(\\epsilon \\gamma - 4\\right) - 4 \\tilde{\\lambda}^{2} \\left(i \\alpha \\epsilon^{\\frac{3}{2}} \\psi^{\\scriptsize{(0)}} \\theta \\tilde{\\delta\\psi} h^{\\scriptsize{(0)}} \\left(\\epsilon \\gamma - 4\\right) \\frac{d}{d z} \\tilde{\\delta\\Psi}{\\left(z \\right)} - 2 \\tilde{\\lambda} \\left(2 i \\epsilon \\psi^{\\scriptsize{(0)}} \\tilde{\\delta\\psi} - \\sqrt{\\theta^{2} + 1} \\cdot \\left(4 \\omega_{0} \\tilde{\\delta h} h^{\\scriptsize{(0)}} + \\psi^{\\scriptsize{(0)}} \\tilde{\\delta\\psi} \\left(4 \\tilde{\\lambda} + i \\left(\\epsilon \\gamma - 4\\right)\\right)\\right)\\right)\\right)$"
      ],
      "text/plain": [
       "I*\\alpha*\\epsilon*\\overline{\\delta{p}}^{\\varpi}_{int}*\\psi^{\\scriptsize{(0)}}*\\theta**2*\\tilde{\\delta\\psi}*h^{\\scriptsize{(0)}}**2*(\\epsilon + 2*I*\\tilde{\\lambda})*(\\epsilon*\\gamma - 4) - 4*\\tilde{\\lambda}**2*(I*\\alpha*\\epsilon**(3/2)*\\psi^{\\scriptsize{(0)}}*\\theta*\\tilde{\\delta\\psi}*h^{\\scriptsize{(0)}}*(\\epsilon*\\gamma - 4)*Derivative(\\tilde{\\delta\\Psi}(z), z) - 2*\\tilde{\\lambda}*(2*I*\\epsilon*\\psi^{\\scriptsize{(0)}}*\\tilde{\\delta\\psi} - sqrt(\\theta**2 + 1)*(4*\\omega_0*\\tilde{\\delta h}*h^{\\scriptsize{(0)}} + \\psi^{\\scriptsize{(0)}}*\\tilde{\\delta\\psi}*(4*\\tilde{\\lambda} + I*(\\epsilon*\\gamma - 4)))))"
      ]
     },
     "metadata": {},
     "output_type": "display_data"
    },
    {
     "data": {
      "text/latex": [
       "$\\displaystyle \\overline{\\delta{p}}^{\\varpi}_{int} = \\int\\limits_{-\\infty}^{0} \\left(2 \\alpha \\tilde{\\lambda} \\sqrt{\\theta^{2} + 1} e^{z \\sqrt{\\theta^{2} + 1}} + 2 \\alpha \\tilde{\\lambda} e^{z \\sqrt{\\theta^{2} + 1}} + \\epsilon^{\\frac{3}{2}} \\gamma \\theta h^{\\scriptsize{(0)}} \\tilde{\\delta\\Psi}{\\left(z \\right)} e^{z} - 4 \\sqrt{\\epsilon} \\theta h^{\\scriptsize{(0)}} \\tilde{\\delta\\Psi}{\\left(z \\right)} e^{z}\\right) e^{2 z} e^{z \\sqrt{\\theta^{2} + 1}}\\, dz$"
      ],
      "text/plain": [
       "Eq(\\overline{\\delta{p}}^{\\varpi}_{int}, Integral((2*\\alpha*\\tilde{\\lambda}*sqrt(\\theta**2 + 1)*exp(z*sqrt(\\theta**2 + 1)) + 2*\\alpha*\\tilde{\\lambda}*exp(z*sqrt(\\theta**2 + 1)) + \\epsilon**(3/2)*\\gamma*\\theta*h^{\\scriptsize{(0)}}*\\tilde{\\delta\\Psi}(z)*exp(z) - 4*sqrt(\\epsilon)*\\theta*h^{\\scriptsize{(0)}}*\\tilde{\\delta\\Psi}(z)*exp(z))*exp(2*z)*exp(z*sqrt(\\theta**2 + 1)), (z, -oo, 0)))"
      ]
     },
     "metadata": {},
     "output_type": "display_data"
    },
    {
     "name": "stdout",
     "output_type": "stream",
     "text": [
      "\n"
     ]
    },
    {
     "data": {
      "text/latex": [
       "$\\displaystyle \\frac{d^{2}}{d z^{2}} \\tilde{\\delta\\Psi}{\\left(z \\right)} = \\frac{\\theta \\left(2 \\alpha \\sqrt{\\epsilon} \\tilde{\\lambda} h^{\\scriptsize{(0)}} \\left(\\sqrt{\\theta^{2} + 1} + 1\\right) e^{z \\left(\\sqrt{\\theta^{2} + 1} + 1\\right)} + \\epsilon \\theta \\left(h^{\\scriptsize{(0)}}\\right)^{2} \\left(\\epsilon \\gamma - 4\\right) \\tilde{\\delta\\Psi}{\\left(z \\right)} e^{2 z} + 4 \\theta \\tilde{\\lambda}^{2} \\tilde{\\delta\\Psi}{\\left(z \\right)}\\right)}{4 \\tilde{\\lambda}^{2}}$"
      ],
      "text/plain": [
       "Eq(Derivative(\\tilde{\\delta\\Psi}(z), (z, 2)), \\theta*(2*\\alpha*sqrt(\\epsilon)*\\tilde{\\lambda}*h^{\\scriptsize{(0)}}*(sqrt(\\theta**2 + 1) + 1)*exp(z*(sqrt(\\theta**2 + 1) + 1)) + \\epsilon*\\theta*h^{\\scriptsize{(0)}}**2*(\\epsilon*\\gamma - 4)*\\tilde{\\delta\\Psi}(z)*exp(2*z) + 4*\\theta*\\tilde{\\lambda}**2*\\tilde{\\delta\\Psi}(z))/(4*\\tilde{\\lambda}**2))"
      ]
     },
     "metadata": {},
     "output_type": "display_data"
    },
    {
     "data": {
      "text/latex": [
       "$\\displaystyle \\psi^{\\scriptsize{(0)}} \\left(4 \\alpha \\epsilon^{\\frac{7}{2}} \\gamma^{2} \\theta \\tilde{\\lambda}^{2} h^{\\scriptsize{(0)}} \\frac{d}{d z} \\tilde{\\delta\\Psi}{\\left(z \\right)} - 16 i \\alpha \\epsilon^{\\frac{5}{2}} \\gamma \\theta \\tilde{\\lambda}^{3} h^{\\scriptsize{(0)}} \\frac{d}{d z} \\tilde{\\delta\\Psi}{\\left(z \\right)} - 32 \\alpha \\epsilon^{\\frac{5}{2}} \\gamma \\theta \\tilde{\\lambda}^{2} h^{\\scriptsize{(0)}} \\frac{d}{d z} \\tilde{\\delta\\Psi}{\\left(z \\right)} + 64 i \\alpha \\epsilon^{\\frac{3}{2}} \\theta \\tilde{\\lambda}^{3} h^{\\scriptsize{(0)}} \\frac{d}{d z} \\tilde{\\delta\\Psi}{\\left(z \\right)} + 64 \\alpha \\epsilon^{\\frac{3}{2}} \\theta \\tilde{\\lambda}^{2} h^{\\scriptsize{(0)}} \\frac{d}{d z} \\tilde{\\delta\\Psi}{\\left(z \\right)} + 128 i \\alpha \\sqrt{\\epsilon} \\theta \\tilde{\\lambda}^{3} h^{\\scriptsize{(0)}} \\sqrt{\\theta^{2} + 1} \\frac{d}{d z} \\tilde{\\delta\\Psi}{\\left(z \\right)} - \\alpha \\epsilon^{4} \\gamma^{2} \\overline{\\delta{p}}^{\\varpi}_{int} \\theta^{2} \\left(h^{\\scriptsize{(0)}}\\right)^{2} - 2 i \\alpha \\epsilon^{3} \\gamma^{2} \\overline{\\delta{p}}^{\\varpi}_{int} \\theta^{2} \\tilde{\\lambda} \\left(h^{\\scriptsize{(0)}}\\right)^{2} + 4 i \\alpha \\epsilon^{3} \\gamma \\overline{\\delta{p}}^{\\varpi}_{int} \\theta^{2} \\tilde{\\lambda} \\left(h^{\\scriptsize{(0)}}\\right)^{2} + 8 \\alpha \\epsilon^{3} \\gamma \\overline{\\delta{p}}^{\\varpi}_{int} \\theta^{2} \\left(h^{\\scriptsize{(0)}}\\right)^{2} - 8 \\alpha \\epsilon^{2} \\gamma \\overline{\\delta{p}}^{\\varpi}_{int} \\theta^{2} \\tilde{\\lambda}^{2} \\left(h^{\\scriptsize{(0)}}\\right)^{2} + 16 i \\alpha \\epsilon^{2} \\gamma \\overline{\\delta{p}}^{\\varpi}_{int} \\theta^{2} \\tilde{\\lambda} \\left(h^{\\scriptsize{(0)}}\\right)^{2} - 16 i \\alpha \\epsilon^{2} \\overline{\\delta{p}}^{\\varpi}_{int} \\theta^{2} \\tilde{\\lambda} \\left(h^{\\scriptsize{(0)}}\\right)^{2} - 16 \\alpha \\epsilon^{2} \\overline{\\delta{p}}^{\\varpi}_{int} \\theta^{2} \\left(h^{\\scriptsize{(0)}}\\right)^{2} + 32 \\alpha \\epsilon \\overline{\\delta{p}}^{\\varpi}_{int} \\theta^{2} \\tilde{\\lambda}^{2} \\left(h^{\\scriptsize{(0)}}\\right)^{2} - 32 i \\alpha \\epsilon \\overline{\\delta{p}}^{\\varpi}_{int} \\theta^{2} \\tilde{\\lambda} \\left(h^{\\scriptsize{(0)}}\\right)^{2} + 8 \\epsilon^{2} \\gamma^{2} \\tilde{\\lambda}^{3} \\sqrt{\\theta^{2} + 1} - 16 \\epsilon^{2} \\gamma \\tilde{\\lambda}^{3} - 64 i \\epsilon \\gamma \\tilde{\\lambda}^{4} \\sqrt{\\theta^{2} + 1} - 64 \\epsilon \\gamma \\tilde{\\lambda}^{3} \\sqrt{\\theta^{2} + 1} + 64 i \\epsilon \\tilde{\\lambda}^{4} + 64 \\epsilon \\tilde{\\lambda}^{3} - 128 \\theta^{2} \\tilde{\\lambda}^{3} - 128 \\tilde{\\lambda}^{5} \\sqrt{\\theta^{2} + 1} + 256 i \\tilde{\\lambda}^{4} \\sqrt{\\theta^{2} + 1} + 128 \\tilde{\\lambda}^{3} \\sqrt{\\theta^{2} + 1} - 128 \\tilde{\\lambda}^{3}\\right)$"
      ],
      "text/plain": [
       "\\psi^{\\scriptsize{(0)}}*(4*\\alpha*\\epsilon**(7/2)*\\gamma**2*\\theta*\\tilde{\\lambda}**2*h^{\\scriptsize{(0)}}*Derivative(\\tilde{\\delta\\Psi}(z), z) - 16*I*\\alpha*\\epsilon**(5/2)*\\gamma*\\theta*\\tilde{\\lambda}**3*h^{\\scriptsize{(0)}}*Derivative(\\tilde{\\delta\\Psi}(z), z) - 32*\\alpha*\\epsilon**(5/2)*\\gamma*\\theta*\\tilde{\\lambda}**2*h^{\\scriptsize{(0)}}*Derivative(\\tilde{\\delta\\Psi}(z), z) + 64*I*\\alpha*\\epsilon**(3/2)*\\theta*\\tilde{\\lambda}**3*h^{\\scriptsize{(0)}}*Derivative(\\tilde{\\delta\\Psi}(z), z) + 64*\\alpha*\\epsilon**(3/2)*\\theta*\\tilde{\\lambda}**2*h^{\\scriptsize{(0)}}*Derivative(\\tilde{\\delta\\Psi}(z), z) + 128*I*\\alpha*sqrt(\\epsilon)*\\theta*\\tilde{\\lambda}**3*h^{\\scriptsize{(0)}}*sqrt(\\theta**2 + 1)*Derivative(\\tilde{\\delta\\Psi}(z), z) - \\alpha*\\epsilon**4*\\gamma**2*\\overline{\\delta{p}}^{\\varpi}_{int}*\\theta**2*h^{\\scriptsize{(0)}}**2 - 2*I*\\alpha*\\epsilon**3*\\gamma**2*\\overline{\\delta{p}}^{\\varpi}_{int}*\\theta**2*\\tilde{\\lambda}*h^{\\scriptsize{(0)}}**2 + 4*I*\\alpha*\\epsilon**3*\\gamma*\\overline{\\delta{p}}^{\\varpi}_{int}*\\theta**2*\\tilde{\\lambda}*h^{\\scriptsize{(0)}}**2 + 8*\\alpha*\\epsilon**3*\\gamma*\\overline{\\delta{p}}^{\\varpi}_{int}*\\theta**2*h^{\\scriptsize{(0)}}**2 - 8*\\alpha*\\epsilon**2*\\gamma*\\overline{\\delta{p}}^{\\varpi}_{int}*\\theta**2*\\tilde{\\lambda}**2*h^{\\scriptsize{(0)}}**2 + 16*I*\\alpha*\\epsilon**2*\\gamma*\\overline{\\delta{p}}^{\\varpi}_{int}*\\theta**2*\\tilde{\\lambda}*h^{\\scriptsize{(0)}}**2 - 16*I*\\alpha*\\epsilon**2*\\overline{\\delta{p}}^{\\varpi}_{int}*\\theta**2*\\tilde{\\lambda}*h^{\\scriptsize{(0)}}**2 - 16*\\alpha*\\epsilon**2*\\overline{\\delta{p}}^{\\varpi}_{int}*\\theta**2*h^{\\scriptsize{(0)}}**2 + 32*\\alpha*\\epsilon*\\overline{\\delta{p}}^{\\varpi}_{int}*\\theta**2*\\tilde{\\lambda}**2*h^{\\scriptsize{(0)}}**2 - 32*I*\\alpha*\\epsilon*\\overline{\\delta{p}}^{\\varpi}_{int}*\\theta**2*\\tilde{\\lambda}*h^{\\scriptsize{(0)}}**2 + 8*\\epsilon**2*\\gamma**2*\\tilde{\\lambda}**3*sqrt(\\theta**2 + 1) - 16*\\epsilon**2*\\gamma*\\tilde{\\lambda}**3 - 64*I*\\epsilon*\\gamma*\\tilde{\\lambda}**4*sqrt(\\theta**2 + 1) - 64*\\epsilon*\\gamma*\\tilde{\\lambda}**3*sqrt(\\theta**2 + 1) + 64*I*\\epsilon*\\tilde{\\lambda}**4 + 64*\\epsilon*\\tilde{\\lambda}**3 - 128*\\theta**2*\\tilde{\\lambda}**3 - 128*\\tilde{\\lambda}**5*sqrt(\\theta**2 + 1) + 256*I*\\tilde{\\lambda}**4*sqrt(\\theta**2 + 1) + 128*\\tilde{\\lambda}**3*sqrt(\\theta**2 + 1) - 128*\\tilde{\\lambda}**3)"
      ]
     },
     "metadata": {},
     "output_type": "display_data"
    }
   ],
   "source": [
    "sym_dp_int_dim, sym_d2z_dPsi_dim_expr, sym_eq_lambda, sym_bc_matrix = get_main_equations(verbose = True, \n",
    "                                                                                         super_verbose = True)"
   ]
  },
  {
   "cell_type": "code",
   "execution_count": 6,
   "metadata": {},
   "outputs": [
    {
     "data": {
      "text/latex": [
       "$\\displaystyle \\int\\limits_{-\\infty}^{0} \\left(2 \\alpha \\tilde{\\lambda} \\sqrt{\\theta^{2} + 1} e^{z \\sqrt{\\theta^{2} + 1}} + 2 \\alpha \\tilde{\\lambda} e^{z \\sqrt{\\theta^{2} + 1}} + \\epsilon^{\\frac{3}{2}} \\gamma \\theta h^{\\scriptsize{(0)}} \\tilde{\\delta\\Psi}{\\left(z \\right)} e^{z} - 4 \\sqrt{\\epsilon} \\theta h^{\\scriptsize{(0)}} \\tilde{\\delta\\Psi}{\\left(z \\right)} e^{z}\\right) e^{2 z} e^{z \\sqrt{\\theta^{2} + 1}}\\, dz$"
      ],
      "text/plain": [
       "Integral((2*\\alpha*\\tilde{\\lambda}*sqrt(\\theta**2 + 1)*exp(z*sqrt(\\theta**2 + 1)) + 2*\\alpha*\\tilde{\\lambda}*exp(z*sqrt(\\theta**2 + 1)) + \\epsilon**(3/2)*\\gamma*\\theta*h^{\\scriptsize{(0)}}*\\tilde{\\delta\\Psi}(z)*exp(z) - 4*sqrt(\\epsilon)*\\theta*h^{\\scriptsize{(0)}}*\\tilde{\\delta\\Psi}(z)*exp(z))*exp(2*z)*exp(z*sqrt(\\theta**2 + 1)), (z, -oo, 0))"
      ]
     },
     "metadata": {},
     "output_type": "display_data"
    },
    {
     "data": {
      "text/latex": [
       "$\\displaystyle \\frac{\\theta \\left(2 \\alpha \\sqrt{\\epsilon} \\tilde{\\lambda} h^{\\scriptsize{(0)}} \\left(\\sqrt{\\theta^{2} + 1} + 1\\right) e^{z \\left(\\sqrt{\\theta^{2} + 1} + 1\\right)} + \\epsilon \\theta \\left(h^{\\scriptsize{(0)}}\\right)^{2} \\left(\\epsilon \\gamma - 4\\right) \\tilde{\\delta\\Psi}{\\left(z \\right)} e^{2 z} + 4 \\theta \\tilde{\\lambda}^{2} \\tilde{\\delta\\Psi}{\\left(z \\right)}\\right)}{4 \\tilde{\\lambda}^{2}}$"
      ],
      "text/plain": [
       "\\theta*(2*\\alpha*sqrt(\\epsilon)*\\tilde{\\lambda}*h^{\\scriptsize{(0)}}*(sqrt(\\theta**2 + 1) + 1)*exp(z*(sqrt(\\theta**2 + 1) + 1)) + \\epsilon*\\theta*h^{\\scriptsize{(0)}}**2*(\\epsilon*\\gamma - 4)*\\tilde{\\delta\\Psi}(z)*exp(2*z) + 4*\\theta*\\tilde{\\lambda}**2*\\tilde{\\delta\\Psi}(z))/(4*\\tilde{\\lambda}**2)"
      ]
     },
     "metadata": {},
     "output_type": "display_data"
    },
    {
     "data": {
      "text/latex": [
       "$\\displaystyle \\psi^{\\scriptsize{(0)}} \\left(4 \\alpha \\epsilon^{\\frac{7}{2}} \\gamma^{2} \\theta \\tilde{\\lambda}^{2} h^{\\scriptsize{(0)}} \\frac{d}{d z} \\tilde{\\delta\\Psi}{\\left(z \\right)} - 16 i \\alpha \\epsilon^{\\frac{5}{2}} \\gamma \\theta \\tilde{\\lambda}^{3} h^{\\scriptsize{(0)}} \\frac{d}{d z} \\tilde{\\delta\\Psi}{\\left(z \\right)} - 32 \\alpha \\epsilon^{\\frac{5}{2}} \\gamma \\theta \\tilde{\\lambda}^{2} h^{\\scriptsize{(0)}} \\frac{d}{d z} \\tilde{\\delta\\Psi}{\\left(z \\right)} + 64 i \\alpha \\epsilon^{\\frac{3}{2}} \\theta \\tilde{\\lambda}^{3} h^{\\scriptsize{(0)}} \\frac{d}{d z} \\tilde{\\delta\\Psi}{\\left(z \\right)} + 64 \\alpha \\epsilon^{\\frac{3}{2}} \\theta \\tilde{\\lambda}^{2} h^{\\scriptsize{(0)}} \\frac{d}{d z} \\tilde{\\delta\\Psi}{\\left(z \\right)} + 128 i \\alpha \\sqrt{\\epsilon} \\theta \\tilde{\\lambda}^{3} h^{\\scriptsize{(0)}} \\sqrt{\\theta^{2} + 1} \\frac{d}{d z} \\tilde{\\delta\\Psi}{\\left(z \\right)} - \\alpha \\epsilon^{4} \\gamma^{2} \\overline{\\delta{p}}^{\\varpi}_{int} \\theta^{2} \\left(h^{\\scriptsize{(0)}}\\right)^{2} - 2 i \\alpha \\epsilon^{3} \\gamma^{2} \\overline{\\delta{p}}^{\\varpi}_{int} \\theta^{2} \\tilde{\\lambda} \\left(h^{\\scriptsize{(0)}}\\right)^{2} + 4 i \\alpha \\epsilon^{3} \\gamma \\overline{\\delta{p}}^{\\varpi}_{int} \\theta^{2} \\tilde{\\lambda} \\left(h^{\\scriptsize{(0)}}\\right)^{2} + 8 \\alpha \\epsilon^{3} \\gamma \\overline{\\delta{p}}^{\\varpi}_{int} \\theta^{2} \\left(h^{\\scriptsize{(0)}}\\right)^{2} - 8 \\alpha \\epsilon^{2} \\gamma \\overline{\\delta{p}}^{\\varpi}_{int} \\theta^{2} \\tilde{\\lambda}^{2} \\left(h^{\\scriptsize{(0)}}\\right)^{2} + 16 i \\alpha \\epsilon^{2} \\gamma \\overline{\\delta{p}}^{\\varpi}_{int} \\theta^{2} \\tilde{\\lambda} \\left(h^{\\scriptsize{(0)}}\\right)^{2} - 16 i \\alpha \\epsilon^{2} \\overline{\\delta{p}}^{\\varpi}_{int} \\theta^{2} \\tilde{\\lambda} \\left(h^{\\scriptsize{(0)}}\\right)^{2} - 16 \\alpha \\epsilon^{2} \\overline{\\delta{p}}^{\\varpi}_{int} \\theta^{2} \\left(h^{\\scriptsize{(0)}}\\right)^{2} + 32 \\alpha \\epsilon \\overline{\\delta{p}}^{\\varpi}_{int} \\theta^{2} \\tilde{\\lambda}^{2} \\left(h^{\\scriptsize{(0)}}\\right)^{2} - 32 i \\alpha \\epsilon \\overline{\\delta{p}}^{\\varpi}_{int} \\theta^{2} \\tilde{\\lambda} \\left(h^{\\scriptsize{(0)}}\\right)^{2} + 8 \\epsilon^{2} \\gamma^{2} \\tilde{\\lambda}^{3} \\sqrt{\\theta^{2} + 1} - 16 \\epsilon^{2} \\gamma \\tilde{\\lambda}^{3} - 64 i \\epsilon \\gamma \\tilde{\\lambda}^{4} \\sqrt{\\theta^{2} + 1} - 64 \\epsilon \\gamma \\tilde{\\lambda}^{3} \\sqrt{\\theta^{2} + 1} + 64 i \\epsilon \\tilde{\\lambda}^{4} + 64 \\epsilon \\tilde{\\lambda}^{3} - 128 \\theta^{2} \\tilde{\\lambda}^{3} - 128 \\tilde{\\lambda}^{5} \\sqrt{\\theta^{2} + 1} + 256 i \\tilde{\\lambda}^{4} \\sqrt{\\theta^{2} + 1} + 128 \\tilde{\\lambda}^{3} \\sqrt{\\theta^{2} + 1} - 128 \\tilde{\\lambda}^{3}\\right)$"
      ],
      "text/plain": [
       "\\psi^{\\scriptsize{(0)}}*(4*\\alpha*\\epsilon**(7/2)*\\gamma**2*\\theta*\\tilde{\\lambda}**2*h^{\\scriptsize{(0)}}*Derivative(\\tilde{\\delta\\Psi}(z), z) - 16*I*\\alpha*\\epsilon**(5/2)*\\gamma*\\theta*\\tilde{\\lambda}**3*h^{\\scriptsize{(0)}}*Derivative(\\tilde{\\delta\\Psi}(z), z) - 32*\\alpha*\\epsilon**(5/2)*\\gamma*\\theta*\\tilde{\\lambda}**2*h^{\\scriptsize{(0)}}*Derivative(\\tilde{\\delta\\Psi}(z), z) + 64*I*\\alpha*\\epsilon**(3/2)*\\theta*\\tilde{\\lambda}**3*h^{\\scriptsize{(0)}}*Derivative(\\tilde{\\delta\\Psi}(z), z) + 64*\\alpha*\\epsilon**(3/2)*\\theta*\\tilde{\\lambda}**2*h^{\\scriptsize{(0)}}*Derivative(\\tilde{\\delta\\Psi}(z), z) + 128*I*\\alpha*sqrt(\\epsilon)*\\theta*\\tilde{\\lambda}**3*h^{\\scriptsize{(0)}}*sqrt(\\theta**2 + 1)*Derivative(\\tilde{\\delta\\Psi}(z), z) - \\alpha*\\epsilon**4*\\gamma**2*\\overline{\\delta{p}}^{\\varpi}_{int}*\\theta**2*h^{\\scriptsize{(0)}}**2 - 2*I*\\alpha*\\epsilon**3*\\gamma**2*\\overline{\\delta{p}}^{\\varpi}_{int}*\\theta**2*\\tilde{\\lambda}*h^{\\scriptsize{(0)}}**2 + 4*I*\\alpha*\\epsilon**3*\\gamma*\\overline{\\delta{p}}^{\\varpi}_{int}*\\theta**2*\\tilde{\\lambda}*h^{\\scriptsize{(0)}}**2 + 8*\\alpha*\\epsilon**3*\\gamma*\\overline{\\delta{p}}^{\\varpi}_{int}*\\theta**2*h^{\\scriptsize{(0)}}**2 - 8*\\alpha*\\epsilon**2*\\gamma*\\overline{\\delta{p}}^{\\varpi}_{int}*\\theta**2*\\tilde{\\lambda}**2*h^{\\scriptsize{(0)}}**2 + 16*I*\\alpha*\\epsilon**2*\\gamma*\\overline{\\delta{p}}^{\\varpi}_{int}*\\theta**2*\\tilde{\\lambda}*h^{\\scriptsize{(0)}}**2 - 16*I*\\alpha*\\epsilon**2*\\overline{\\delta{p}}^{\\varpi}_{int}*\\theta**2*\\tilde{\\lambda}*h^{\\scriptsize{(0)}}**2 - 16*\\alpha*\\epsilon**2*\\overline{\\delta{p}}^{\\varpi}_{int}*\\theta**2*h^{\\scriptsize{(0)}}**2 + 32*\\alpha*\\epsilon*\\overline{\\delta{p}}^{\\varpi}_{int}*\\theta**2*\\tilde{\\lambda}**2*h^{\\scriptsize{(0)}}**2 - 32*I*\\alpha*\\epsilon*\\overline{\\delta{p}}^{\\varpi}_{int}*\\theta**2*\\tilde{\\lambda}*h^{\\scriptsize{(0)}}**2 + 8*\\epsilon**2*\\gamma**2*\\tilde{\\lambda}**3*sqrt(\\theta**2 + 1) - 16*\\epsilon**2*\\gamma*\\tilde{\\lambda}**3 - 64*I*\\epsilon*\\gamma*\\tilde{\\lambda}**4*sqrt(\\theta**2 + 1) - 64*\\epsilon*\\gamma*\\tilde{\\lambda}**3*sqrt(\\theta**2 + 1) + 64*I*\\epsilon*\\tilde{\\lambda}**4 + 64*\\epsilon*\\tilde{\\lambda}**3 - 128*\\theta**2*\\tilde{\\lambda}**3 - 128*\\tilde{\\lambda}**5*sqrt(\\theta**2 + 1) + 256*I*\\tilde{\\lambda}**4*sqrt(\\theta**2 + 1) + 128*\\tilde{\\lambda}**3*sqrt(\\theta**2 + 1) - 128*\\tilde{\\lambda}**3)"
      ]
     },
     "metadata": {},
     "output_type": "display_data"
    },
    {
     "data": {
      "text/latex": [
       "$\\displaystyle 4 \\alpha \\epsilon^{\\frac{7}{2}} \\gamma^{2} \\theta \\tilde{\\lambda}^{2} h^{\\scriptsize{(0)}} \\frac{d}{d z} \\tilde{\\delta\\Psi}{\\left(z \\right)} - 16 i \\alpha \\epsilon^{\\frac{5}{2}} \\gamma \\theta \\tilde{\\lambda}^{3} h^{\\scriptsize{(0)}} \\frac{d}{d z} \\tilde{\\delta\\Psi}{\\left(z \\right)} - 32 \\alpha \\epsilon^{\\frac{5}{2}} \\gamma \\theta \\tilde{\\lambda}^{2} h^{\\scriptsize{(0)}} \\frac{d}{d z} \\tilde{\\delta\\Psi}{\\left(z \\right)} + 64 i \\alpha \\epsilon^{\\frac{3}{2}} \\theta \\tilde{\\lambda}^{3} h^{\\scriptsize{(0)}} \\frac{d}{d z} \\tilde{\\delta\\Psi}{\\left(z \\right)} + 64 \\alpha \\epsilon^{\\frac{3}{2}} \\theta \\tilde{\\lambda}^{2} h^{\\scriptsize{(0)}} \\frac{d}{d z} \\tilde{\\delta\\Psi}{\\left(z \\right)} + 128 i \\alpha \\sqrt{\\epsilon} \\theta \\tilde{\\lambda}^{3} h^{\\scriptsize{(0)}} \\sqrt{\\theta^{2} + 1} \\frac{d}{d z} \\tilde{\\delta\\Psi}{\\left(z \\right)} - \\alpha \\epsilon^{4} \\gamma^{2} \\overline{\\delta{p}}^{\\varpi}_{int} \\theta^{2} \\left(h^{\\scriptsize{(0)}}\\right)^{2} - 2 i \\alpha \\epsilon^{3} \\gamma^{2} \\overline{\\delta{p}}^{\\varpi}_{int} \\theta^{2} \\tilde{\\lambda} \\left(h^{\\scriptsize{(0)}}\\right)^{2} + 4 i \\alpha \\epsilon^{3} \\gamma \\overline{\\delta{p}}^{\\varpi}_{int} \\theta^{2} \\tilde{\\lambda} \\left(h^{\\scriptsize{(0)}}\\right)^{2} + 8 \\alpha \\epsilon^{3} \\gamma \\overline{\\delta{p}}^{\\varpi}_{int} \\theta^{2} \\left(h^{\\scriptsize{(0)}}\\right)^{2} - 8 \\alpha \\epsilon^{2} \\gamma \\overline{\\delta{p}}^{\\varpi}_{int} \\theta^{2} \\tilde{\\lambda}^{2} \\left(h^{\\scriptsize{(0)}}\\right)^{2} + 16 i \\alpha \\epsilon^{2} \\gamma \\overline{\\delta{p}}^{\\varpi}_{int} \\theta^{2} \\tilde{\\lambda} \\left(h^{\\scriptsize{(0)}}\\right)^{2} - 16 i \\alpha \\epsilon^{2} \\overline{\\delta{p}}^{\\varpi}_{int} \\theta^{2} \\tilde{\\lambda} \\left(h^{\\scriptsize{(0)}}\\right)^{2} - 16 \\alpha \\epsilon^{2} \\overline{\\delta{p}}^{\\varpi}_{int} \\theta^{2} \\left(h^{\\scriptsize{(0)}}\\right)^{2} + 32 \\alpha \\epsilon \\overline{\\delta{p}}^{\\varpi}_{int} \\theta^{2} \\tilde{\\lambda}^{2} \\left(h^{\\scriptsize{(0)}}\\right)^{2} - 32 i \\alpha \\epsilon \\overline{\\delta{p}}^{\\varpi}_{int} \\theta^{2} \\tilde{\\lambda} \\left(h^{\\scriptsize{(0)}}\\right)^{2} + 8 \\epsilon^{2} \\gamma^{2} \\tilde{\\lambda}^{3} \\sqrt{\\theta^{2} + 1} - 16 \\epsilon^{2} \\gamma \\tilde{\\lambda}^{3} - 64 i \\epsilon \\gamma \\tilde{\\lambda}^{4} \\sqrt{\\theta^{2} + 1} - 64 \\epsilon \\gamma \\tilde{\\lambda}^{3} \\sqrt{\\theta^{2} + 1} + 64 i \\epsilon \\tilde{\\lambda}^{4} + 64 \\epsilon \\tilde{\\lambda}^{3} - 128 \\theta^{2} \\tilde{\\lambda}^{3} - 128 \\tilde{\\lambda}^{5} \\sqrt{\\theta^{2} + 1} + 256 i \\tilde{\\lambda}^{4} \\sqrt{\\theta^{2} + 1} + 128 \\tilde{\\lambda}^{3} \\sqrt{\\theta^{2} + 1} - 128 \\tilde{\\lambda}^{3}$"
      ],
      "text/plain": [
       "4*\\alpha*\\epsilon**(7/2)*\\gamma**2*\\theta*\\tilde{\\lambda}**2*h^{\\scriptsize{(0)}}*Derivative(\\tilde{\\delta\\Psi}(z), z) - 16*I*\\alpha*\\epsilon**(5/2)*\\gamma*\\theta*\\tilde{\\lambda}**3*h^{\\scriptsize{(0)}}*Derivative(\\tilde{\\delta\\Psi}(z), z) - 32*\\alpha*\\epsilon**(5/2)*\\gamma*\\theta*\\tilde{\\lambda}**2*h^{\\scriptsize{(0)}}*Derivative(\\tilde{\\delta\\Psi}(z), z) + 64*I*\\alpha*\\epsilon**(3/2)*\\theta*\\tilde{\\lambda}**3*h^{\\scriptsize{(0)}}*Derivative(\\tilde{\\delta\\Psi}(z), z) + 64*\\alpha*\\epsilon**(3/2)*\\theta*\\tilde{\\lambda}**2*h^{\\scriptsize{(0)}}*Derivative(\\tilde{\\delta\\Psi}(z), z) + 128*I*\\alpha*sqrt(\\epsilon)*\\theta*\\tilde{\\lambda}**3*h^{\\scriptsize{(0)}}*sqrt(\\theta**2 + 1)*Derivative(\\tilde{\\delta\\Psi}(z), z) - \\alpha*\\epsilon**4*\\gamma**2*\\overline{\\delta{p}}^{\\varpi}_{int}*\\theta**2*h^{\\scriptsize{(0)}}**2 - 2*I*\\alpha*\\epsilon**3*\\gamma**2*\\overline{\\delta{p}}^{\\varpi}_{int}*\\theta**2*\\tilde{\\lambda}*h^{\\scriptsize{(0)}}**2 + 4*I*\\alpha*\\epsilon**3*\\gamma*\\overline{\\delta{p}}^{\\varpi}_{int}*\\theta**2*\\tilde{\\lambda}*h^{\\scriptsize{(0)}}**2 + 8*\\alpha*\\epsilon**3*\\gamma*\\overline{\\delta{p}}^{\\varpi}_{int}*\\theta**2*h^{\\scriptsize{(0)}}**2 - 8*\\alpha*\\epsilon**2*\\gamma*\\overline{\\delta{p}}^{\\varpi}_{int}*\\theta**2*\\tilde{\\lambda}**2*h^{\\scriptsize{(0)}}**2 + 16*I*\\alpha*\\epsilon**2*\\gamma*\\overline{\\delta{p}}^{\\varpi}_{int}*\\theta**2*\\tilde{\\lambda}*h^{\\scriptsize{(0)}}**2 - 16*I*\\alpha*\\epsilon**2*\\overline{\\delta{p}}^{\\varpi}_{int}*\\theta**2*\\tilde{\\lambda}*h^{\\scriptsize{(0)}}**2 - 16*\\alpha*\\epsilon**2*\\overline{\\delta{p}}^{\\varpi}_{int}*\\theta**2*h^{\\scriptsize{(0)}}**2 + 32*\\alpha*\\epsilon*\\overline{\\delta{p}}^{\\varpi}_{int}*\\theta**2*\\tilde{\\lambda}**2*h^{\\scriptsize{(0)}}**2 - 32*I*\\alpha*\\epsilon*\\overline{\\delta{p}}^{\\varpi}_{int}*\\theta**2*\\tilde{\\lambda}*h^{\\scriptsize{(0)}}**2 + 8*\\epsilon**2*\\gamma**2*\\tilde{\\lambda}**3*sqrt(\\theta**2 + 1) - 16*\\epsilon**2*\\gamma*\\tilde{\\lambda}**3 - 64*I*\\epsilon*\\gamma*\\tilde{\\lambda}**4*sqrt(\\theta**2 + 1) - 64*\\epsilon*\\gamma*\\tilde{\\lambda}**3*sqrt(\\theta**2 + 1) + 64*I*\\epsilon*\\tilde{\\lambda}**4 + 64*\\epsilon*\\tilde{\\lambda}**3 - 128*\\theta**2*\\tilde{\\lambda}**3 - 128*\\tilde{\\lambda}**5*sqrt(\\theta**2 + 1) + 256*I*\\tilde{\\lambda}**4*sqrt(\\theta**2 + 1) + 128*\\tilde{\\lambda}**3*sqrt(\\theta**2 + 1) - 128*\\tilde{\\lambda}**3"
      ]
     },
     "metadata": {},
     "output_type": "display_data"
    }
   ],
   "source": [
    "display(sym_dp_int_dim)\n",
    "display(sym_d2z_dPsi_dim_expr)\n",
    "display(sym_eq_lambda)\n",
    "sym_eq_lambda = sym_eq_lambda.args[1]\n",
    "display(sym_eq_lambda)"
   ]
  },
  {
   "cell_type": "code",
   "execution_count": 7,
   "metadata": {},
   "outputs": [
    {
     "data": {
      "text/latex": [
       "$\\displaystyle 4 \\alpha \\epsilon^{\\frac{7}{2}} \\theta \\tilde{\\lambda}^{2} h^{\\scriptsize{(0)}} \\frac{d}{d z} \\tilde{\\delta\\Psi}{\\left(z \\right)} - 16 i \\alpha \\epsilon^{\\frac{5}{2}} \\theta \\tilde{\\lambda}^{3} h^{\\scriptsize{(0)}} \\frac{d}{d z} \\tilde{\\delta\\Psi}{\\left(z \\right)} - 32 \\alpha \\epsilon^{\\frac{5}{2}} \\theta \\tilde{\\lambda}^{2} h^{\\scriptsize{(0)}} \\frac{d}{d z} \\tilde{\\delta\\Psi}{\\left(z \\right)} + 64 i \\alpha \\epsilon^{\\frac{3}{2}} \\theta \\tilde{\\lambda}^{3} h^{\\scriptsize{(0)}} \\frac{d}{d z} \\tilde{\\delta\\Psi}{\\left(z \\right)} + 64 \\alpha \\epsilon^{\\frac{3}{2}} \\theta \\tilde{\\lambda}^{2} h^{\\scriptsize{(0)}} \\frac{d}{d z} \\tilde{\\delta\\Psi}{\\left(z \\right)} + 128 i \\alpha \\sqrt{\\epsilon} \\theta \\tilde{\\lambda}^{3} h^{\\scriptsize{(0)}} \\sqrt{\\theta^{2} + 1} \\frac{d}{d z} \\tilde{\\delta\\Psi}{\\left(z \\right)} - \\alpha \\epsilon^{4} \\overline{\\delta{p}}^{\\varpi}_{int} \\theta^{2} \\left(h^{\\scriptsize{(0)}}\\right)^{2} + 2 i \\alpha \\epsilon^{3} \\overline{\\delta{p}}^{\\varpi}_{int} \\theta^{2} \\tilde{\\lambda} \\left(h^{\\scriptsize{(0)}}\\right)^{2} + 8 \\alpha \\epsilon^{3} \\overline{\\delta{p}}^{\\varpi}_{int} \\theta^{2} \\left(h^{\\scriptsize{(0)}}\\right)^{2} - 8 \\alpha \\epsilon^{2} \\overline{\\delta{p}}^{\\varpi}_{int} \\theta^{2} \\tilde{\\lambda}^{2} \\left(h^{\\scriptsize{(0)}}\\right)^{2} - 16 \\alpha \\epsilon^{2} \\overline{\\delta{p}}^{\\varpi}_{int} \\theta^{2} \\left(h^{\\scriptsize{(0)}}\\right)^{2} + 32 \\alpha \\epsilon \\overline{\\delta{p}}^{\\varpi}_{int} \\theta^{2} \\tilde{\\lambda}^{2} \\left(h^{\\scriptsize{(0)}}\\right)^{2} - 32 i \\alpha \\epsilon \\overline{\\delta{p}}^{\\varpi}_{int} \\theta^{2} \\tilde{\\lambda} \\left(h^{\\scriptsize{(0)}}\\right)^{2} + 8 \\epsilon^{2} \\tilde{\\lambda}^{3} \\sqrt{\\theta^{2} + 1} - 16 \\epsilon^{2} \\tilde{\\lambda}^{3} - 64 i \\epsilon \\tilde{\\lambda}^{4} \\sqrt{\\theta^{2} + 1} + 64 i \\epsilon \\tilde{\\lambda}^{4} - 64 \\epsilon \\tilde{\\lambda}^{3} \\sqrt{\\theta^{2} + 1} + 64 \\epsilon \\tilde{\\lambda}^{3} - 128 \\theta^{2} \\tilde{\\lambda}^{3} - 128 \\tilde{\\lambda}^{5} \\sqrt{\\theta^{2} + 1} + 256 i \\tilde{\\lambda}^{4} \\sqrt{\\theta^{2} + 1} + 128 \\tilde{\\lambda}^{3} \\sqrt{\\theta^{2} + 1} - 128 \\tilde{\\lambda}^{3}$"
      ],
      "text/plain": [
       "4*\\alpha*\\epsilon**(7/2)*\\theta*\\tilde{\\lambda}**2*h^{\\scriptsize{(0)}}*Derivative(\\tilde{\\delta\\Psi}(z), z) - 16*I*\\alpha*\\epsilon**(5/2)*\\theta*\\tilde{\\lambda}**3*h^{\\scriptsize{(0)}}*Derivative(\\tilde{\\delta\\Psi}(z), z) - 32*\\alpha*\\epsilon**(5/2)*\\theta*\\tilde{\\lambda}**2*h^{\\scriptsize{(0)}}*Derivative(\\tilde{\\delta\\Psi}(z), z) + 64*I*\\alpha*\\epsilon**(3/2)*\\theta*\\tilde{\\lambda}**3*h^{\\scriptsize{(0)}}*Derivative(\\tilde{\\delta\\Psi}(z), z) + 64*\\alpha*\\epsilon**(3/2)*\\theta*\\tilde{\\lambda}**2*h^{\\scriptsize{(0)}}*Derivative(\\tilde{\\delta\\Psi}(z), z) + 128*I*\\alpha*sqrt(\\epsilon)*\\theta*\\tilde{\\lambda}**3*h^{\\scriptsize{(0)}}*sqrt(\\theta**2 + 1)*Derivative(\\tilde{\\delta\\Psi}(z), z) - \\alpha*\\epsilon**4*\\overline{\\delta{p}}^{\\varpi}_{int}*\\theta**2*h^{\\scriptsize{(0)}}**2 + 2*I*\\alpha*\\epsilon**3*\\overline{\\delta{p}}^{\\varpi}_{int}*\\theta**2*\\tilde{\\lambda}*h^{\\scriptsize{(0)}}**2 + 8*\\alpha*\\epsilon**3*\\overline{\\delta{p}}^{\\varpi}_{int}*\\theta**2*h^{\\scriptsize{(0)}}**2 - 8*\\alpha*\\epsilon**2*\\overline{\\delta{p}}^{\\varpi}_{int}*\\theta**2*\\tilde{\\lambda}**2*h^{\\scriptsize{(0)}}**2 - 16*\\alpha*\\epsilon**2*\\overline{\\delta{p}}^{\\varpi}_{int}*\\theta**2*h^{\\scriptsize{(0)}}**2 + 32*\\alpha*\\epsilon*\\overline{\\delta{p}}^{\\varpi}_{int}*\\theta**2*\\tilde{\\lambda}**2*h^{\\scriptsize{(0)}}**2 - 32*I*\\alpha*\\epsilon*\\overline{\\delta{p}}^{\\varpi}_{int}*\\theta**2*\\tilde{\\lambda}*h^{\\scriptsize{(0)}}**2 + 8*\\epsilon**2*\\tilde{\\lambda}**3*sqrt(\\theta**2 + 1) - 16*\\epsilon**2*\\tilde{\\lambda}**3 - 64*I*\\epsilon*\\tilde{\\lambda}**4*sqrt(\\theta**2 + 1) + 64*I*\\epsilon*\\tilde{\\lambda}**4 - 64*\\epsilon*\\tilde{\\lambda}**3*sqrt(\\theta**2 + 1) + 64*\\epsilon*\\tilde{\\lambda}**3 - 128*\\theta**2*\\tilde{\\lambda}**3 - 128*\\tilde{\\lambda}**5*sqrt(\\theta**2 + 1) + 256*I*\\tilde{\\lambda}**4*sqrt(\\theta**2 + 1) + 128*\\tilde{\\lambda}**3*sqrt(\\theta**2 + 1) - 128*\\tilde{\\lambda}**3"
      ]
     },
     "execution_count": 7,
     "metadata": {},
     "output_type": "execute_result"
    }
   ],
   "source": [
    "sym_eq_lambda"
   ]
  },
  {
   "cell_type": "code",
   "execution_count": 58,
   "metadata": {},
   "outputs": [],
   "source": [
    "class Problem:\n",
    "    class Solution(NamedTuple):\n",
    "        num_lambda: np.complex128 = None\n",
    "        z: npt.NDArray = None\n",
    "        dPsi: npt.NDArray = None\n",
    "        dPsi_partial0: np.complex128 = None\n",
    "        \n",
    "    def __init__(self, numerical_parameters: dict, N_POINTS = int(2**16)):    \n",
    "        if not numerical_parameters[sym_epsilon] > (numerical_parameters[sym_h0] * numerical_parameters[sym_theta])**2:\n",
    "            raise ValueError('Wrong initial parameters')\n",
    "\n",
    "        self.__numerical_parameters = numerical_parameters\n",
    "        self.__MAX_z, self.__N_POINTS = -3 / numerical_parameters[sym_theta], N_POINTS\n",
    "        self.num_d2z_dPsi_dim, self.num_dp_int_dim_expr, self.num_eq_lambda = self._lambdify_sym_equations()\n",
    "        self.solution = Problem.Solution()\n",
    "    \n",
    "    @property\n",
    "    def numerical_parameters(self):\n",
    "        return self.__numerical_parameters\n",
    "\n",
    "    @property\n",
    "    def MAX_z(self):\n",
    "        return self.__MAX_z\n",
    "    \n",
    "    @property\n",
    "    def N_POINTS(self):\n",
    "        return self.__N_POINTS\n",
    "\n",
    "    @classmethod\n",
    "    def calculate_mu_lambda(cls, value, numerical_parameters: dict, mu_from_lambda: bool = True, display_result: bool = False):\n",
    "        sym_mu_def_initial = sym.sqrt(2 * sym_O0 * sym_omega) * sym_h0 * sym_theta / sym_lambda\n",
    "        sym_mu_def = substitute(sym_mu_def_initial, substitutions_dimensionless).simplify()\n",
    "\n",
    "        if mu_from_lambda:\n",
    "            num_mu = substitute(sym_mu_def, numerical_parameters.items())\n",
    "            num_mu = num_mu.subs(sym_lambda_dim, value)\n",
    "            verbose_display(display_result, sym.Eq(sym_mu, \n",
    "                                                    sym.Eq(sym_mu_def_initial, \n",
    "                                                            sym.Eq(sym_mu_def, num_mu, \n",
    "                                                                evaluate = False), \n",
    "                                                        evaluate = False), \n",
    "                                                    evaluate = False))\n",
    "            return complex(num_mu)\n",
    "\n",
    "        else:\n",
    "            sym_lambda_def = sym.solve(sym_mu - sym_mu_def, sym_lambda_dim)[0]\n",
    "            verbose_display(display_result, sym_lambda_def)\n",
    "            num_lambda = substitute(sym_lambda_def, numerical_parameters.items())\n",
    "            num_lambda = num_lambda.subs(sym_mu, value)\n",
    "            verbose_display(display_result, sym.Eq(sym_lambda_dim, \n",
    "                                                    sym.Eq(sym_lambda_def, num_lambda, \n",
    "                                                        evaluate = False), \n",
    "                                                    evaluate = False))\n",
    "            return complex(num_lambda)\n",
    "\n",
    "    def _lambdify_sym_equations(self):\n",
    "        global sym_d2z_dPsi_dim_expr, sym_eq_lambda, sym_dp_int_dim \n",
    "\n",
    "        # Lambdify equation dPsi\n",
    "        sym_d2z_dPsi_dim_expr = substitute(sym_d2z_dPsi_dim_expr, self.numerical_parameters.items()).simplify()\n",
    "        num_d2z_dPsi_dim = sym.lambdify([sym_lambda_dim, \n",
    "                                        sym_z, \n",
    "                                        sym_dPsi_dim], \n",
    "                                        sym_d2z_dPsi_dim_expr, \n",
    "                                        modules = 'numpy')\n",
    "        \n",
    "        # Lambdify dp_dim integral\n",
    "        sym_dp_int_dim_expr = sym_dp_int_dim.args[0]\n",
    "        sym_dp_int_dim_expr = substitute(sym_dp_int_dim_expr, self.numerical_parameters.items())\n",
    "        num_dp_int_dim_expr = sym.lambdify([sym_lambda_dim, \n",
    "                                                    sym_z, \n",
    "                                                    sym_dPsi_dim], \n",
    "                                                    sym_dp_int_dim_expr, \n",
    "                                                    modules = 'numpy')\n",
    "\n",
    "        # Lambdify base lambda equation\n",
    "        sym_eq_lambda = substitute(sym_eq_lambda, self.numerical_parameters.items()).simplify()\n",
    "        num_eq_lambda = sym.lambdify([sym_lambda_dim,\n",
    "                                        sym_dPsi_dim.diff(sym_z),\n",
    "                                        sym_dp_int_dim_symbol],\n",
    "                                        sym_eq_lambda,\n",
    "                                        modules = 'numpy')\n",
    "\n",
    "\n",
    "        \n",
    "        return num_d2z_dPsi_dim, num_dp_int_dim_expr, num_eq_lambda\n",
    "    \n",
    "    def equation_dPsi(self, num_lambda: complex, z: float, y: npt.NDArray): \n",
    "        return np.array((\n",
    "                        y[1], \n",
    "                        self.num_d2z_dPsi_dim(num_lambda, z, y[0])\n",
    "                        ))\n",
    "\n",
    "    def num_dp_int_dim(self, num_lambda, z, dPsi): \n",
    "        return integrate.simpson(self.num_dp_int_dim_expr(num_lambda, z, dPsi), z)\n",
    "\n",
    "    def equation_lambda(self, x, dPsi_partial0_initial):\n",
    "            z, dPsi, partial_dPsi0 = self.solve_dPsi_eq(x, dPsi_partial0_initial)\n",
    "            dp_int = self.num_dp_int_dim(x, z, dPsi)\n",
    "            return self.num_eq_lambda(x, partial_dPsi0, dp_int)\n",
    "\n",
    "    def get_initial_values_CL2(self, verbose: bool = False) -> tuple[complex, complex]:\n",
    "        \"\"\"Create intial values of lambda and partial_dPsi0 from CL2 model\"\"\"\n",
    "\n",
    "        num_mu_CL2 = optimize.newton(lambda x: jv(self.numerical_parameters[sym_theta], x), x0 = 2.4)\n",
    "        num_lambda_CL2 = self.calculate_mu_lambda(num_mu_CL2, self.numerical_parameters, mu_from_lambda = False).real\n",
    "        sym_CL2 = sym.besselj(sym_theta, num_mu_CL2 * sym.exp(-sym_z)).diff(sym_z)\n",
    "        partial_dPsi0_CL2 = float(sym_CL2.evalf(subs = {sym_theta: self.numerical_parameters[sym_theta], sym_z: 0.0}))\n",
    "\n",
    "        verbose_print(\n",
    "            verbose,\n",
    "            f'From CL2 model:\\n',\n",
    "            f'num_mu = {num_mu_CL2}, num_lambda_CL2 = {num_lambda_CL2}, partial_dPsi0 = {partial_dPsi0_CL2}'\n",
    "            )\n",
    "        \n",
    "        partial_dPsi0_initial = self._calculate_partial_dPsi0(num_lambda = num_lambda_CL2, \n",
    "                                                        partial_dPsi0_initial = partial_dPsi0_CL2)\n",
    "        \n",
    "        return complex(num_lambda_CL2), complex(partial_dPsi0_initial)\n",
    "    \n",
    "    def _shooting_method(self, num_lambda: complex, partial_dPsi0: complex):\n",
    "        z = np.linspace(0, self.MAX_z, self.N_POINTS)\n",
    "        z_span = (z[0], z[-1])\n",
    "        dPsi0, partial_dPsi0 = complex(0), partial_dPsi0\n",
    "        y0 = [dPsi0, partial_dPsi0]\n",
    "        solution = solve_ivp(lambda z, y: self.equation_dPsi(num_lambda, z, y), z_span, y0, t_eval = z, method = 'RK45')\n",
    "        dPsi = solution.y[0]\n",
    "        return z, dPsi\n",
    "\n",
    "    def _calculate_partial_dPsi0(self, num_lambda: complex, partial_dPsi0_initial: complex) -> complex:\n",
    "        equation_to_solve = lambda x: self._shooting_method(num_lambda = num_lambda, partial_dPsi0 = x)[1][-1]\n",
    "        partial_dPsi0 = optimize.newton(func = equation_to_solve, x0 = partial_dPsi0_initial, maxiter = 10000)\n",
    "        return partial_dPsi0\n",
    "    \n",
    "    def solve_dPsi_eq(self, num_lambda: complex, partial_dPsi0_initial: complex):\n",
    "        partial_dPsi0 = self._calculate_partial_dPsi0(num_lambda = num_lambda, partial_dPsi0_initial = partial_dPsi0_initial)\n",
    "        z, dPsi = self._shooting_method(num_lambda = num_lambda, partial_dPsi0 = partial_dPsi0)\n",
    "        return z, dPsi, partial_dPsi0\n",
    "    \n",
    "    def solve_lambda_eq_iter(self, num_lambda_initial: complex, partial_dPsi0_initial: complex, verbose: bool = False) -> None:\n",
    "        local_error = 1e-16\n",
    "        step = 1e-15\n",
    "        count = 1\n",
    "        __MAX_ITERATION_NUMBER = 500\n",
    "\n",
    "        verbose_print(verbose, 'Begin of newton method for calculating num_lambda:')\n",
    "        while (abs(step) > local_error) and (count < __MAX_ITERATION_NUMBER):\n",
    "            verbose_print(verbose, \n",
    "                        f'{count})',\n",
    "                        f'Step = {step}', \n",
    "                        f'num_lambda = {num_lambda_initial}')\n",
    "            z, dPsi, partial_dPsi0 = self.solve_dPsi_eq(num_lambda_initial, partial_dPsi0_initial)\n",
    "            dp_int = self.num_dp_int_dim(num_lambda_initial, z, dPsi)\n",
    "            \n",
    "            F = self.num_eq_lambda(num_lambda_initial, partial_dPsi0, dp_int)\n",
    "            partial_dPsi0_initial = partial_dPsi0\n",
    "\n",
    "            num_lambda_displaced = num_lambda_initial + step\n",
    "            z, dPsi, partial_dPsi0 = self.solve_dPsi_eq(num_lambda_displaced, partial_dPsi0)\n",
    "            dp_int = self.num_dp_int_dim(num_lambda_displaced, z, dPsi)\n",
    "            F_displaced = self.num_eq_lambda(num_lambda_displaced, partial_dPsi0, dp_int)\n",
    "\n",
    "            partial_F = (F_displaced - F) / step\n",
    "\n",
    "            num_lambda = num_lambda_initial - F / partial_F\n",
    "            step = num_lambda - num_lambda_initial\n",
    "            num_lambda_initial = num_lambda\n",
    "            count += 1\n",
    "            \n",
    "        verbose_print(verbose, f'End of newton method for num_lambda in {count} iterations')\n",
    "\n",
    "        if count > __MAX_ITERATION_NUMBER:\n",
    "            raise RuntimeError('Maximum iterations achieved!')\n",
    "        \n",
    "        self.solution = Problem.Solution(num_lambda, z, dPsi, partial_dPsi0)\n",
    "    \n",
    "    def solve_lambda_eq(self, num_lambda_initial: complex, partial_dPsi0_initial: complex) -> None:\n",
    "        num_lambda = optimize.newton(func = self.equation_lambda, x0 = num_lambda_initial, args = (partial_dPsi0_initial,), maxiter = 1000)\n",
    "        z, dPsi, partial_dPsi0 = self.solve_dPsi_eq(num_lambda = num_lambda, partial_dPsi0_initial = partial_dPsi0_initial)\n",
    "        self.solution = Problem.Solution(num_lambda, z, dPsi, partial_dPsi0)\n",
    "\n",
    "    def plot(self, save_figs: bool = False) -> None:\n",
    "\n",
    "        num_lambda, z, dPsi, _ = self.solution \n",
    "\n",
    "        theta = self.numerical_parameters[sym_theta]\n",
    "        partial_z = lambda field, z: np.diff(field) / np.diff(z)\n",
    "\n",
    "        dVy = partial_z(dPsi, z)\n",
    "        dVz = theta * dPsi\n",
    "        dVy = dVy.real\n",
    "        dVz = dVz.real\n",
    "\n",
    "        dPsi = dPsi.real\n",
    "\n",
    "        num_mu = self.calculate_mu_lambda(num_lambda, self.numerical_parameters)\n",
    "        dPsi_CL2 = jv(theta, 2.4 * np.exp(z))\n",
    "        dPsi_CL2 = dPsi_CL2.real \n",
    "        \n",
    "        plt.plot(-theta * z, dPsi, color = \"red\")\n",
    "        # plt.plot(-theta * z, dPsi_CL2, color = \"blue\")\n",
    "\n",
    "        if save_figs:\n",
    "            pass\n",
    "\n",
    "        \n",
    "def perform_numerical_experiment(numerical_parameters: dict, display_result: bool = True, verbose: bool = False):\n",
    "    numerical_problem = Problem(numerical_parameters = numerical_parameters)\n",
    "\n",
    "    num_lambda_initial, partial_dPsi0_initial =  numerical_problem.get_initial_values_CL2(verbose = verbose)    \n",
    "    \n",
    "    print(\n",
    "        f'Initial guesses:\\n', \n",
    "        f'\\tnum_lambda_initial = {num_lambda_initial},\\n',\n",
    "        f'\\tpartial_dPsi0_initial = {partial_dPsi0_initial},\\n',\n",
    "        )\n",
    "\n",
    "    # numerical_problem.solve_lambda_eq_iter(num_lambda_initial = num_lambda_initial, \n",
    "    #                             partial_dPsi0_initial = partial_dPsi0_initial,\n",
    "    #                             verbose = verbose)\n",
    "    \n",
    "    numerical_problem.solve_lambda_eq(num_lambda_initial = num_lambda_initial, \n",
    "                                partial_dPsi0_initial = partial_dPsi0_initial)\n",
    "    numerical_problem.plot()\n",
    "    solution = numerical_problem.solution \n",
    "    num_lambda, z, dPsi, partial_dPsi0 = solution\n",
    "    \n",
    "    if display_result:\n",
    "        display(sym.Eq(sym_lambda_dim, num_lambda, evaluate = False))\n",
    "        _ = numerical_problem.calculate_mu_lambda(num_lambda, \n",
    "                                                  numerical_problem.numerical_parameters, \n",
    "                                                  mu_from_lambda = True, \n",
    "                                                  display_result = True)\n",
    "\n",
    "    return solution"
   ]
  },
  {
   "cell_type": "code",
   "execution_count": 62,
   "metadata": {},
   "outputs": [
    {
     "name": "stdout",
     "output_type": "stream",
     "text": [
      "From CL2 model:\n",
      " num_mu = 2.4202370026032396, num_lambda_CL2 = 4.131826754670665e-06, partial_dPsi0 = 1.2523258581139285\n",
      "Initial guesses:\n",
      " \tnum_lambda_initial = (4.131826754670665e-06+0j),\n",
      " \tpartial_dPsi0_initial = (0.61310511168469+0j),\n",
      "\n"
     ]
    },
    {
     "data": {
      "text/latex": [
       "$\\displaystyle \\tilde{\\lambda} = 3.44560075781261 \\cdot 10^{-6} - 1.5126891547351 \\cdot 10^{-10} i$"
      ],
      "text/plain": [
       "Eq(\\tilde{\\lambda}, 3.44560075781261e-6 - 1.5126891547351e-10*I)"
      ]
     },
     "metadata": {},
     "output_type": "display_data"
    },
    {
     "data": {
      "text/latex": [
       "$\\displaystyle \\mu = \\frac{\\sqrt{2} \\sqrt{\\Omega^{\\scriptsize{(0)}}} \\sqrt{\\omega} \\theta h^{\\scriptsize{(0)}}}{\\lambda} = \\frac{\\sqrt{\\epsilon} \\theta h^{\\scriptsize{(0)}}}{\\tilde{\\lambda}} = 2.90225150376228 + 0.000127414772709822 i$"
      ],
      "text/plain": [
       "Eq(\\mu, Eq(sqrt(2)*sqrt(\\Omega^{\\scriptsize{(0)}})*sqrt(\\omega)*\\theta*h^{\\scriptsize{(0)}}/\\lambda, Eq(sqrt(\\epsilon)*\\theta*h^{\\scriptsize{(0)}}/\\tilde{\\lambda}, 2.90225150376228 + 0.000127414772709822*I)))"
      ]
     },
     "metadata": {},
     "output_type": "display_data"
    },
    {
     "data": {
      "image/png": "[encoded data removed]",
      "text/plain": [
       "<Figure size 640x480 with 1 Axes>"
      ]
     },
     "metadata": {},
     "output_type": "display_data"
    }
   ],
   "source": [
    "numerical_parameters = {\n",
    "    sym_epsilon: 1e-2,\n",
    "    sym_h0: 1e-2,\n",
    "    sym_alpha: 1e-1,\n",
    "    sym_theta: 1e-2\n",
    "}\n",
    "\n",
    "solution = perform_numerical_experiment(numerical_parameters = numerical_parameters, display_result = True, verbose = True)"
   ]
  },
  {
   "cell_type": "code",
   "execution_count": 22,
   "metadata": {},
   "outputs": [
    {
     "data": {
      "text/plain": [
       "(0.03824295457749438-0.10930166586907135j)"
      ]
     },
     "execution_count": 22,
     "metadata": {},
     "output_type": "execute_result"
    }
   ],
   "source": [
    "solution.dPsi_partial0"
   ]
  }
 ],
 "metadata": {
  "kernelspec": {
   "display_name": "Python 3",
   "language": "python",
   "name": "python3"
  },
  "language_info": {
   "codemirror_mode": {
    "name": "ipython",
    "version": 3
   },
   "file_extension": ".py",
   "mimetype": "text/x-python",
   "name": "python",
   "nbconvert_exporter": "python",
   "pygments_lexer": "ipython3",
   "version": "3.10.12"
  }
 },
 "nbformat": 4,
 "nbformat_minor": 2
}
