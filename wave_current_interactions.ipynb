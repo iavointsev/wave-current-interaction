{
 "cells": [
  {
   "cell_type": "code",
   "execution_count": 4,
   "metadata": {},
   "outputs": [],
   "source": [
    "import sympy as sym\n",
    "from sympy.utilities.lambdify import lambdastr\n",
    "import numpy as np\n",
    "import matplotlib.pyplot as plt\n",
    "import matplotlib.colors as mcolors\n",
    "from IPython.display import display, Markdown\n",
    "from scipy import integrate\n",
    "from scipy.integrate import solve_bvp, solve_ivp\n",
    "from scipy.special import jv\n",
    "from module_initialize import *"
   ]
  },
  {
   "cell_type": "code",
   "execution_count": 5,
   "metadata": {},
   "outputs": [],
   "source": [
    "def create_experiment(main_wave: bool, oblique_wave: bool, shear_flow: bool):\n",
    "    POF = module_POF(main_wave = main_wave, oblique_wave = oblique_wave, shear_flow = shear_flow)\n",
    "    members = [attr for attr in dir(POF) if not callable(getattr(POF, attr)) and not (attr.startswith(\"__\") or attr.startswith(\"_\"))]\n",
    "    methods = [attr for attr in dir(POF) if callable(getattr(POF, attr)) and not (attr.startswith(\"__\") or attr.startswith(\"_\"))]\n",
    "\n",
    "    for member in members if members else []:\n",
    "        globals()[member] = getattr(POF, member)\n",
    "\n",
    "    for method in methods if methods else []:\n",
    "        globals()[method] = getattr(POF, method)\n",
    "    \n",
    "    del POF\n",
    "\n",
    "    return bool(members) or bool(methods)"
   ]
  },
  {
   "cell_type": "code",
   "execution_count": 6,
   "metadata": {},
   "outputs": [
    {
     "data": {
      "text/plain": [
       "True"
      ]
     },
     "execution_count": 6,
     "metadata": {},
     "output_type": "execute_result"
    }
   ],
   "source": [
    "if_main_wave = True\n",
    "if_oblique_wave = True\n",
    "if_shear_flow = False\n",
    "create_experiment(main_wave = if_main_wave, oblique_wave = if_oblique_wave, shear_flow = if_shear_flow)"
   ]
  },
  {
   "cell_type": "code",
   "execution_count": 13,
   "metadata": {},
   "outputs": [],
   "source": [
    "def stokes_drift(verbose = False):\n",
    "\n",
    "    verbose_print(verbose, 'Initial wave: ')\n",
    "    verbose_display(verbose, sym.Eq(sym_phi0_symbol, sym_phi0))\n",
    "    sym_u0x, sym_u0y, sym_u0z = (sym_phi0.diff(var) for var in (sym_x, sym_y, sym_z))\n",
    "\n",
    "    sym_Us0x = (sym.I * sym_u0y / sym_omega * (sym_u0x).conjugate()).diff(sym_y) + \\\n",
    "                (sym.I * sym_u0z / sym_omega * (sym_u0x).conjugate()).diff(sym_z)\n",
    "    sym_Us0x = sym_Us0x / 2\n",
    "    sym_Us0y = 0\n",
    "    sym_Us0x = sym_Us0x.subs(sym_psi0, - sym.I * sym_omega * sym_h0)\n",
    "    sym_Us0x = sym_Us0x.simplify()\n",
    "    \n",
    "    verbose_display(verbose, sym.Eq(sym.Symbol(r'U^{s0}_x'), sym_Us0x))\n",
    "\n",
    "    verbose_print(verbose, 'Oblique wave: ')\n",
    "    verbose_display(verbose, sym.Eq(sym_dphi_symbol, sym_dphi))\n",
    "    sym_dux, sym_duy, sym_duz = (sym_dphi.diff(var) for var in (sym_x, sym_y, sym_z))\n",
    "\n",
    "    sym_dUsx = (sym.I * sym_duy / sym_omega * (sym_u0x).conjugate()).diff(sym_y) + \\\n",
    "                (sym.I * sym_duz / sym_omega * (sym_u0x).conjugate()).diff(sym_z) + \\\n",
    "                ((sym.I * sym_u0y / sym_omega).conjugate() * sym_dux).diff(sym_y) + \\\n",
    "                ((sym.I * sym_u0z / sym_omega).conjugate() * sym_dux).diff(sym_z)\n",
    "    sym_dUsx = sym_dUsx / 2\n",
    "    sym_dUsy = (sym.I * sym_dux / sym_omega * (sym_u0y).conjugate()).diff(sym_x) + \\\n",
    "                (sym.I * sym_duz / sym_omega * (sym_u0y).conjugate()).diff(sym_z) + \\\n",
    "                ((sym.I * sym_u0x / sym_omega).conjugate() * sym_duy).diff(sym_x) + \\\n",
    "                ((sym.I * sym_u0z / sym_omega).conjugate() * sym_duy).diff(sym_z)\n",
    "    sym_dUsy = sym_dUsy / 2\n",
    "    \n",
    "    sym_dUsx = sym_dUsx.subs(sym_psi0, - sym.I * sym_omega * sym_h0)\n",
    "    sym_dUsy = sym_dUsy.subs(sym_psi0, - sym.I * sym_omega * sym_h0)\n",
    "\n",
    "    sym_dUsx = sym_dUsx.simplify()\n",
    "    sym_dUsy = sym_dUsy.simplify()\n",
    "\n",
    "    verbose_display(verbose, sym.Eq(sym.Symbol(r'\\delta U^s_x'), sym_dUsx))\n",
    "    verbose_display(verbose, sym.Eq(sym.Symbol(r'\\delta U^s_y'), sym_dUsy))\n",
    "\n",
    "    return (sym_Us0x, sym_Us0y, 0), (sym_dUsx, sym_dUsy, 0)\n",
    "\n",
    "def vortex_force(verbose = False):\n",
    "\n",
    "    sym_Us0_vec, sym_dUs_vec = stokes_drift(verbose = verbose)\n",
    "     \n",
    "    sym_vec_O0 = (0, sym_O0, 0)\n",
    "\n",
    "    sym_dfV_1 = vector_mult(sym_Us0_vec, sym_vec_dO) \n",
    "    sym_dfV_2 = vector_mult(sym_dUs_vec, sym_vec_O0)\n",
    "    sym_dfV = tuple(map(lambda x, y: x + y, sym_dfV_1, sym_dfV_2))\n",
    "    sym_dfV = simplify_vector(sym_dfV)\n",
    "    sym_curl_dfV = curl(sym_dfV)\n",
    "    sym_curl_dfV = simplify_vector(sym_curl_dfV)\n",
    "\n",
    "    verbose_display(verbose, sym.Eq(sym.Symbol(r'\\delta{f^V}_x'), sym_dfV[0]))\n",
    "    verbose_display(verbose, sym.Eq(sym.Symbol(r'\\delta{f^V}_y'), sym_dfV[1]))\n",
    "    verbose_display(verbose, sym.Eq(sym.Symbol(r'\\delta{f^V}_z'), sym_dfV[2]))\n",
    "    verbose_display(verbose, sym.Eq(sym.Symbol(r'\\big(\\operatorname{curl}\\delta{f^V}\\big)_x'), sym_curl_dfV[0]))\n",
    "    verbose_display(verbose, sym.Eq(sym.Symbol(r'\\big(\\operatorname{curl}\\delta{f^V}\\big)_y'), sym_curl_dfV[1]))\n",
    "    verbose_display(verbose, sym.Eq(sym.Symbol(r'\\big(\\operatorname{curl}\\delta{f^V}\\big)_z'), sym_curl_dfV[2]))\n",
    "\n",
    "    return sym_dfV, sym_curl_dfV\n",
    "\n",
    "def get_equation_dPsi(verbose = False):\n",
    "    # global sym_dVx, sym_dVy, sym_dVz\n",
    "\n",
    "    sym_dfV, sym_curl_dfV = vortex_force(verbose = verbose)\n",
    "    sym_dfVx = sym_dfV[0]\n",
    "    sym_curl_dfVx = sym_curl_dfV[0]\n",
    "\n",
    "    laplas = lambda expr: expr.diff(sym_x, 2) + expr.diff(sym_y, 2) + expr.diff(sym_z, 2)\n",
    "\n",
    "    sym_nu = 0\n",
    "\n",
    "    # equation (38)\n",
    "    sym_equation_dOx = (sym_lambda * sym_dOx - sym_nu * laplas(sym_dOx) + sym_V0_symbol * sym_dOx.diff(sym_x)) - \\\n",
    "                        sym_O0 * (sym_dOz + sym_dVx.diff(sym_y)) - sym_curl_dfVx\n",
    "    sym_equation_dOx = sym_equation_dOx.simplify()\n",
    "\n",
    "    # equation (39)\n",
    "    sym_equation_dVx = (sym_lambda * sym_dVx - sym_nu * laplas(sym_dVx) + sym_V0_symbol * sym_dVx.diff(sym_x)) + \\\n",
    "                        sym_dVz * sym_O0 - sym_dfVx\n",
    "    sym_equation_dVx = sym_equation_dVx.simplify()\n",
    "\n",
    "    verbose_print(verbose, \"Initial equations: \")\n",
    "    verbose_display(verbose, sym.Eq(sym_equation_dVx, 0))\n",
    "    verbose_display(verbose, sym.Eq(sym_equation_dOx, 0))\n",
    "\n",
    "    sym_dVx_to_dPsi = sym.solve(sym_equation_dVx, sym_dVx_symbol)[0]\n",
    "    sym_dVy_to_dPsi = sym_dPsi.diff(sym_z)\n",
    "    sym_dVz_to_dPsi = -sym.I * sym_theta * sym_dPsi\n",
    "    sym_dVx_to_dPsi = sym_dVx_to_dPsi.subs(sym_dVz_symbol, sym_dVz_to_dPsi)\n",
    "\n",
    "    verbose_display(verbose, sym.Eq(sym_dVx_symbol, sym_dVx_to_dPsi))\n",
    "    verbose_display(verbose, sym.Eq(sym_dVy_symbol, sym_dVy_to_dPsi))\n",
    "    verbose_display(verbose, sym.Eq(sym_dVz_symbol, sym_dVz_to_dPsi))\n",
    "\n",
    "    substitutions_dV_to_dPsi = ((sym_dVx_symbol, sym_dVx_to_dPsi), (sym_dVy_symbol, sym_dVy_to_dPsi), (sym_dVz_symbol, sym_dVz_to_dPsi))\n",
    "    sym_equation_dPsi = substitute(sym_equation_dOx, substitutions_dV_to_dPsi)\n",
    "    sym_equation_dPsi = sym_equation_dPsi.simplify()\n",
    "\n",
    "    over_prefactor = sym.exp(-sym.I * sym_theta * sym_y - sym_lambda * sym_t)\n",
    "    sym_equation_dPsi = sym_equation_dPsi * over_prefactor\n",
    "    sym_equation_dPsi = sym_equation_dPsi.simplify()\n",
    "\n",
    "    sym_equation_dPsi = sym_equation_dPsi.simplify().simplify()\n",
    "    sym_equation_dPsi = simplify_eq_with_assumptions(sym.Eq(sym_equation_dPsi, 0)).lhs\n",
    "    sym_equation_dPsi = sym_equation_dPsi.simplify()\n",
    "\n",
    "    verbose_print(verbose, \"Final equation: \")\n",
    "    verbose_display(verbose, sym.Eq(sym_equation_dPsi, 0))\n",
    "\n",
    "    return sym_equation_dPsi, substitutions_dV_to_dPsi\n",
    "\n",
    "def dispersion_law(small_theta_factor = None, verbose = False):\n",
    "\n",
    "    print_substitutions(substitutions_dimensionless)\n",
    "\n",
    "    sym_equation_dPsi, substitutions_dV_to_dPsi = get_equation_dPsi(verbose = verbose)\n",
    "\n",
    "    sym_d2z_dPsi_expr = sym.solve(sym_equation_dPsi, sym_d2z_dPsi)[0]\n",
    "    verbose_display(verbose, sym.Eq(sym_d2z_dPsi, sym_d2z_dPsi_expr))\n",
    "\n",
    "\n",
    "\n",
    "    # First boundary condition\n",
    "    verbose_print(verbose, 'First bc: ')\n",
    "    sym_bc_1 = sym_bc_1_initial\n",
    "    verbose_display(verbose, sym_bc_1)\n",
    "    sym_bc_1 = substitute(sym_bc_1, substitutions_dV_to_dPsi).simplify()\n",
    "    verbose_display(verbose, sym_bc_1)\n",
    "    # Dimensionless\n",
    "    sym_bc_1 = substitute(sym_bc_1, substitutions_dimensionless)\n",
    "    sym_bc_1 = sym_bc_1.simplify()\n",
    "    verbose_display(verbose, sym_bc_1)\n",
    " \n",
    "    # Second boundary condition\n",
    "    verbose_print(verbose, 'Second bc: ')\n",
    "    sym_bc_2 = sym_bc_2_initial\n",
    "    verbose_display(verbose, sym_bc_2)\n",
    "    substitutions_dp = ((sym_dp_symbol, sym_dp), (sym_dp_int_symbol, sym_dp_int))\n",
    "    sym_bc_2 = substitute(sym_bc_2, substitutions_dp).simplify()\n",
    "    verbose_display(verbose, sym_bc_2)\n",
    "    sym_bc_2 = substitute(sym_bc_2, substitutions_dV_to_dPsi).simplify()\n",
    "    verbose_display(verbose, sym_bc_2)\n",
    "    sym_bc_2 = sym_bc_2.replace(sym_d2z_dPsi, sym_d2z_dPsi_expr).simplify()\n",
    "    sym_bc_2 = simplify_eq_with_assumptions(sym.Eq(sym_bc_2, 0)).lhs\n",
    "    verbose_display(verbose, sym_bc_2)\n",
    "    # Dimensionless\n",
    "    sym_bc_2 = substitute(sym_bc_2, substitutions_dimensionless)\n",
    "    sym_bc_2 = sym_bc_2.simplify()\n",
    "    verbose_display(verbose, sym_bc_2)\n",
    "\n",
    "\n",
    "    sym_dp_int_dim = sym_bc_2.find(sym.Integral)\n",
    "    sym_dp_int_dim = sym_dp_int_dim.pop() if sym_dp_int_dim else sym.S.Zero\n",
    "    sym_bc_2 = sym_bc_2.subs(sym_dp_int_dim, sym_dp_int_dim_symbol).simplify()\n",
    "    sym_bc_2 = simplify_eq_with_assumptions(sym.Eq(sym_bc_2, 0)).lhs\n",
    "    verbose_display(verbose, sym_bc_2)\n",
    "    verbose_display(verbose, sym.Eq(sym_dp_int_dim_symbol, sym_dp_int_dim, evaluate = False))\n",
    "\n",
    "    # Dimensionless\n",
    "    sym_equation_dPsi = substitute(sym_equation_dPsi, substitutions_dimensionless).simplify()\n",
    "    verbose_display(verbose, sym_equation_dPsi)\n",
    "\n",
    "    return sym_bc_1, sym_bc_2\n",
    "\n",
    "    # # Equation for lambda\n",
    "        \n",
    "        # verbose_display(verbose, sym_bc_1)\n",
    "        \n",
    "\n",
    "    #     sym_bc_matrix = sym.linear_eq_to_matrix([sym_bc_1, sym_bc_2], [sym_h_dim, sym_psi_dim])[0]\n",
    "    #     sym_eq_mu = sym_bc_matrix.det()\n",
    "    #     sym_eq_mu = sym_eq_mu.simplify()\n",
    "    #     sym_eq_mu = simplify_eq_with_assumptions(sym.Eq(sym_eq_mu, 0))\n",
    "    #     sym_eq_mu = sym_eq_mu.lhs\n",
    "    #     sym_eq_mu = sym_eq_mu.simplify()\n",
    "    #     verbose_display(verbose, sym_eq_mu)\n",
    "    \n",
    "    \n",
    "    # else:\n",
    "    #     substitutions_dimensionless = None\n",
    "\n",
    "\n",
    "\n",
    "        \n",
    "\n",
    "    # return sym_d2z_dPsi_expr, sym_eq_mu, sym_dp_int_dim\n"
   ]
  },
  {
   "cell_type": "code",
   "execution_count": 14,
   "metadata": {},
   "outputs": [
    {
     "name": "stdout",
     "output_type": "stream",
     "text": [
      "Substitutions: \n",
      "Initial wave: \n"
     ]
    },
    {
     "data": {
      "text/latex": [
       "$\\displaystyle \\phi^{\\scriptsize{(0)}} = \\psi^{\\scriptsize{(0)}} e^{- i \\omega t + i x + z}$"
      ],
      "text/plain": [
       "Eq(\\phi^{\\scriptsize{(0)}}, \\psi^{\\scriptsize{(0)}}*exp(-I*\\omega*t + I*x + z))"
      ]
     },
     "metadata": {},
     "output_type": "display_data"
    },
    {
     "data": {
      "text/latex": [
       "$\\displaystyle U^{s0}_x = \\omega \\left(h^{\\scriptsize{(0)}}\\right)^{2} e^{2 z}$"
      ],
      "text/plain": [
       "Eq(U^{s0}_x, \\omega*h^{\\scriptsize{(0)}}**2*exp(2*z))"
      ]
     },
     "metadata": {},
     "output_type": "display_data"
    },
    {
     "name": "stdout",
     "output_type": "stream",
     "text": [
      "Oblique wave: \n"
     ]
    },
    {
     "data": {
      "text/latex": [
       "$\\displaystyle \\delta{\\phi} = \\delta\\psi e^{\\lambda t} e^{- i \\omega t + i \\theta y + i x + z \\sqrt{\\theta^{2} + 1}}$"
      ],
      "text/plain": [
       "Eq(\\delta{\\phi}, \\delta\\psi*exp(\\lambda*t)*exp(-I*\\omega*t + I*\\theta*y + I*x + z*sqrt(\\theta**2 + 1)))"
      ]
     },
     "metadata": {},
     "output_type": "display_data"
    },
    {
     "data": {
      "text/latex": [
       "$\\displaystyle \\delta U^{s}_{x} = i \\delta\\psi h^{\\scriptsize{(0)}} \\left(\\sqrt{\\theta^{2} + 1} + 1\\right) e^{\\lambda t + i \\theta y + z \\sqrt{\\theta^{2} + 1} + z}$"
      ],
      "text/plain": [
       "Eq(\\delta U^s_x, I*\\delta\\psi*h^{\\scriptsize{(0)}}*(sqrt(\\theta**2 + 1) + 1)*exp(\\lambda*t + I*\\theta*y + z*sqrt(\\theta**2 + 1) + z))"
      ]
     },
     "metadata": {},
     "output_type": "display_data"
    },
    {
     "data": {
      "text/latex": [
       "$\\displaystyle \\delta U^{s}_{y} = \\frac{\\delta\\psi \\theta h^{\\scriptsize{(0)}} \\left(\\sqrt{- \\theta^{2} - 1} + i\\right) e^{\\lambda t + i \\theta y + z \\sqrt{\\theta^{2} + 1} + z}}{2}$"
      ],
      "text/plain": [
       "Eq(\\delta U^s_y, \\delta\\psi*\\theta*h^{\\scriptsize{(0)}}*(sqrt(-\\theta**2 - 1) + I)*exp(\\lambda*t + I*\\theta*y + z*sqrt(\\theta**2 + 1) + z)/2)"
      ]
     },
     "metadata": {},
     "output_type": "display_data"
    },
    {
     "data": {
      "text/latex": [
       "$\\displaystyle \\delta{f^V}_x = 0$"
      ],
      "text/plain": [
       "Eq(\\delta{f^V}_x, 0)"
      ]
     },
     "metadata": {},
     "output_type": "display_data"
    },
    {
     "data": {
      "text/latex": [
       "$\\displaystyle \\delta{f^V}_y = i \\omega \\theta \\left(h^{\\scriptsize{(0)}}\\right)^{2} \\delta{V}_x{\\left(z \\right)} e^{\\lambda t + i \\theta y + 2 z}$"
      ],
      "text/plain": [
       "Eq(\\delta{f^V}_y, I*\\omega*\\theta*h^{\\scriptsize{(0)}}**2*\\delta{V}_x(z)*exp(\\lambda*t + I*\\theta*y + 2*z))"
      ]
     },
     "metadata": {},
     "output_type": "display_data"
    },
    {
     "data": {
      "text/latex": [
       "$\\displaystyle \\delta{f^V}_z = \\omega \\left(h^{\\scriptsize{(0)}}\\right)^{2} e^{\\lambda t + i \\theta y + 2 z} \\frac{d}{d z} \\delta{V}_x{\\left(z \\right)}$"
      ],
      "text/plain": [
       "Eq(\\delta{f^V}_z, \\omega*h^{\\scriptsize{(0)}}**2*exp(\\lambda*t + I*\\theta*y + 2*z)*Derivative(\\delta{V}_x(z), z))"
      ]
     },
     "metadata": {},
     "output_type": "display_data"
    },
    {
     "data": {
      "text/latex": [
       "$\\displaystyle \\big(\\operatorname{curl}\\delta{f^V}\\big)_x = - 2 i \\omega \\theta \\left(h^{\\scriptsize{(0)}}\\right)^{2} \\delta{V}_x{\\left(z \\right)} e^{\\lambda t + i \\theta y + 2 z}$"
      ],
      "text/plain": [
       "Eq(\\big(\\operatorname{curl}\\delta{f^V}\\big)_x, -2*I*\\omega*\\theta*h^{\\scriptsize{(0)}}**2*\\delta{V}_x(z)*exp(\\lambda*t + I*\\theta*y + 2*z))"
      ]
     },
     "metadata": {},
     "output_type": "display_data"
    },
    {
     "data": {
      "text/latex": [
       "$\\displaystyle \\big(\\operatorname{curl}\\delta{f^V}\\big)_y = 0$"
      ],
      "text/plain": [
       "Eq(\\big(\\operatorname{curl}\\delta{f^V}\\big)_y, 0)"
      ]
     },
     "metadata": {},
     "output_type": "display_data"
    },
    {
     "data": {
      "text/latex": [
       "$\\displaystyle \\big(\\operatorname{curl}\\delta{f^V}\\big)_z = 0$"
      ],
      "text/plain": [
       "Eq(\\big(\\operatorname{curl}\\delta{f^V}\\big)_z, 0)"
      ]
     },
     "metadata": {},
     "output_type": "display_data"
    },
    {
     "name": "stdout",
     "output_type": "stream",
     "text": [
      "Initial equations: \n"
     ]
    },
    {
     "data": {
      "text/latex": [
       "$\\displaystyle \\lambda \\delta{V}_x{\\left(z \\right)} e^{\\lambda t + i \\theta y} = 0$"
      ],
      "text/plain": [
       "Eq(\\lambda*\\delta{V}_x(z)*exp(\\lambda*t + I*\\theta*y), 0)"
      ]
     },
     "metadata": {},
     "output_type": "display_data"
    },
    {
     "data": {
      "text/latex": [
       "$\\displaystyle \\left(i \\lambda \\theta \\delta{V}_z{\\left(z \\right)} - \\lambda \\frac{d}{d z} \\delta{V}_y{\\left(z \\right)} + 2 i \\omega \\theta \\left(h^{\\scriptsize{(0)}}\\right)^{2} \\delta{V}_x{\\left(z \\right)} e^{2 z}\\right) e^{\\lambda t + i \\theta y} = 0$"
      ],
      "text/plain": [
       "Eq((I*\\lambda*\\theta*\\delta{V}_z(z) - \\lambda*Derivative(\\delta{V}_y(z), z) + 2*I*\\omega*\\theta*h^{\\scriptsize{(0)}}**2*\\delta{V}_x(z)*exp(2*z))*exp(\\lambda*t + I*\\theta*y), 0)"
      ]
     },
     "metadata": {},
     "output_type": "display_data"
    },
    {
     "data": {
      "text/latex": [
       "$\\displaystyle \\delta{V}_x{\\left(z \\right)} = 0$"
      ],
      "text/plain": [
       "Eq(\\delta{V}_x(z), 0)"
      ]
     },
     "metadata": {},
     "output_type": "display_data"
    },
    {
     "data": {
      "text/latex": [
       "$\\displaystyle \\delta{V}_y{\\left(z \\right)} = \\frac{d}{d z} \\delta\\Psi{\\left(z \\right)}$"
      ],
      "text/plain": [
       "Eq(\\delta{V}_y(z), Derivative(\\delta\\Psi(z), z))"
      ]
     },
     "metadata": {},
     "output_type": "display_data"
    },
    {
     "data": {
      "text/latex": [
       "$\\displaystyle \\delta{V}_z{\\left(z \\right)} = - i \\theta \\delta\\Psi{\\left(z \\right)}$"
      ],
      "text/plain": [
       "Eq(\\delta{V}_z(z), -I*\\theta*\\delta\\Psi(z))"
      ]
     },
     "metadata": {},
     "output_type": "display_data"
    },
    {
     "name": "stdout",
     "output_type": "stream",
     "text": [
      "Final equation: \n"
     ]
    },
    {
     "data": {
      "text/latex": [
       "$\\displaystyle \\theta^{2} \\delta\\Psi{\\left(z \\right)} - \\frac{d^{2}}{d z^{2}} \\delta\\Psi{\\left(z \\right)} = 0$"
      ],
      "text/plain": [
       "Eq(\\theta**2*\\delta\\Psi(z) - Derivative(\\delta\\Psi(z), (z, 2)), 0)"
      ]
     },
     "metadata": {},
     "output_type": "display_data"
    },
    {
     "data": {
      "text/latex": [
       "$\\displaystyle \\frac{d^{2}}{d z^{2}} \\delta\\Psi{\\left(z \\right)} = \\theta^{2} \\delta\\Psi{\\left(z \\right)}$"
      ],
      "text/plain": [
       "Eq(Derivative(\\delta\\Psi(z), (z, 2)), \\theta**2*\\delta\\Psi(z))"
      ]
     },
     "metadata": {},
     "output_type": "display_data"
    },
    {
     "name": "stdout",
     "output_type": "stream",
     "text": [
      "First bc: \n"
     ]
    },
    {
     "data": {
      "text/latex": [
       "$\\displaystyle - \\alpha h^{\\scriptsize{(0)}} \\frac{d}{d z} \\delta{V}_z{\\left(z \\right)} - \\delta\\psi \\sqrt{\\theta^{2} + 1} + \\delta\\xi \\left(\\lambda - i \\omega\\right)$"
      ],
      "text/plain": [
       "-\\alpha*h^{\\scriptsize{(0)}}*Derivative(\\delta{V}_z(z), z) - \\delta\\psi*sqrt(\\theta**2 + 1) + \\delta\\xi*(\\lambda - I*\\omega)"
      ]
     },
     "metadata": {},
     "output_type": "display_data"
    },
    {
     "data": {
      "text/latex": [
       "$\\displaystyle i \\alpha \\theta h^{\\scriptsize{(0)}} \\frac{d}{d z} \\delta\\Psi{\\left(z \\right)} - \\delta\\psi \\sqrt{\\theta^{2} + 1} + \\delta\\xi \\left(\\lambda - i \\omega\\right)$"
      ],
      "text/plain": [
       "I*\\alpha*\\theta*h^{\\scriptsize{(0)}}*Derivative(\\delta\\Psi(z), z) - \\delta\\psi*sqrt(\\theta**2 + 1) + \\delta\\xi*(\\lambda - I*\\omega)"
      ]
     },
     "metadata": {},
     "output_type": "display_data"
    },
    {
     "data": {
      "text/latex": [
       "$\\displaystyle i \\alpha \\theta h^{\\scriptsize{(0)}} \\frac{d}{d z} \\delta\\Psi{\\left(z \\right)} - \\delta\\psi \\sqrt{\\theta^{2} + 1} + \\delta\\xi \\left(\\lambda - i \\omega\\right)$"
      ],
      "text/plain": [
       "I*\\alpha*\\theta*h^{\\scriptsize{(0)}}*Derivative(\\delta\\Psi(z), z) - \\delta\\psi*sqrt(\\theta**2 + 1) + \\delta\\xi*(\\lambda - I*\\omega)"
      ]
     },
     "metadata": {},
     "output_type": "display_data"
    },
    {
     "name": "stdout",
     "output_type": "stream",
     "text": [
      "Second bc: \n"
     ]
    },
    {
     "data": {
      "text/latex": [
       "$\\displaystyle \\delta\\psi \\left(\\lambda - i \\omega\\right) + \\delta\\xi g - \\delta{p}^{\\varpi}$"
      ],
      "text/plain": [
       "\\delta\\psi*(\\lambda - I*\\omega) + \\delta\\xi*g - \\delta{p}^{\\varpi}"
      ]
     },
     "metadata": {},
     "output_type": "display_data"
    },
    {
     "data": {
      "text/latex": [
       "$\\displaystyle \\frac{- i \\alpha \\psi^{\\scriptsize{(0)}} \\frac{d}{d z} \\delta{V}_x{\\left(z \\right)} + i \\alpha \\psi^{\\scriptsize{(0)}} \\int\\limits_{-\\infty}^{0} \\left(- \\theta^{2} \\delta{V}_x{\\left(z \\right)} + i \\theta^{2} \\delta{V}_z{\\left(z \\right)} + \\frac{d^{2}}{d z^{2}} \\delta{V}_x{\\left(z \\right)} - i \\frac{d^{2}}{d z^{2}} \\delta{V}_z{\\left(z \\right)}\\right) e^{z} e^{z \\sqrt{\\theta^{2} + 1}}\\, dz + \\sqrt{\\theta^{2} + 1} \\left(\\delta\\psi \\left(\\lambda - i \\omega\\right) + \\delta\\xi g\\right)}{\\sqrt{\\theta^{2} + 1}}$"
      ],
      "text/plain": [
       "(-I*\\alpha*\\psi^{\\scriptsize{(0)}}*Derivative(\\delta{V}_x(z), z) + I*\\alpha*\\psi^{\\scriptsize{(0)}}*Integral((-\\theta**2*\\delta{V}_x(z) + I*\\theta**2*\\delta{V}_z(z) + Derivative(\\delta{V}_x(z), (z, 2)) - I*Derivative(\\delta{V}_z(z), (z, 2)))*exp(z)*exp(z*sqrt(\\theta**2 + 1)), (z, -oo, 0)) + sqrt(\\theta**2 + 1)*(\\delta\\psi*(\\lambda - I*\\omega) + \\delta\\xi*g))/sqrt(\\theta**2 + 1)"
      ]
     },
     "metadata": {},
     "output_type": "display_data"
    },
    {
     "data": {
      "text/latex": [
       "$\\displaystyle \\frac{- i \\alpha \\psi^{\\scriptsize{(0)}} \\theta \\int\\limits_{-\\infty}^{0} \\left(- \\theta^{2} \\delta\\Psi{\\left(z \\right)} e^{z} e^{z \\sqrt{\\theta^{2} + 1}} + e^{z} e^{z \\sqrt{\\theta^{2} + 1}} \\frac{d^{2}}{d z^{2}} \\delta\\Psi{\\left(z \\right)}\\right)\\, dz + \\sqrt{\\theta^{2} + 1} \\left(\\delta\\psi \\left(\\lambda - i \\omega\\right) + \\delta\\xi g\\right)}{\\sqrt{\\theta^{2} + 1}}$"
      ],
      "text/plain": [
       "(-I*\\alpha*\\psi^{\\scriptsize{(0)}}*\\theta*Integral(-\\theta**2*\\delta\\Psi(z)*exp(z)*exp(z*sqrt(\\theta**2 + 1)) + exp(z)*exp(z*sqrt(\\theta**2 + 1))*Derivative(\\delta\\Psi(z), (z, 2)), (z, -oo, 0)) + sqrt(\\theta**2 + 1)*(\\delta\\psi*(\\lambda - I*\\omega) + \\delta\\xi*g))/sqrt(\\theta**2 + 1)"
      ]
     },
     "metadata": {},
     "output_type": "display_data"
    },
    {
     "data": {
      "text/latex": [
       "$\\displaystyle \\delta\\psi \\lambda - i \\delta\\psi \\omega + \\delta\\xi g$"
      ],
      "text/plain": [
       "\\delta\\psi*\\lambda - I*\\delta\\psi*\\omega + \\delta\\xi*g"
      ]
     },
     "metadata": {},
     "output_type": "display_data"
    },
    {
     "data": {
      "text/latex": [
       "$\\displaystyle \\delta\\psi \\lambda - i \\delta\\psi \\omega + \\delta\\xi g$"
      ],
      "text/plain": [
       "\\delta\\psi*\\lambda - I*\\delta\\psi*\\omega + \\delta\\xi*g"
      ]
     },
     "metadata": {},
     "output_type": "display_data"
    },
    {
     "data": {
      "text/latex": [
       "$\\displaystyle \\delta\\psi \\lambda - i \\delta\\psi \\omega + \\delta\\xi g$"
      ],
      "text/plain": [
       "\\delta\\psi*\\lambda - I*\\delta\\psi*\\omega + \\delta\\xi*g"
      ]
     },
     "metadata": {},
     "output_type": "display_data"
    },
    {
     "data": {
      "text/latex": [
       "$\\displaystyle \\overline{\\delta{p}}^{\\varpi}_{int} = 0$"
      ],
      "text/plain": [
       "Eq(\\overline{\\delta{p}}^{\\varpi}_{int}, 0)"
      ]
     },
     "metadata": {},
     "output_type": "display_data"
    },
    {
     "data": {
      "text/latex": [
       "$\\displaystyle \\theta^{2} \\delta\\Psi{\\left(z \\right)} - \\frac{d^{2}}{d z^{2}} \\delta\\Psi{\\left(z \\right)}$"
      ],
      "text/plain": [
       "\\theta**2*\\delta\\Psi(z) - Derivative(\\delta\\Psi(z), (z, 2))"
      ]
     },
     "metadata": {},
     "output_type": "display_data"
    }
   ],
   "source": [
    "sym_bc_1, sym_bc_2 = dispersion_law(small_theta_factor = None, verbose = True)"
   ]
  },
  {
   "cell_type": "code",
   "execution_count": 8,
   "metadata": {},
   "outputs": [],
   "source": [
    "def check_alpha_zero_epsilon_zero():\n",
    "    sym_bc_1_alpha_zero = sym_bc_1.replace(sym_alpha, 0)\n",
    "    sym_bc_2_alpha_zero = sym_bc_2.replace(sym_alpha, 0)\n",
    "    display(sym_bc_1_alpha_zero)\n",
    "    display(sym_bc_2_alpha_zero)\n",
    "    print()\n",
    "    sym_bc_2_alpha_zero = sym_bc_2_alpha_zero.args[-1]\n",
    "    sym_bc_1_alpha_zero = sym_bc_1_alpha_zero.args[-1]\n",
    "    display(sym_bc_1_alpha_zero)\n",
    "    display(sym_bc_2_alpha_zero)\n",
    "    print()\n",
    "    sym_bc_1_alpha_zero_eps_zero = sym_bc_1_alpha_zero.replace(sym_epsilon, 0)\n",
    "    sym_bc_2_alpha_zero_eps_zero = sym_bc_2_alpha_zero.replace(sym_epsilon, 0)\n",
    "    display(sym_bc_1_alpha_zero_eps_zero)\n",
    "    display(sym_bc_2_alpha_zero_eps_zero)"
   ]
  },
  {
   "cell_type": "code",
   "execution_count": 9,
   "metadata": {},
   "outputs": [
    {
     "data": {
      "text/latex": [
       "$\\displaystyle \\frac{h^{\\scriptsize{(0)}} \\left(- 4 \\tilde{\\psi} \\sqrt{\\theta^{2} + 1} + \\tilde{h} \\left(4 \\tilde{\\lambda} + i \\left(\\epsilon - 4\\right)\\right)\\right)}{4}$"
      ],
      "text/plain": [
       "h^{\\scriptsize{(0)}}*(-4*\\tilde{\\psi}*sqrt(\\theta**2 + 1) + \\tilde{h}*(4*\\tilde{\\lambda} + I*(\\epsilon - 4)))/4"
      ]
     },
     "metadata": {},
     "output_type": "display_data"
    },
    {
     "data": {
      "text/latex": [
       "$\\displaystyle \\tilde{\\lambda}^{3} \\left(\\epsilon + 4\\right) \\left(2 i \\epsilon \\tilde{\\psi} - \\sqrt{\\theta^{2} + 1} \\left(\\tilde{\\psi} \\left(4 \\tilde{\\lambda} + i \\left(\\epsilon - 4\\right)\\right) + 4 \\tilde{h}\\right)\\right)$"
      ],
      "text/plain": [
       "\\tilde{\\lambda}**3*(\\epsilon + 4)*(2*I*\\epsilon*\\tilde{\\psi} - sqrt(\\theta**2 + 1)*(\\tilde{\\psi}*(4*\\tilde{\\lambda} + I*(\\epsilon - 4)) + 4*\\tilde{h}))"
      ]
     },
     "metadata": {},
     "output_type": "display_data"
    },
    {
     "name": "stdout",
     "output_type": "stream",
     "text": [
      "\n"
     ]
    },
    {
     "data": {
      "text/latex": [
       "$\\displaystyle - 4 \\tilde{\\psi} \\sqrt{\\theta^{2} + 1} + \\tilde{h} \\left(4 \\tilde{\\lambda} + i \\left(\\epsilon - 4\\right)\\right)$"
      ],
      "text/plain": [
       "-4*\\tilde{\\psi}*sqrt(\\theta**2 + 1) + \\tilde{h}*(4*\\tilde{\\lambda} + I*(\\epsilon - 4))"
      ]
     },
     "metadata": {},
     "output_type": "display_data"
    },
    {
     "data": {
      "text/latex": [
       "$\\displaystyle 2 i \\epsilon \\tilde{\\psi} - \\sqrt{\\theta^{2} + 1} \\left(\\tilde{\\psi} \\left(4 \\tilde{\\lambda} + i \\left(\\epsilon - 4\\right)\\right) + 4 \\tilde{h}\\right)$"
      ],
      "text/plain": [
       "2*I*\\epsilon*\\tilde{\\psi} - sqrt(\\theta**2 + 1)*(\\tilde{\\psi}*(4*\\tilde{\\lambda} + I*(\\epsilon - 4)) + 4*\\tilde{h})"
      ]
     },
     "metadata": {},
     "output_type": "display_data"
    },
    {
     "name": "stdout",
     "output_type": "stream",
     "text": [
      "\n"
     ]
    },
    {
     "data": {
      "text/latex": [
       "$\\displaystyle - 4 \\tilde{\\psi} \\sqrt{\\theta^{2} + 1} + \\tilde{h} \\left(4 \\tilde{\\lambda} - 4 i\\right)$"
      ],
      "text/plain": [
       "-4*\\tilde{\\psi}*sqrt(\\theta**2 + 1) + \\tilde{h}*(4*\\tilde{\\lambda} - 4*I)"
      ]
     },
     "metadata": {},
     "output_type": "display_data"
    },
    {
     "data": {
      "text/latex": [
       "$\\displaystyle - \\sqrt{\\theta^{2} + 1} \\left(\\tilde{\\psi} \\left(4 \\tilde{\\lambda} - 4 i\\right) + 4 \\tilde{h}\\right)$"
      ],
      "text/plain": [
       "-sqrt(\\theta**2 + 1)*(\\tilde{\\psi}*(4*\\tilde{\\lambda} - 4*I) + 4*\\tilde{h})"
      ]
     },
     "metadata": {},
     "output_type": "display_data"
    }
   ],
   "source": [
    "check_alpha_zero_epsilon_zero()"
   ]
  }
 ],
 "metadata": {
  "kernelspec": {
   "display_name": "Python 3",
   "language": "python",
   "name": "python3"
  },
  "language_info": {
   "codemirror_mode": {
    "name": "ipython",
    "version": 3
   },
   "file_extension": ".py",
   "mimetype": "text/x-python",
   "name": "python",
   "nbconvert_exporter": "python",
   "pygments_lexer": "ipython3",
   "version": "3.10.12"
  }
 },
 "nbformat": 4,
 "nbformat_minor": 2
}
